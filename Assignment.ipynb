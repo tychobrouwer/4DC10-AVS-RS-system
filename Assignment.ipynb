{
 "cells": [
  {
   "cell_type": "markdown",
   "metadata": {},
   "source": [
    "**To make the assignment, first run the code below to import the right libraries.**"
   ]
  },
  {
   "cell_type": "code",
   "execution_count": 1,
   "id": "9773d3b9",
   "metadata": {},
   "outputs": [
    {
     "name": "stdout",
     "output_type": "stream",
     "text": [
      "PyCh version 2.1 imported succesfully.\n",
      " \n"
     ]
    }
   ],
   "source": [
    "# =================================\n",
    "# Imports\n",
    "# =================================\n",
    "from PyCh import *\n",
    "from numpy import random\n",
    "from dataclasses import dataclass\n",
    "%matplotlib ipympl\n",
    "from matplotlib import pyplot\n",
    "import math"
   ]
  },
  {
   "cell_type": "markdown",
   "id": "c38c064e",
   "metadata": {},
   "source": [
    "<h1><center> 4DC10. Intermediate assignment</center></h1>\n",
    "<h2><center> Modeling and simulation of an autonomous vehicle storage and retrieval system</center></h2>\n",
    "    \n",
    "# 1 Subject\n",
    "\n",
    "Today's competitive environment, in which deliveries need to be faster and order sizes become smaller, forces material handling providers to progressively develop new and better solutions. A recent development in automated material-handling technology for unit load storage and retrieval is the autonomous vehicle storage and retrieval system (AVS/RS). Figure 1 shows a representation of an AVS/RS for the handling of totes, while Figure 2 illustrates a single tier (floor, level). The storage racks are single-deep and double-sided. Each storage position is of the same size and can hold one tote. Lifts are mounted at fixed locations at one end of each storage aisle. The input/output (I/O) point is located at the first tier beside each lift. Autonomous vehicles are dedicated to a storage aisle within a specific tier (so-called tier-captive configuration). The first position on either side of the storage aisle in all tiers serves as a buffer and is used to manage the transfer of totes between vehicles and lifts (see Figure 2). One buffer (out) handles totes which have been retrieved, the other one (in), located on the other side of the storage aisle, handles the totes to be stored. The presence of these buffers allows the lift and vehicle to work independently of each other. \n",
    "\n",
    "The throughput performance of AVS/RS systems can be affected by design decisions (such as number of tiers, number of aisles, and depth of aisles) as well as operational decisions (such as tote storage location and order assignment).\n",
    "\n",
    "Figure 1: AVS/RS with tier-captive configuration [1] | Figure 2: Single tier in AVS/RS [1]\n",
    "- | - \n",
    "<img src=\"figures/avs.png\" alt=\"drawing\" width=\"400\"/> | <img src=\"figures/avrs2.png\" alt=\"drawing\" width=\"400\"/>\n",
    "\n",
    "\n"
   ]
  },
  {
   "cell_type": "markdown",
   "id": "b6e6fdb8",
   "metadata": {},
   "source": [
    "# 2 Goal\n",
    "The goal of this assignment is to study this new material handling solution by using computer simulation. This study can be restricted to the retrieval process only, i.e., the vehicles perform only single retrieval cycles. Clearly, the retrieval phase is the most critical activity from an organisational viewpoint, as it is directly related to customer service level and &mdash; in contrast to the storage phase &mdash; it cannot be postponed to a period of low workload. \n",
    "\n",
    "The objectives of this assignment can be summarized as follows:\n",
    "- Develop a simulation model of one aisle that consists of several tiers with retrieval process to assess the system performance in terms of throughput and flow time.\n",
    "- Systematically develop the model process by process, and verify and validate each process using analytical results.\n",
    "- Investigate design trade-offs, i.e., via different layouts (number of columns and tiers), for this material handling system."
   ]
  },
  {
   "cell_type": "markdown",
   "id": "a3086f5f",
   "metadata": {},
   "source": [
    "# 3 Description of the AVS/RS\n",
    "The AVS/RS is a fully automated system that can store and retrieve unit loads. The unit loads are placed in totes, a type of box, and these totes are placed in a designated aisle and column for storage. When retrieved, an autonomous vehicle places the totes in a buffer at the end of the aisle. There is one autonomous vehicle for every aisle within the tier. This is called the tier-captive configuration. From the buffer, the totes are picked by a lift that serves all tiers in one aisle, see Figure 2. In this assignment only one aisle that consists of $Levels$ tiers has to be modelled. Each aisle has depth number of columns of width $dv$ metres and height $dl$ metres.\n",
    "\n",
    "Requests for a tote arrive for each tier, asking for a tote with a random (uniformly distributed) column assigned to it. The inter arrival time of requests is exponentially distributed with mean value $arrive$.\n",
    "\n",
    "The vehicles transport totes along the aisle (one vehicle per tier). The time taken by the vehicle to process an order depends on the tote's location. The vehicle has to travel to this location, load the tote (it takes a fixed amount of time equal to $lv$ seconds), then go back to the end of the aisle and, finally, unload the tote to the buffer (again this takes $lv$ seconds). The speed profile of each vehicle is described as follows. First, the vehicle goes with a constant acceleration $av$ *m/s$^2$* until it reaches its maximum velocity $vmaxv$, then it moves with this velocity and decelerates with a constant deceleration $av$ to approach its destination point. If the tote is located too close to the end of the aisle, it is possible that the vehicle will not reach its maximum speed.\n",
    "\n",
    "The vehicles unload the totes to a location where it is picked up by the lift. At any given time only one tote per tier is allowed to occupy such a position.\n",
    "\n",
    "The lift transports the totes from every tier to the ground floor. The processing time depends on the tote's location and the fixed time to load and unload the tote ($ll$ seconds for loading and $ll$ seconds for unloading). The maximum speed of the lift is $vmaxl$ $m/s$ with a speed profile similar to that of the vehicles (constant acceleration/deceleration of $al$ *m/s<sup>2</sup>*)."
   ]
  },
  {
   "cell_type": "markdown",
   "id": "eac2874a",
   "metadata": {},
   "source": [
    "# 4 Modeling of the AVS/RS\n",
    "The model consists of several processes communicating via channels, see Figure 3.\n",
    "\n",
    "| Figure 3: The processes in the model | \n",
    "- \n",
    "<img src=\"figures/avrs.png\" alt=\"drawing\" width=\"400\"/> \n",
    "\n",
    "A brief description of the processes is given below:\n",
    "- **G:** The generator models the arrival of orders for totes. There is one generator per tier.\n",
    "- **DB:** The demand buffer stores the orders to be picked up by the vehicles. The vehicle processes the orders under first-come-first-serve policy. It can always receive a tote, but it releases a tote only when the vehicle is ready to pick it up.\n",
    "- **V:** The vehicle can be modeled as a server with a variable processing time.\n",
    "- **GDV:** The process consisting of a Generator, Demand Buffer and Vehicle for one tier of the AVS/RS system.\n",
    "- **B:** The buffer stores the totes from the vehicles awaiting for a pick-up by the lift. The buffer operates under first-come-first-serve policy and has a finite capacity of $bc$ totes per tier. So, every tier has a buffer location of finite capacity of $bc$ totes. All those locations together form the buffer B that accommodates all the totes which are processed by the same lift. When the buffer is not empty (there is at least one tote on one of the tiers), the buffer sends information about the tier of the longest waiting tote to the lift upon request. This information is used by the lift to determine the location of the tote (the number of the tier the tote is located in). Once the lift is ready to pick it up, the tote is released to the lift. There are two types of queues in the buffer: $xs$ contains all the totes to be picked up by the lift and there are $Levels$ counters $n$ counting the totes from the corresponding tier.\n",
    "- **L:** The lift, similar to the process **V**, is modeled as a machine with a variable processing time. A lift first receives a destination tier. Then the process delays for time required for the lift to go to the tote location and pick up the tote. Then it receives the tote, and next it delays for the time required to go to the ground floor and to unload the tote. After that the lift process is ready to release the tote to the Exit process.\n",
    "- **E:** In the exit process all the data related to each tote are collected. This process calculates the average throughput and the average flow-time. The number of totes to be processed by the AVS/RS during one simulation run is determined by the constant $number\\_of\\_orders$."
   ]
  },
  {
   "cell_type": "markdown",
   "id": "be617c9a",
   "metadata": {},
   "source": [
    "# 5 Remark concerning report\n",
    "The assignment must be handed in two ways: a report in PDF with the answers to each question, as well as this jupyter notebook file. The report has to contain concise answers to the questions posed. Avoid unnecessary long explanations, however answers to analytical questions without an argument will result in no points. Include all important python code in your report, but only include code of the processes you have modified (e.g. the Generator process in Exercise 6.1.b). Failing to submit both the PDF and notebook files will result in a point reduction. \n",
    "\n",
    "Note that some of the simulations in the last few exercises can take some time to run, so plan accordingly.\n"
   ]
  },
  {
   "cell_type": "markdown",
   "id": "4fc39f62",
   "metadata": {},
   "source": [
    "# 6 Assignment\n",
    "When making a PyCh specification, one does not build an entire model and then starts debugging. A model is build step by step. During each step proper functionality is checked. We therefore model one process at a time, and connect the process with a Generator and/or Exit process to test proper functionality. In order to test proper functionality we first use analytical methods to determine the expected outcome. Then we run simulations to verify if these outcomes are indeed obtained. If that is the case, we can be more convinced that the process has been modeled correctly.\n",
    "\n",
    "**Warning: printing millions of lines of text can cause problems when opening your jupyter notebook file. If necessary, try printing every 1000th line instead of every line.**"
   ]
  },
  {
   "cell_type": "markdown",
   "id": "af32edfb",
   "metadata": {},
   "source": [
    "## 6.1 Exercise 1: Generator (5 points)\n",
    "So the first step is to write a proper generator for a tier. To that end, the first model we build consists of (only) a Generator process and an Exit process collecting the totes generated by the Generator. The inter arrival time of requests is exponentially distributed with mean $arrive$. The requested tote should be retrieved from a random (uniformly distributed) column, where there are $depth$ columns in total (the columns ranging from 0 till 54)."
   ]
  },
  {
   "cell_type": "markdown",
   "id": "8d043241",
   "metadata": {},
   "source": [
    "a. Determine (analytically) the throughput and flow time that should result from your model with only the generator process and the exit process."
   ]
  },
  {
   "cell_type": "markdown",
   "id": "1dd9e9ec",
   "metadata": {},
   "source": [
    "Answer: thoughput = 1/arrive products/sec, flow time = 0 sec\n",
    "\n"
   ]
  },
  {
   "cell_type": "markdown",
   "id": "964ea240",
   "metadata": {},
   "source": [
    "b. Complete the Generator code in the template below. Confirm that your simulations produce the correct throughput and flow time, and that the minimal and maximal column returned by your simulation are respectively 0 and 54."
   ]
  },
  {
   "cell_type": "code",
   "execution_count": 2,
   "id": "2f226913",
   "metadata": {},
   "outputs": [
    {
     "name": "stdout",
     "output_type": "stream",
     "text": [
      "tote =    100;  Entrytime =  6718.3443;  Column = 15;  Mean throughput =0.014885  Mean flowtime = 0.0000\n",
      "tote =    200;  Entrytime =  12688.0218;  Column = 44;  Mean throughput =0.015763  Mean flowtime = 0.0000\n",
      "tote =    300;  Entrytime =  20106.1647;  Column = 48;  Mean throughput =0.014921  Mean flowtime = 0.0000\n",
      "tote =    400;  Entrytime =  26018.0086;  Column = 11;  Mean throughput =0.015374  Mean flowtime = 0.0000\n",
      "tote =    500;  Entrytime =  32154.0622;  Column = 21;  Mean throughput =0.015550  Mean flowtime = 0.0000\n",
      "tote =    600;  Entrytime =  39341.6985;  Column = 51;  Mean throughput =0.015251  Mean flowtime = 0.0000\n",
      "tote =    700;  Entrytime =  46128.8929;  Column = 12;  Mean throughput =0.015175  Mean flowtime = 0.0000\n",
      "tote =    800;  Entrytime =  52618.1795;  Column = 39;  Mean throughput =0.015204  Mean flowtime = 0.0000\n",
      "tote =    900;  Entrytime =  60286.5735;  Column =  8;  Mean throughput =0.014929  Mean flowtime = 0.0000\n",
      "tote =   1000;  Entrytime =  66584.8364;  Column = 24;  Mean throughput =0.015018  Mean flowtime = 0.0000\n",
      "simulation has ended\n"
     ]
    }
   ],
   "source": [
    "# =================================\n",
    "# Tote\n",
    "# =================================\n",
    "@dataclass\n",
    "class Tote:\n",
    "    entrytime: float = 0.0\n",
    "    column: int = 0\n",
    "\n",
    "\n",
    "# =================================\n",
    "# Generator\n",
    "# =================================\n",
    "@process\n",
    "def Generator(env, c_out, arrive, depth):\n",
    "    while True:\n",
    "        x = Tote(entrytime = env.now, column = random.randint(0, depth))\n",
    "        yield env.execute(c_out.send(x))\n",
    "        delay = random.exponential(arrive)\n",
    "        yield env.timeout(delay)\n",
    "\n",
    "\n",
    "# =================================\n",
    "# Exit\n",
    "# =================================\n",
    "@process\n",
    "def Exit(env, c_in, number_of_orders):\n",
    "    mphi = 0\n",
    "    for i in range(1, number_of_orders + 1):\n",
    "        x = yield env.execute(c_in.receive())\n",
    "        mphi = (i - 1) / i * mphi + (env.now - x.entrytime) / i\n",
    "        \n",
    "        if i % 100 == 0:\n",
    "            print(f\"tote = {i:6d};\"  \n",
    "                f\"  Entrytime = {x.entrytime: 10.4f};\" \n",
    "                f\"  Column = {x.column:2d};\"\n",
    "                f\"  Mean throughput =\" + (f\"{i / env.now:8.6f}\"   if   env.now   else f\"{'N.A.':>8s}\") +\n",
    "                f\"  Mean flowtime = {mphi:6.4f}\"\n",
    "            )\n",
    "\n",
    "\n",
    "# =================================\n",
    "# Model\n",
    "# =================================\n",
    "def model():\n",
    "    # Variables\n",
    "    arrive = 70.0             # inter arrival time of requests\n",
    "    depth  = 55               # the number of columns\n",
    "    \n",
    "    number_of_orders = 1000    # the number of orders to process        \n",
    "\n",
    "    env = Environment()\n",
    "    a = Channel(env)\n",
    "    G = Generator(env, a, arrive, depth)\n",
    "    E = Exit(env, a, number_of_orders)\n",
    "    env.run(until=E)\n",
    "    print (\"simulation has ended\")\n",
    "\n",
    "# =================================\n",
    "# Main\n",
    "# =================================\n",
    "model()\n"
   ]
  },
  {
   "cell_type": "markdown",
   "id": "3d245127",
   "metadata": {},
   "source": [
    "## 6.2 Exercise 2: Demand Buffer (5 points)\n",
    "Next, we include the Demand buffer which is modelled as a standard FIFO buffer with infinite capacity.\n",
    "\n",
    "a. Determine (analytically) the throughput and flow time that should result from your model with only the generator process, demand buffer, and the exit process."
   ]
  },
  {
   "cell_type": "markdown",
   "id": "aad463cd",
   "metadata": {},
   "source": [
    "Answer: \n",
    "\n",
    "<!-- throughput = 1/arrive products/sec, flow time = 0 sec -->\n",
    "$\n",
    "\\text{Throughput} = \\delta = 1/\\text{arrive}\n",
    "$\n",
    "\n",
    "$\n",
    "\\text{Flowtime} = \\phi = 0 \\text{ sec}\n",
    "$\n"
   ]
  },
  {
   "cell_type": "markdown",
   "id": "9eb2127d",
   "metadata": {},
   "source": [
    "b. Complete the simulation code in the template below. Confirm that your simulations produces the same throughput and flow time as determined previously.\n",
    "\n",
    "Note: The previously defined variables and functions remain unchanged, only the Demand Buffer is added, and the main code is changed."
   ]
  },
  {
   "cell_type": "markdown",
   "id": "0f19ab96",
   "metadata": {},
   "source": [
    "Answer:\n",
    "\n",
    "Subsituting the values in the model below we get:\n",
    "\n",
    "$\n",
    "\\text{Throughput} = \\delta = 1/\\text{arrive} = 1/70 = 0.0143 \\text{ products/sec}\n",
    "$\n",
    "\n",
    "$\n",
    "\\text{Flowtime} = \\phi = 0 \\text{ sec}\n",
    "$\n",
    "\n",
    "Running the model for a sufficient number of iterations we retrieve the same results as calculated above."
   ]
  },
  {
   "cell_type": "code",
   "execution_count": 3,
   "id": "f4ca9c03",
   "metadata": {},
   "outputs": [
    {
     "name": "stdout",
     "output_type": "stream",
     "text": [
      "tote =    100;  Entrytime =  6404.9346;  Column = 52;  Mean throughput =0.015613  Mean flowtime = 0.0000\n",
      "simulation has ended\n"
     ]
    }
   ],
   "source": [
    "# =================================\n",
    "# Demand Buffer\n",
    "# =================================\n",
    "@process\n",
    "def Demand_Buffer(env, c_in, c_out):\n",
    "    xs = [] # list of totes\n",
    "\n",
    "    while True:\n",
    "        sending = c_out.send(xs[0]) if len(xs)>0 else None  # If there is an item in the buffer\n",
    "        receiving = c_in.receive()\n",
    "\n",
    "        x = yield env.select(sending, receiving)\n",
    "        if selected(receiving):\n",
    "            xs.append(x)\n",
    "        if selected(sending):\n",
    "            xs.pop(0)\n",
    "\n",
    "\n",
    "# =================================\n",
    "# Model\n",
    "# =================================\n",
    "def model():\n",
    "    # Variables\n",
    "    arrive = 70.0             # inter arrival time of requests\n",
    "    depth  = 55               # the number of columns\n",
    "    \n",
    "    number_of_orders = 100  # the number of orders to process\n",
    "    \n",
    "    env = Environment()\n",
    "    a = Channel(env)\n",
    "    b = Channel(env)\n",
    "    G = Generator(env, a, arrive, depth)\n",
    "    D = Demand_Buffer(env, a, b)\n",
    "    E = Exit(env, b, number_of_orders)\n",
    "    env.run(until=E)\n",
    "    print (\"simulation has ended\")\n",
    "    \n",
    "# =================================\n",
    "# Main\n",
    "# =================================\n",
    "model()"
   ]
  },
  {
   "cell_type": "markdown",
   "metadata": {},
   "source": [
    "## 6.3 Exercise 3: Vehicle as machine (5 points)\n",
    "Next, we include the Vehicle which as a first attempt is modelled as a standard machine with a deterministic processing time of 40.0 seconds. The simulation code for the simplified vehicle is given below.\n",
    "\n",
    "Note: The previously defined variables and functions remain unchanged, only the Vehicle is added, and the main code is changed."
   ]
  },
  {
   "cell_type": "code",
   "execution_count": 4,
   "id": "35b34f6f",
   "metadata": {
    "pycharm": {
     "name": "#%%\n"
    }
   },
   "outputs": [
    {
     "name": "stdout",
     "output_type": "stream",
     "text": [
      "tote =    100;  Entrytime =  6901.1078;  Column = 21;  Mean throughput =0.014407  Mean flowtime = 73.3518\n",
      "simulation has ended\n"
     ]
    }
   ],
   "source": [
    "# =================================\n",
    "# Vehicle\n",
    "# =================================\n",
    "@process\n",
    "def Vehicle(env, c_in, c_out):\n",
    "    tp = 40.0\n",
    "    while True:\n",
    "        tote = yield env.execute(c_in.receive())\n",
    "        yield env.timeout(tp)\n",
    "        yield env.execute(c_out.send(tote))\n",
    "\n",
    "# =================================\n",
    "# Model\n",
    "# =================================\n",
    "def model():\n",
    "    # Variables \n",
    "    arrive = 70.0             # inter arrival time of requests\n",
    "    depth  = 55               # the number of columns\n",
    "\n",
    "    number_of_orders = 100    # the number of orders to process\n",
    "    \n",
    "    env = Environment()\n",
    "    a = Channel(env)\n",
    "    b = Channel(env)\n",
    "    c = Channel(env)\n",
    "    G = Generator(env, a, arrive, depth)\n",
    "    D = Demand_Buffer(env, a, b)\n",
    "    V = Vehicle(env, b, c)\n",
    "    E = Exit(env, c, number_of_orders)\n",
    "    env.run(until=E)\n",
    "    print (\"simulation has ended\")\n",
    "\n",
    "# =================================\n",
    "# Main\n",
    "# =================================\n",
    "model()"
   ]
  },
  {
   "cell_type": "markdown",
   "id": "1c291abe",
   "metadata": {},
   "source": [
    "a. Determine (analytically) the throughput and flow time that should result from your model with only the generator process, demand buffer, vehicle and the exit process."
   ]
  },
  {
   "cell_type": "markdown",
   "id": "8a224d29",
   "metadata": {},
   "source": [
    "Answer:\n",
    "\n",
    "$\n",
    "\\text{Throughput} = \\delta = r_a = \\frac{1}{\\text{arrive}} = \\frac{1}{70} = 0.0143 \\text{ [products/sec]}\n",
    "$\n",
    "\n",
    "$\n",
    "u = \\frac{r_a\\cdot t_e}{1} = \\frac{1/70\\cdot 40}{1} = 4/7\n",
    "$\n",
    "\n",
    "$\n",
    "\\gamma = \\frac{1}{2}\\cdot\\left(c_a^2+c_e^2\\right) = \\frac{1}{2}\\cdot\\left(1+0\\right) = \\frac{1}{2}\n",
    "$\n",
    "\n",
    "$\n",
    "\\phi_B = \\gamma\\cdot\\frac{u}{1-u}\\cdot t_e = \\frac{1}{2}\\cdot\\frac{4/7}{1-4/7}\\cdot 40 = 80/3 \\text{ [sec]}\n",
    "$\n",
    "\n",
    "$\n",
    "\\text{Flowtime} = \\phi = t_e + \\phi_B = 40 + 80/3 = 200/3 = 66.6667 \\text{ [sec]}\n",
    "$"
   ]
  },
  {
   "cell_type": "markdown",
   "id": "52e896c0",
   "metadata": {},
   "source": [
    "b. Run your simulation at least 10 times. Confirm that your analytically determined throughput and flow time are correct.  What are the range of outcomes for the flow time? Determine (roughly, by trial and error) the number of orders required to get a good estimate for the flow time in just one simulation run (first three **non-zero** digits are correct).\n"
   ]
  },
  {
   "cell_type": "markdown",
   "id": "7f7fb25e",
   "metadata": {},
   "source": [
    "Answer:\n",
    "\n",
    "|       1 |        2 |       3 |       4 |        5 |       6 |       7 |       8 |       9 |      10 |\n",
    "| ------- | -------- | ------- | ------- | -------- | ------- | ------- | ------- | ------- | ------- |\n",
    "| 69.1875 | 103.7135 | 54.2485 | 72.0450 | 101.9155 | 69.1207 | 69.5572 | 56.0316 | 55.3002 | 67.9446 |\n",
    "\n",
    "\n",
    "|      11 |       12 |      13 |      14 |       15 |      16 |      17 |      18 |      19 |      20 |\n",
    "| ------- | -------- | ------- | ------- | -------- | ------- | ------- | ------- | ------- | ------- |\n",
    "| 69.1122 |  58.4056 | 62.5730 | 72.4964 |  61.0724 | 71.5027 | 57.3185 | 56.7394 | 60.3617 | 68.3302 |\n",
    "\n",
    "The range between the results is max - min = 103.7135 - 54.2485 = 49.4650\n",
    "\n",
    "So the number of orders required to get a good estimate for the flowtime in just one simulation run is roughly 3000000 when the numerical and analytical solutions are rounded to three digits."
   ]
  },
  {
   "cell_type": "markdown",
   "id": "c37e0910",
   "metadata": {},
   "source": [
    "## 6.4 Exercise 4: Vehicle accurately modelled (15 points)\n",
    "Assume that a vehicle starts from the buffer. If it has to go to column $i \\in \\{0, depth - 1\\}$, it needs to drive a distance $dv \\cdot (i + 1)$, pick up the tote, drive back, and deliver the tote to the buffer. For driving the required distance, the vehicle first goes with a constant acceleration $av$ $[m/s^2]$ until it reaches its maximum velocity $vmaxv$, then it moves with this velocity and decelerates with a constant deceleration $av$ to approach its destination point. If the tote is located too close to the end of the aisle, it is possible that the vehicle will not reach its maximum speed.\n",
    "\n",
    "a. From this information, (analytically) determine the time (in seconds) it takes a vehicle to move a given distance of $x$ meters. To that end, first determine from the acceleration profile the travelled distance as function of time. From that you can determine the time required to travel a given distance. Express the time spent moving (one way) $t_{moving}$ in terms of $x$, $av$ and $vmaxv$. For now we're only interested in the time spent moving one way."
   ]
  },
  {
   "cell_type": "markdown",
   "id": "e2471bc5",
   "metadata": {},
   "source": [
    "\n",
    "Answer:\n",
    "\n",
    "$\n",
    "v = av\\cdot t\n",
    "$\n",
    "\n",
    "$\n",
    "x=\\frac{1}{2}av\\cdot t^2\n",
    "$\n",
    "\n",
    "$\n",
    "t_{accerate} = t_{decelerate} = \\frac{vmaxv}{av}\n",
    "$\n",
    "\n",
    "$\n",
    "x_{accerate} = x_{decelerate} = \\frac{1}{2} av \\cdot t_{accelarate}^2 = \\frac{1}{2} av \\cdot (\\frac{vmaxv}{av})^2 = \\frac{1}{2}\\frac{vmaxv^2}{av}\n",
    "$\n",
    "\n",
    "$\n",
    "x_{acc+dec}=x_{acceration}+x_{deceleration} = \\frac{vmaxv^2}{av}\n",
    "$\n",
    "\n",
    "$x_{acc+dec}$ is the minimum distance where the vehicle reaches its maximum speed during the movement.\n",
    "\n",
    "When the vehicle moves a distance $x$ larger than $x_{acc+dec}$, the vehicle will move with a constant speed $vmaxv$ between acceration and decerelration and the total time can be calculated with\n",
    "\n",
    "$\n",
    "\\Large t_{accelerate} + t_{decelerate} + \\frac{x-x_{acc+dec}}{vmaxv} = 2\\cdot\\frac{vmaxv}{av} + \\frac{x-\\frac{vmaxv^2}{av}}{vmaxv} = \\frac{vmaxv}{av} + \\frac{x}{vmaxv}\n",
    "$\n",
    "\n",
    "When the distance $x$ is smaller than $x_{acc+dec}$, because the acceration and deceration speeds are the same, the total time is twice the time to reach the middle point of the movement. The time to reach the middle point can be calulated with\n",
    "\n",
    "$\n",
    "x_{accerate} = x_{decelerate} = \\frac{x}{2}\n",
    "$\n",
    "\n",
    "$\n",
    "t_{accerating} = t_{decelerating} = \\sqrt{\\frac{2x_{accerate}}{av}} = \\sqrt{\\frac{x}{av}}\n",
    "$\n",
    "\n",
    "$\n",
    "t_{accerating} + t_{decelerating} = 2\\cdot\\sqrt{\\frac{x}{av}}\n",
    "$\n",
    "\n",
    "Now we can calculate the total time to move a distance $x$ with\n",
    "\n",
    "$\n",
    "\\large t_{moving}(x) =\n",
    "    \\begin{cases}\n",
    "      2\\cdot\\sqrt{\\frac{x}{av}} \\ , & \\text{for}\\ x \\leq \\ \\frac{vmaxv^2}{av} \\ , \\\\\n",
    "      \\frac{vmaxv}{av} + \\frac{x}{vmaxv} \\ , & \\text{for}\\ x >    \\ \\frac{vmaxv^2}{av} \\ .\n",
    "    \\end{cases}\n",
    "$\n",
    "\n",
    "\n",
    "\n"
   ]
  },
  {
   "cell_type": "markdown",
   "id": "869e9349",
   "metadata": {},
   "source": [
    "b. Next, if loading and unloading a tote both take $lv$ seconds, determine (analytically) the time it takes a vehicle, starting from the buffer, to pick up a tote from column $i \\in \\{0, depth - 1\\}$ and deliver it to the buffer. Express the total travel time $t_{total}$ in terms of $i$, $dv$, $lv$, $av$, and $vmaxv$. We're now interested in the total travel time, so the time spent moving back and forth."
   ]
  },
  {
   "cell_type": "markdown",
   "id": "7c8ea0be",
   "metadata": {},
   "source": [
    "\n",
    "Answer:\n",
    "\n",
    "$\n",
    "\\large t_{total}(i) =\n",
    "    \\begin{cases}\n",
    "      4\\cdot\\sqrt{\\frac{dv\\cdot(i+1)}{av}} + 2\\cdot lv \\ , & \\text{for} \\ i \\leq \\ \\frac{vmaxv^2}{av\\cdot dv}-1 \\ , \\\\\n",
    "      2\\cdot\\left(\\frac{vmaxv}{av} + \\frac{dv\\cdot(i+1)}{vmaxv}\\right) + 2\\cdot lv \\ , & \\text{for} \\ i >    \\ \\frac{vmaxv^2}{av\\cdot dv}-1 \\ .\n",
    "    \\end{cases}\n",
    "$\n"
   ]
  },
  {
   "cell_type": "markdown",
   "id": "a428eb56",
   "metadata": {},
   "source": [
    "c. First determine the analytical formula for the mean and variance of the total travel time $t_{total}$ for a random (uniformly distributed) column.\n",
    "\n",
    "Then, calculate the numerical mean and variance for the following parameters: $depth = 55$, $lv = 3.0$, $dv = 0.5$, $vmaxv = 1.5$, and $av = 1.0$, using the code below."
   ]
  },
  {
   "cell_type": "markdown",
   "id": "477f767e",
   "metadata": {},
   "source": [
    "Analytical answer:\n",
    "\n",
    "The mean is the sum of the total times for all the columns divided by the number of columns.\n",
    "\n",
    "$\n",
    "\\text{mean} = \\Large\\frac{1}{depth}\\cdot\\sum_{i=0}^{depth-1} t_{total}(i)\n",
    "$\n",
    "\n",
    "$\n",
    "\\text{mean} = \\Large\\frac{1}{depth}\\cdot\\left[\\sum_{i=0}^{\\lfloor\\frac{vmavx^2}{av\\cdot dv}-1\\rfloor} \\left( 4\\cdot\\sqrt{\\frac{dv\\cdot(i+1)}{av}}+2\\cdot lv \\right) + \\sum^{depth-1}_{i=\\lceil\\frac{vmavx^2}{av\\cdot dv}\\rceil} \\left(2\\cdot\\left(\\frac{vmaxv}{av} + \\frac{dv\\cdot(i+1)}{vmaxv}\\right) + 2\\cdot lv \\right)\\right]\n",
    "$\n",
    "\n",
    "$\n",
    "\\text{variance} = \\Large\\frac{1}{depth}\\cdot\\sum_{i=0}^{depth-1} (t_{total}(i)-\\text{mean})^2\n",
    "$\n",
    "\n",
    "$\n",
    "\\text{variance} = \\Large\\frac{1}{depth}\\cdot\\left[\\sum_{i=0}^{\\lfloor\\frac{vmavx^2}{av\\cdot dv}-1\\rfloor} \\left( 4\\cdot\\sqrt{\\frac{dv\\cdot(i+1)}{av}}+2\\cdot lv -\\text{mean}\\right)^2 + \\sum_{i=\\lceil\\frac{vmavx^2}{av\\cdot dv}\\rceil}^{depth-1} \\left(2\\cdot\\left(\\frac{vmaxv}{av} + \\frac{dv\\cdot(i+1)}{vmaxv}\\right) + 2\\cdot lv -\\text{mean}\\right)^2\\right]\n",
    "$"
   ]
  },
  {
   "cell_type": "markdown",
   "metadata": {},
   "source": [
    "Numerical answer:\n",
    "\n",
    "mean $ = 27.64 $ \n",
    "\n",
    "variance  $ = 112.84 $ "
   ]
  },
  {
   "cell_type": "code",
   "execution_count": 5,
   "metadata": {},
   "outputs": [
    {
     "name": "stdout",
     "output_type": "stream",
     "text": [
      "the mean is 27.643350197451\n",
      "the variance is 112.84013970524529\n"
     ]
    }
   ],
   "source": [
    "def exc4c():\n",
    "    depth = 55\n",
    "    lv = 3.0\n",
    "    dv = 0.5\n",
    "    vmaxv = 1.5\n",
    "    av = 1.0\n",
    "    \n",
    "    def t_total(i):\n",
    "        x = dv * (i+1)\n",
    "\n",
    "        if x <= vmaxv**2/av:\n",
    "            t = 4 * math.sqrt(x/av) + 2*lv\n",
    "        else:\n",
    "            t = 2*(vmaxv/av + x/vmaxv) + 2*lv\n",
    "    \n",
    "        return t\n",
    "\n",
    "    mean = 1/depth*sum([t_total(i) for i in range(depth)])\n",
    "    variance = 1/depth*sum([(t_total(i) - mean)**2 for i in range(depth)])\n",
    "\n",
    "    print(f\"the mean is {mean}\")\n",
    "    print(f\"the variance is {variance}\")\n",
    "\n",
    "exc4c()"
   ]
  },
  {
   "cell_type": "markdown",
   "metadata": {},
   "source": [
    "d. Determine (analytically) the throughput and flow time that should result from your model with only the generator process, demand buffer, vehicle and the exit process."
   ]
  },
  {
   "cell_type": "markdown",
   "metadata": {},
   "source": [
    "Answer:\n",
    "\n",
    "$\n",
    "\\text{Throughput} = \\delta = r_a = \\frac{1}{70} = 0.0143 \\text{ [products/sec]}\n",
    "$\n",
    "\n",
    "$\n",
    "u = \\frac{r_a\\cdot t_e}{m} = \\frac{1/70\\cdot 27.643...}{1} = 0.394...\n",
    "$\n",
    "\n",
    "$\n",
    "\\gamma = \\frac{1}{2}\\cdot\\left(c_a^2+c_e^2\\right) = \\frac{1}{2}\\cdot\\left(1+\\frac{112.840...}{27.643...^2}\\right) = 0.573...\n",
    "$\n",
    "\n",
    "$\n",
    "\\phi_B = \\gamma\\cdot\\frac{u}{1-u}\\cdot t_e = 0.573...\\cdot\\frac{0.394...}{1-0.394...}\\cdot 27.643... = 10.352... \\text{ [sec]}\n",
    "$\n",
    "\n",
    "$\n",
    "\\text{Flowtime} = \\phi = t_e + \\phi_B = 27.643... + 10.352... = 37.9959 \\text{ [sec]}\n",
    "$"
   ]
  },
  {
   "cell_type": "code",
   "execution_count": 6,
   "id": "cc0cbc6b",
   "metadata": {},
   "outputs": [],
   "source": [
    "te = 27.643350197451\n",
    "variance = 112.84013970524529\n",
    "\n",
    "gamma = 1/2 * (1 + variance / te**2)\n",
    "u = te/70\n",
    "\n",
    "flowtime = te + gamma * u / (1-u) * te"
   ]
  },
  {
   "cell_type": "markdown",
   "metadata": {},
   "source": [
    "e. Complete the simulation code in the template below, incorporating the actual time a vehicle requires for picking up a tote and delivering it to the buffer. Confirm that your simulations produce the same throughput and flow time as in your calculations.\n",
    "\n",
    "Note: the previously defined function processes remain unchanged, only the Vehicle and model need to be redefined."
   ]
  },
  {
   "cell_type": "code",
   "execution_count": 7,
   "metadata": {},
   "outputs": [
    {
     "name": "stdout",
     "output_type": "stream",
     "text": [
      "tote =    100;  Entrytime =  7003.4239;  Column = 10;  Mean throughput =0.014246  Mean flowtime = 38.7285\n",
      "tote =    200;  Entrytime =  15823.7954;  Column =  1;  Mean throughput =0.012631  Mean flowtime = 35.5336\n",
      "tote =    300;  Entrytime =  23320.9506;  Column = 33;  Mean throughput =0.012847  Mean flowtime = 35.3739\n",
      "tote =    400;  Entrytime =  29776.1384;  Column = 53;  Mean throughput =0.013413  Mean flowtime = 36.1766\n",
      "tote =    500;  Entrytime =  36566.8283;  Column = 36;  Mean throughput =0.013653  Mean flowtime = 37.5358\n",
      "tote =    600;  Entrytime =  43095.2754;  Column =  7;  Mean throughput =0.013918  Mean flowtime = 37.3835\n",
      "tote =    700;  Entrytime =  50289.1254;  Column = 40;  Mean throughput =0.013909  Mean flowtime = 37.0636\n",
      "tote =    800;  Entrytime =  57761.1303;  Column = 11;  Mean throughput =0.013846  Mean flowtime = 37.1933\n",
      "tote =    900;  Entrytime =  64240.2126;  Column = 51;  Mean throughput =0.013999  Mean flowtime = 37.0563\n",
      "tote =   1000;  Entrytime =  70649.5696;  Column = 40;  Mean throughput =0.014147  Mean flowtime = 36.5822\n",
      "simulation has ended\n"
     ]
    }
   ],
   "source": [
    "# =================================\n",
    "# Vehicle definition\n",
    "# =================================\n",
    "@process\n",
    "def Vehicle(env, c_in, c_out, lv, dv, vmaxv, av):\n",
    "    def t_total(i):\n",
    "        x = dv * (i+1)\n",
    "\n",
    "        if x <= vmaxv**2/av:\n",
    "            t = 4 * math.sqrt(x/av) + 2*lv\n",
    "        else:\n",
    "            t = 2*(vmaxv/av + x/vmaxv) + 2*lv\n",
    "    \n",
    "        return t\n",
    "\n",
    "    while True:\n",
    "        tote = yield env.execute(c_in.receive())\n",
    "        \n",
    "        tp = t_total(tote.column)\n",
    "        \n",
    "        yield env.timeout(tp)\n",
    "        yield env.execute(c_out.send(tote))\n",
    "\n",
    "# =================================\n",
    "# Main\n",
    "# =================================\n",
    "def model():\n",
    "    # Variables \n",
    "    arrive = 70.0             # inter arrival time of requests\n",
    "    depth  = 55               # the number of columns\n",
    "    lv = 3.0                  # time to load/unload the vehicle\n",
    "    dv = 0.5                  # unit width clearance\n",
    "    vmaxv = 1.5               # maximum velocity of the vehicle\n",
    "    av = 1.0                  # acceleration/deceleration of the vehicle\n",
    "    \n",
    "    number_of_orders = 1000    # the number of orders to process\n",
    "    \n",
    "    env = Environment()\n",
    "    a = Channel(env)\n",
    "    b = Channel(env)\n",
    "    c = Channel(env)\n",
    "    G = Generator(env, a, arrive, depth)\n",
    "    D = Demand_Buffer(env, a, b)\n",
    "    V = Vehicle(env, b, c, lv, dv, vmaxv, av)\n",
    "    E = Exit(env, c, number_of_orders)\n",
    "    env.run(until=E)\n",
    "    print (\"simulation has ended\")\n",
    "\n",
    "# =================================\n",
    "# Main\n",
    "# =================================\n",
    "model()"
   ]
  },
  {
   "cell_type": "markdown",
   "metadata": {},
   "source": [
    "f.  Run your simulation at least 10 times. What is the range of outcomes for the flow time? Determine (roughly, by trial and error) the number of orders required to get a good estimate for the flow time in just one simulation run (first three **non-zero** digits are correct)."
   ]
  },
  {
   "cell_type": "markdown",
   "metadata": {},
   "source": [
    "Answer:\n",
    "\n",
    "|       1 |       2 |       3 |       4 |       5 |       6 |       7 |       8 |       9 |      10 |\n",
    "| ------- | ------- | ------- | ------- | ------- | ------- | ------- | ------- | ------- | ------- |\n",
    "| 38.9737 | 36.5200 | 35.6419 | 37.7311 | 37.5600 | 36.4775 | 35.8370 | 37.2213 | 40.5685 | 37.9294 |\n",
    "\n",
    "|      11 |       12 |      13 |      14 |       15 |      16 |      17 |      18 |      19 |      20 |\n",
    "| ------- | -------- | ------- | ------- | -------- | ------- | ------- | ------- | ------- | ------- |\n",
    "| 39.5643 |  37.6349 | 37.7788 | 41.3406 |  38.3386 | 37.1861 | 39.7893 | 38.3385 | 37.8376 | 37.9756 |\n",
    "\n",
    "The range between the results is max - min = 41.3406 - 35.6419 = 5.6987\n",
    "\n",
    "So the number of orders required to get a good estimate for the flowtime in just one simulation run is roughly 1200000 when the numerical and analytical solutions are rounded to three digits."
   ]
  },
  {
   "cell_type": "markdown",
   "metadata": {},
   "source": [
    "## 6.5 Exercise 5: Lift as two stage machine (5 points)\n",
    "In the previous exercises we focussed on modeling a tier. In exercises 5-7 we focus on modeling the Buffer and Lift, starting with the Lift. We model the Lift as a machine, which repeatedly does the following: request a destination tier, move to the desired tier, receive a tote (first delay for $ll$, then communicate), move to the ground floor, deliver the tote (first delay for $ll$, then communicate). In this exercise we assume that moving to the desired tier takes 23.0 seconds, receiving the tote takes 2.0 seconds, moving to the ground floor again takes 23.0 seconds, and delivering the tote also takes 2.0 seconds. Note that, in this case, this implies that the tote should leave the Generator and enter the Lift 25.0 seconds after the Lift has received the destination tier. All of these times are assumed to be deterministic.\n",
    "\n",
    "a. Assume that after 1.0 second the first tote arrives at the generator. Subsequently a tote arrives respectively 10.0, 100.0, and 100.0 seconds after the previous tote has been sent to the Lift. Make a lot-time-diagram indicating how long a newly generated job spends in the Generator, and spends in the Lift. We have provided the function `draw_lot_time_diagram(locations, lots)`, which can be used to draw the lot-time-diagram. Below, lot0 has been given as an example. Use the simulation code below 6.5.b to confirm that your lot-time-diagram is correct. "
   ]
  },
  {
   "cell_type": "markdown",
   "id": "5b865523",
   "metadata": {},
   "source": [
    "Answer:"
   ]
  },
  {
   "cell_type": "code",
   "execution_count": 8,
   "metadata": {},
   "outputs": [
    {
     "data": {
      "application/vnd.jupyter.widget-view+json": {
       "model_id": "13741759d87b4d3492ab551117f64aaf",
       "version_major": 2,
       "version_minor": 0
      },
      "image/png": "[encoded data removed]",
      "text/html": [
       "\n",
       "            <div style=\"display: inline-block;\">\n",
       "                <div class=\"jupyter-widgets widget-label\" style=\"text-align: center;\">\n",
       "                    Figure\n",
       "                </div>\n",
       "                <img src='data:image/png;base64,iVBORw0KGgoAAAANSUhEUgAAAoAAAAHgCAYAAAA10dzkAAAAOXRFWHRTb2Z0d2FyZQBNYXRwbG90bGliIHZlcnNpb24zLjguMiwgaHR0cHM6Ly9tYXRwbG90bGliLm9yZy8g+/7EAAAACXBIWXMAAA9hAAAPYQGoP6dpAAAvDUlEQVR4nO3deXTU9b3/8deQZUhCNkIgAcIeYqIQWWpuwkFpAVnERuvCpSKCiheFKlVs5R6vgNcDLbcoXoqxyrmklMWlAqLFVgSDgjE2SMAlhABBURPACFkIhCyf3x/+GDsaZEvmm+TzfJwz55iZ73zn/f2cb8qz38wkLmOMEQAAAKzRxukBAAAA4FsEIAAAgGUIQAAAAMsQgAAAAJYhAAEAACxDAAIAAFiGAAQAALAMAQgAAGAZAhAAAMAyBCAAAIBlCEAAAADLEIAAAACWIQABAAAsQwACAABYhgAEAACwDAEIAABgGQIQAADAMgQgAACAZQhAAAAAyxCAAAAAliEAAQAALEMAAgAAWIYABAAAsAwBCAAAYBkCEAAAwDIEIAAAgGUIQAAAAMsQgAAAAJYhAAEAACxDAAIAAFiGAAQAALAMAQgAAGAZAhAAAMAyBCAAAIBlCEAAAADLEIAAAACWIQABAAAsQwACAABYhgAEAACwDAEIAABgGQIQAADAMgQgAACAZQhAAAAAyxCAAAAAliEAAQAALEMAAgAAWIYABAAAsAwBCAAAYBkCEAAAwDIEIAAAgGUIQAAAAMsQgAAAAJYhAAEAACxDAAIAAFiGAAQAALAMAQgAAGAZf6cHaMnq6+v11VdfKTQ0VC6Xy+lxAADAeTDGqKKiQp07d1abNnZeCyMAL8FXX32luLg4p8cAAAAX4dChQ+ratavTYziCALwEoaGhkr49gcLCwhyeBgAAnI/y8nLFxcV5/h23EQF4Cc782DcsLIwABACghbH57Vt2/uAbAADAYgQgAACAZQhAAAAAy/AeQAAALGGMUW1trerq6pwepUn5+fnJ39/f6vf4nQsBCACABU6fPq3i4mJVVVU5PYpPBAcHKzY2VoGBgU6P0iwRgAAAtHL19fUqKiqSn5+fOnfurMDAwFZ7dcwYo9OnT+vo0aMqKipSfHy8tb/s+ccQgAAAtHKnT59WfX294uLiFBwc7PQ4TS4oKEgBAQH67LPPdPr0abVt29bpkZodkhgAAEvYdCXMpmO9GKwOAACAZfgRMAAAFvvy+EkdO3HaZ68XGRKoLhFBPns9NIwABADAUl8eP6mf/SFL1bX1PntNt38bbZk17IIjsKSkRAsWLNDf/vY3ffHFFwoPD1efPn00ceJE3XHHHVa8t7ExEYAAAFjq2InTPo0/SaqurdexE6cvKAAPHDigIUOGKCIiQvPnz1e/fv3kdrv10Ucf6bnnnlOXLl3085//vAmnbn0IwEawf/9+GWOcHkOlpaWKiopyegyFhoYqPj7e6TEAAK3EfffdJ39/f+Xm5iokJMRzf69evZSent4s/g1uaQjARjBw4ECnR2h29u7dSwQCAC5ZaWmp3nzzTc2fP98r/v5Va/2dhk2JAGwkUeMeUkBUnGOvf/JArsreXamVNwYpMdq5D3fnH63XxHUnVVFR4dgMAIDWY9++fTLGKCEhwev+Dh066NSpU5Kk6dOn6/e//70T47VYBGAjCYiKkzumj2OvX1N6SJKUGN1GA2P9HJsDAABf+OCDD1RfX6/bbrtN1dXVTo/T4hCAAACg2erTp49cLpcKCgq87u/Vq5ekb//qBy4cvwgaAAA0W1FRURo5cqT++Mc/6sSJE06P02oQgAAAoFl75plnVFtbq8GDB+vFF19Ufn6+CgoKtHLlSu3Zs0d+frz16ULxI2AAANCs9e7dWzt37tT8+fM1e/ZsffHFF3K73UpKStKsWbN03333OT1ii0MAAgBgqciQQLn92/j8L4FEhgRe8PNiY2O1ZMkSLVmypAmmsg8BCACApbpEBGnLrGH8LWALEYAAAFisS0QQQWYhPgQCAABgGQIQAADAMgQgAACAZQhAAAAAyxCAAAAAliEAAQAALEMAAgAAWIbfAwgAgM2OH5KqSn33esFRUkSc714PDSIAAQCw1fFD0h8HSbXVvntNf7c0Y8d5R+DkyZN1/PhxrV+/vmnnsgw/AgYAwFZVpb6NP+nb1/PlFUc0iAAEAACwDAEIAABgGQIQAADAMgQgAACAZQhAAAAAyxCAAAAAluH3AAIAgGatrKxMeXl5XvdFRUUpLo5fKH2xCEAAANCsZWVlacCAAV733XXXXVq2bJlDE7V8BCAAALYKjvr2L3P4+i+BBEed9+aZmZnKzMxsunksRQACAGCriLhv/ywbfwvYOgQgAAA2i4gjyCzEp4ABAAAsQwACAABYhgAEAACwDAEIAIAljDFOj+AzNh3rxSAAAQBo5QICAiRJVVVVDk/iO2eO9cyxwxufAgYAoJXz8/NTRESEjhw5IkkKDg6Wy+VyeKqmYYxRVVWVjhw5ooiICPn5+Tk9UrPU7ANw2LBhuvLKK7V48WKnRwEAoMWKiYmRJE8EtnYRERGeY8YPNfsAvFCZmZmaOXOmjh8/fs5ts7Ky9OCDD+qTTz5RXFycHn30UU2ePLnJZwQAwNdcLpdiY2PVsWNH1dTUOD1OkwoICODK3zm0ugA8X0VFRbruuus0bdo0rVq1Sps3b9bdd9+t2NhYjRo1yunxAABoEn5+fsQRWt6HQI4dO6ZJkyYpMjJSwcHBGjNmjAoLCyV9e0VvypQpKisrk8vlksvl0ty5cxvcz7PPPquePXtq0aJFSkxM1IwZM3TzzTfrqaee8uHRAAAA+F6LC8DJkycrNzdXGzZsUHZ2towxGjt2rGpqapSWlqbFixcrLCxMxcXFKi4u1qxZsxrcT3Z2tkaMGOF136hRo5SdnX3W166urlZ5ebnXDQAAoKVpUQFYWFioDRs2aNmyZRo6dKiSk5O1atUqffnll1q/fr0CAwMVHh4ul8ulmJgYxcTEqF27dg3uq6SkRJ06dfK6r1OnTiovL9fJkycbfM6CBQsUHh7uucXF8bcTAQBAy9OiAjA/P1/+/v5KSUnx3BcVFaWEhATl5+c3+evPnj1bZWVlntuhQ4ea/DUBAAAam7UfAomJidHhw4e97jt8+LDCwsIUFBTU4HPcbrfcbrcvxgMAAGgyLeoKYGJiompra5WTk+O5r7S0VAUFBUpKSpIkBQYGqq6u7pz7Sk1N1ebNm73u27Rpk1JTUxt3aAAAgGamRQVgfHy80tPTNXXqVG3btk27du3SxIkT1aVLF6Wnp0uSevToocrKSm3evFlff/31Wf/szbRp03TgwAH95je/0Z49e/TMM8/opZde0q9//WtfHhIAAIDPtagAlKTly5dr0KBBGjdunFJTU2WM0caNGz1/6y8tLU3Tpk3T+PHjFR0drYULFza4n549e+pvf/ubNm3apOTkZC1atEjLli3jdwACAIBWr9m/BzArK8vr68jISK1YseJHn5ORkaGMjIxz7nvYsGHauXPnpYwHAADQ4rS4K4AAAAC4NAQgAACAZQhAAAAAyxCAAAAAliEAAQAALEMAAgAAWIYABAAAsAwBCAAAYBkCEAAAwDIEIAAAgGUIQAAAAMsQgAAAAJYhAAEAACxDAAIAAFiGAAQAALAMAQgAAGAZAhAAAMAyBCAAAIBlCEAAAADLEIAAAACWIQABAAAsQwACAABYhgAEAACwDAEIAABgGQIQAADAMgQgAACAZQhAAAAAyxCAAAAAliEAAQAALEMAAgAAWIYABAAAsAwBCAAAYBkCEAAAwDIEIAAAgGX8nR6gtagpPeTo69eWHZYk5R+tv6DnfV5WrxM1ptHmKDr27b7y8/MbbZ8Xo7S0VFFRUY7OIEmhoaGKj493egwAALy4jDGN96+/ZcrLyxUeHu70GGjm9u7dSwQCQDNy5t/vsrIyhYWFOT2OI7gC2Ag+/PBDNYeOvtCrXvn5+Zo4caKixj2kgKi4JpzMt04eyFXZuyu18sYgJUY79y6H/KP1mrjupCoqKhybAQCAhhCAjaB3794t+v9BBETFyR3Tx+kxGs2ZH8cnRrfRwFg/h6cBAKD54UMgAAAAliEAAQAALEMAAgAAWIYABAAAsAwBCAAAYBkCEAAAwDIEIAAAgGUIQAAAAMsQgAAAAJYhAAEAACxDAAIAAFiGAAQAALAMAQgAAGAZAhAAAMAyBCAAAIBlCEAAAADLEIAAAACWIQABAAAsQwACAABYhgAEAACwDAEIAABgGQIQAADAMgQgAACAZQhAAAAAyxCAAAAAliEAAQAALEMAAgAAWIYABAAAsAwBCAAAYBkCEAAAwDIEIAAAgGUIQAAAAMsQgAAAAJYhAAEAACzT7ANw2LBhmjlzptNjAAAAtBrNPgAvVGZmpiIiIs65XXFxsX75y1+qb9++atOmDZEJAACs0eoC8HxVV1crOjpajz76qJKTk50eBwAAwGdaXAAeO3ZMkyZNUmRkpIKDgzVmzBgVFhZKkrKysjRlyhSVlZXJ5XLJ5XJp7ty5De6nR48eevrppzVp0iSFh4f78AgAAACc1eICcPLkycrNzdWGDRuUnZ0tY4zGjh2rmpoapaWlafHixQoLC1NxcbGKi4s1a9asRnvt6upqlZeXe90AAABamhYVgIWFhdqwYYOWLVumoUOHKjk5WatWrdKXX36p9evXKzAwUOHh4XK5XIqJiVFMTIzatWvXaK+/YMEChYeHe25xcXGNtm8AAABfaVEBmJ+fL39/f6WkpHjui4qKUkJCgvLz85v89WfPnq2ysjLP7dChQ03+mgAAAI3N3+kBWhK32y232+30GAAAAJekRV0BTExMVG1trXJycjz3lZaWqqCgQElJSZKkwMBA1dXVOTUiAABAs9eiAjA+Pl7p6emaOnWqtm3bpl27dmnixInq0qWL0tPTJX376d7Kykpt3rxZX3/9taqqqs66v7y8POXl5amyslJHjx5VXl6ePv30U18dDgAAgCNaVABK0vLlyzVo0CCNGzdOqampMsZo48aNCggIkCSlpaVp2rRpGj9+vKKjo7Vw4cKz7mvAgAEaMGCAduzYodWrV2vAgAEaO3asrw4FAADAEc3+PYBZWVleX0dGRmrFihU/+pyMjAxlZGScc9/GmEsZDQAAoEVqcVcAAQAAcGkIQAAAAMsQgAAAAJYhAAEAACxDAAIAAFiGAAQAALAMAQgAAGAZAhAAAMAyBCAAAIBlCEAAAADLEIAAAACWIQABAAAsQwACAABYhgAEAACwDAEIAABgGQIQAADAMgQgAACAZQhAAAAAyxCAAAAAliEAAQAALEMAAgAAWIYABAAAsAwBCAAAYBkCEAAAwDIEIAAAgGUIQAAAAMsQgAAAAJYhAAEAACxDAAIAAFiGAAQAALAMAQgAAGAZAhAAAMAyBCAAAIBlCEAAAADL+Ds9AJxXU3rI6REaVW3ZYUlS/tF6R+dw+vXRsMLCQlVUVDg9hkpLSxUVFeXoDKGhoYqPj3d0BgDOIAAtFhoaKkkqfX2Rw5M0jYnrTjo9gqTv1hnOKywsVN++fZ0eo1nZu3cvEQhYiAC0WHx8vPbu3dssroY0tuZwdUXiCktzc+Zcjxr3kAKi4hyb4+SBXJW9u1IrbwxSYrQz78TJP1qvietOtsrvfwDnRgBajjiBjQKi4uSO6ePY659520VidBsNjPVzbA4A9uJDIAAAAJYhAAEAACxDAAIAAFiGAAQAALAMAQgAAGAZAhAAAMAyBCAAAIBlCEAAAADLEIAAAACWIQABAAAsQwACAABYhgAEAACwDAEIAABgGQIQAADAMgQgAACAZQhAAAAAyxCAAAAAliEAAQAALEMAAgAAWIYABAAAsAwBCAAAYBkCEAAAwDIEIAAAgGUIQAAAAMsQgAAAAJYhAAEAACxDAAIAAFiGAAQAALAMAQgAAGAZAhAAAMAyBCAAAIBlCEAAAADLEIAAAACWIQABAAAs0+wDcNiwYZo5c6bTYwAAALQazT4AL1RmZqYiIiLOud3atWs1cuRIRUdHKywsTKmpqfrHP/7R9AMCAAA4rNUF4Pl65513NHLkSG3cuFE7duzQT3/6U11//fXauXOn06MBAAA0qRYXgMeOHdOkSZMUGRmp4OBgjRkzRoWFhZKkrKwsTZkyRWVlZXK5XHK5XJo7d26D+1m8eLF+85vf6Cc/+Yni4+M1f/58xcfH67XXXvPh0QAAAPheiwvAyZMnKzc3Vxs2bFB2draMMRo7dqxqamqUlpamxYsXKywsTMXFxSouLtasWbPOa7/19fWqqKhQ+/btz7pNdXW1ysvLvW4AAAAtTYsKwMLCQm3YsEHLli3T0KFDlZycrFWrVunLL7/U+vXrFRgYqPDwcLlcLsXExCgmJkbt2rU7r33/4Q9/UGVlpW699dazbrNgwQKFh4d7bnFxcY11aAAAAD7TogIwPz9f/v7+SklJ8dwXFRWlhIQE5efnX/R+V69erXnz5umll15Sx44dz7rd7NmzVVZW5rkdOnTool8TAADAKf5OD+C0F154QXfffbdefvlljRgx4ke3dbvdcrvdPpoMAACgabSoK4CJiYmqra1VTk6O577S0lIVFBQoKSlJkhQYGKi6urrz2t+aNWs0ZcoUrVmzRtddd12TzAwAANDctKgAjI+PV3p6uqZOnapt27Zp165dmjhxorp06aL09HRJUo8ePVRZWanNmzfr66+/VlVVVYP7Wr16tSZNmqRFixYpJSVFJSUlKikpUVlZmS8PCQAAwOdaVABK0vLlyzVo0CCNGzdOqampMsZo48aNCggIkCSlpaVp2rRpGj9+vKKjo7Vw4cIG9/Pcc8+ptrZW06dPV2xsrOf2wAMP+PJwAAAAfK7ZvwcwKyvL6+vIyEitWLHiR5+TkZGhjIyMC9ovAACALVrcFUAAAABcGgIQAADAMgQgAACAZQhAAAAAyxCAAAAAliEAAQAALEMAAgAAWIYABAAAsAwBCAAAYBkCEAAAwDIEIAAAgGUIQAAAAMsQgAAAAJYhAAEAACxDAAIAAFiGAAQAALAMAQgAAGAZAhAAAMAyBCAAAIBlCEAAAADLEIAAAACWIQABAAAsQwACAABYhgAEAACwDAEIAABgGQIQAADAMgQgAACAZQhAAAAAyxCAAAAAliEAAQAALEMAAgAAWIYABAAAsAwBCAAAYBkCEAAAwDL+Tg8AAL5WU3rI0devLTssSco/Wu/YDE6+Ns6usLBQFRUVTo+h0tJSRUVFOTpDaGio4uPjHZ2hNSMAAVgjNDRUklT6+iKHJ/nWxHUnnR7BsyZwXmFhofr27ev0GM3K3r17icAmQgACsEZ8fLz27t3LFZb/jysszcuZ8zJq3EMKiIpzbI6TB3JV9u5KrbwxSInRzrxTLP9ovSauO9ksvldbKwIQgFUIHjR3AVFxcsf0cez1z7xFIjG6jQbG+jk2B5oWHwIBAACwDAEIAABgGQIQAADAMgQgAACAZQhAAAAAyxCAAAAAliEAAQAALEMAAgAAWIYABAAAsAwBCAAAYBkCEAAAwDIEIAAAgGUIQAAAAMsQgAAAAJYhAAEAACxDAAIAAFiGAAQAALAMAQgAAGAZAhAAAMAyBCAAAIBlCEAAAADLEIAAAACWIQABAAAsQwACAABYhgAEAACwDAEIAABgGQIQAADAMgQgAACAZQhAAAAAyxCAAAAAliEAAQAALEMAAgAAWIYABAAAsAwBCAAAYJlmH4DDhg3TzJkznR4DAACg1Wj2AXihMjMzFRERcc7ttm3bpiFDhigqKkpBQUG67LLL9NRTTzX9gAAAAA7zd3oAp4SEhGjGjBnq37+/QkJCtG3bNv3Hf/yHQkJCdM899zg9HgAAQJNpcVcAjx07pkmTJikyMlLBwcEaM2aMCgsLJUlZWVmaMmWKysrK5HK55HK5NHfu3Ab3M2DAAE2YMEGXX365evTooYkTJ2rUqFF69913fXg0AAAAvtfiAnDy5MnKzc3Vhg0blJ2dLWOMxo4dq5qaGqWlpWnx4sUKCwtTcXGxiouLNWvWrPPa786dO/Xee+/pmmuuOes21dXVKi8v97oBAAC0NC3qR8CFhYXasGGDtm/frrS0NEnSqlWrFBcXp/Xr1+uWW25ReHi4XC6XYmJizmufXbt21dGjR1VbW6u5c+fq7rvvPuu2CxYs0Lx58xrlWAAAAJzSoq4A5ufny9/fXykpKZ77oqKilJCQoPz8/Iva57vvvqvc3Fw9++yzWrx4sdasWXPWbWfPnq2ysjLP7dChQxf1mgAAAE5qUVcAm0LPnj0lSf369dPhw4c1d+5cTZgwocFt3W633G63L8cDAABodC3qCmBiYqJqa2uVk5Pjua+0tFQFBQVKSkqSJAUGBqquru6i9l9fX6/q6upGmRUAAKC5alFXAOPj45Wenq6pU6fqT3/6k0JDQ/XII4+oS5cuSk9PlyT16NFDlZWV2rx5s5KTkxUcHKzg4OAf7Gvp0qXq1q2bLrvsMknSO++8oz/84Q+6//77fXpMAAAAvtairgBK0vLlyzVo0CCNGzdOqampMsZo48aNCggIkCSlpaVp2rRpGj9+vKKjo7Vw4cIG91NfX6/Zs2fryiuv1ODBg7V06VL9/ve/1+OPP+7LwwEAAPC5Zn8FMCsry+vryMhIrVix4kefk5GRoYyMjB/d5le/+pV+9atfXep4AAAALU6LuwIIAACAS0MAAgAAWIYABAAAsAwBCAAAYBkCEAAAwDIEIAAAgGUIQAAAAMsQgAAAAJYhAAEAACxDAAIAAFiGAAQAALAMAQgAAGAZAhAAAMAyBCAAAIBlCEAAAADLEIAAAACWIQABAAAsQwACAABYhgAEAACwDAEIAABgGQIQAADAMgQgAACAZQhAAAAAyxCAAAAAliEAAQAALEMAAgAAWIYABAAAsAwBCAAAYBkCEAAAwDIEIAAAgGUIQAAAAMsQgAAAAJYhAAEAACxDAAIAAFjG3+kBAADAd2pKDzn6+rVlhyVJ+UfrHZvByde2BQEIAEAzEBoaKkkqfX2Rw5N8a+K6k06P4FkTND4CEACAZiA+Pl579+5VRUWF06OotLRUUVFRjs4QGhqq+Ph4R2dozQhAAACaCYIHvsKHQAAAACxDAAIAAFiGAAQAALAMAQgAAGAZAhAAAMAyBCAAAIBlCEAAAADLEIAAAACWIQABAAAsQwACAABYhgAEAACwDAEIAABgGQIQAADAMv5OD9CSGWMkSeXl5Q5PAgAAzteZf7fP/DtuIwLwEpSWlkqS4uLiHJ4EAABcqIqKCoWHhzs9hiMIwEvQvn17SdLnn39u7Ql0Rnl5ueLi4nTo0CGFhYU5PY7jWI/vsBbfYS2+w1p4Yz2+44u1MMaooqJCnTt3bpL9twQE4CVo0+bbt1CGh4db/w17RlhYGGvxL1iP77AW32EtvsNaeGM9vtPUa2H7hRs+BAIAAGAZAhAAAMAyBOAlcLvdmjNnjtxut9OjOI618MZ6fIe1+A5r8R3Wwhvr8R3WwjdcxubPQAMAAFiIK4AAAACWIQABAAAsQwACAABYhgAEAACwDAF4kZYuXaoePXqobdu2SklJ0QcffOD0SD4xd+5cuVwur9tll13mefzUqVOaPn26oqKi1K5dO9100006fPiwgxM3nnfeeUfXX3+9OnfuLJfLpfXr13s9bozRY489ptjYWAUFBWnEiBEqLCz02uabb77RbbfdprCwMEVEROiuu+5SZWWlD4+icZxrLSZPnvyD82T06NFe27SWtViwYIF+8pOfKDQ0VB07dtQNN9yggoICr23O5/vi888/13XXXafg4GB17NhRDz/8sGpra315KJfsfNZi2LBhPzg3pk2b5rVNa1gLScrIyFD//v09v9A4NTVVb7zxhudxW84L6dxrYdN50VwQgBfhxRdf1IMPPqg5c+boww8/VHJyskaNGqUjR444PZpPXH755SouLvbctm3b5nns17/+tV577TW9/PLL2rp1q7766iv94he/cHDaxnPixAklJydr6dKlDT6+cOFC/e///q+effZZ5eTkKCQkRKNGjdKpU6c829x222365JNPtGnTJr3++ut65513dM899/jqEBrNudZCkkaPHu11nqxZs8br8dayFlu3btX06dP1/vvva9OmTaqpqdG1116rEydOeLY51/dFXV2drrvuOp0+fVrvvfee/vznPyszM1OPPfaYE4d00c5nLSRp6tSpXufGwoULPY+1lrWQpK5du+p3v/udduzYodzcXP3sZz9Tenq6PvnkE0n2nBfSuddCsue8aDYMLthVV11lpk+f7vm6rq7OdO7c2SxYsMDBqXxjzpw5Jjk5ucHHjh8/bgICAszLL7/suS8/P99IMtnZ2T6a0DckmXXr1nm+rq+vNzExMeZ//ud/PPcdP37cuN1us2bNGmOMMZ9++qmRZP75z396tnnjjTeMy+UyX375pc9mb2zfXwtjjLnjjjtMenr6WZ/TWtfCGGOOHDliJJmtW7caY87v+2Ljxo2mTZs2pqSkxLNNRkaGCQsLM9XV1b49gEb0/bUwxphrrrnGPPDAA2d9TmtdizMiIyPNsmXLrD4vzjizFsZwXjiBK4AX6PTp09qxY4dGjBjhua9NmzYaMWKEsrOzHZzMdwoLC9W5c2f16tVLt912mz7//HNJ0o4dO1RTU+O1Npdddpm6devW6temqKhIJSUlXsceHh6ulJQUz7FnZ2crIiJCgwcP9mwzYsQItWnTRjk5OT6fuallZWWpY8eOSkhI0L333qvS0lLPY615LcrKyiRJ7du3l3R+3xfZ2dnq16+fOnXq5Nlm1KhRKi8v97pC0tJ8fy3OWLVqlTp06KArrrhCs2fPVlVVleex1roWdXV1euGFF3TixAmlpqZafV58fy3OsPG8cJK/0wO0NF9//bXq6uq8TkJJ6tSpk/bs2ePQVL6TkpKizMxMJSQkqLi4WPPmzdPQoUP18ccfq6SkRIGBgYqIiPB6TqdOnVRSUuLMwD5y5vgaOi/OPFZSUqKOHTt6Pe7v76/27du3uvUZPXq0fvGLX6hnz57av3+//vM//1NjxoxRdna2/Pz8Wu1a1NfXa+bMmRoyZIiuuOIKSTqv74uSkpIGz50zj7VEDa2FJP3yl79U9+7d1blzZ+3evVu//e1vVVBQoLVr10pqfWvx0UcfKTU1VadOnVK7du20bt06JSUlKS8vz7rz4mxrIdl3XjQHBCAuyJgxYzz/3b9/f6WkpKh79+566aWXFBQU5OBkaE7+/d//3fPf/fr1U//+/dW7d29lZWVp+PDhDk7WtKZPn66PP/7Y632xtjrbWvzr+zz79eun2NhYDR8+XPv371fv3r19PWaTS0hIUF5ensrKyvTXv/5Vd9xxh7Zu3er0WI4421okJSVZd140B/wI+AJ16NBBfn5+P/ik1uHDhxUTE+PQVM6JiIhQ3759tW/fPsXExOj06dM6fvy41zY2rM2Z4/ux8yImJuYHHxSqra3VN9980+rXp1evXurQoYP27dsnqXWuxYwZM/T666/r7bffVteuXT33n8/3RUxMTIPnzpnHWpqzrUVDUlJSJMnr3GhNaxEYGKg+ffpo0KBBWrBggZKTk/X0009beV6cbS0a0trPi+aAALxAgYGBGjRokDZv3uy5r76+Xps3b/Z6L4MtKisrtX//fsXGxmrQoEEKCAjwWpuCggJ9/vnnrX5tevbsqZiYGK9jLy8vV05OjufYU1NTdfz4ce3YscOzzZYtW1RfX+/5H7vW6osvvlBpaaliY2Mlta61MMZoxowZWrdunbZs2aKePXt6PX4+3xepqan66KOPvKJ406ZNCgsL8/yIrCU411o0JC8vT5K8zo3WsBZnU19fr+rqaqvOi7M5sxYNse28cITTn0JpiV544QXjdrtNZmam+fTTT80999xjIiIivD6d1Fo99NBDJisryxQVFZnt27ebESNGmA4dOpgjR44YY4yZNm2a6datm9myZYvJzc01qampJjU11eGpG0dFRYXZuXOn2blzp5FknnzySbNz507z2WefGWOM+d3vfmciIiLMq6++anbv3m3S09NNz549zcmTJz37GD16tBkwYIDJyckx27ZtM/Hx8WbChAlOHdJF+7G1qKioMLNmzTLZ2dmmqKjIvPXWW2bgwIEmPj7enDp1yrOP1rIW9957rwkPDzdZWVmmuLjYc6uqqvJsc67vi9raWnPFFVeYa6+91uTl5Zm///3vJjo62syePduJQ7po51qLffv2mccff9zk5uaaoqIi8+qrr5pevXqZq6++2rOP1rIWxhjzyCOPmK1bt5qioiKze/du88gjjxiXy2XefPNNY4w954UxP74Wtp0XzQUBeJGWLFliunXrZgIDA81VV11l3n//fadH8onx48eb2NhYExgYaLp06WLGjx9v9u3b53n85MmT5r777jORkZEmODjY3Hjjjaa4uNjBiRvP22+/bST94HbHHXcYY779VTD/9V//ZTp16mTcbrcZPny4KSgo8NpHaWmpmTBhgmnXrp0JCwszU6ZMMRUVFQ4czaX5sbWoqqoy1157rYmOjjYBAQGme/fuZurUqT/4P0itZS0aWgdJZvny5Z5tzuf74uDBg2bMmDEmKCjIdOjQwTz00EOmpqbGx0dzac61Fp9//rm5+uqrTfv27Y3b7TZ9+vQxDz/8sCkrK/PaT2tYC2OMufPOO0337t1NYGCgiY6ONsOHD/fEnzH2nBfG/Pha2HZeNBcuY4zx3fVGAAAAOI33AAIAAFiGAAQAALAMAQgAAGAZAhAAAMAyBCAAAIBlCEAAAADLEIAAAACWIQABtApZWVlyuVw/+NuqjWHYsGGaOXNmo+8XAJzi7/QAANDcrV27VgEBAU6PcVZz587V+vXrPX8/9VJNnjxZx48f1/r16xtlfwCaHwIQAM6hffv2To/gE3V1dXK5XE6PAcAH+BEwgB/461//qn79+ikoKEhRUVEaMWKETpw44Xl82bJlSkxMVNu2bXXZZZfpmWee8Xr+F198oQkTJqh9+/YKCQnR4MGDlZOT43k8IyNDvXv3VmBgoBISEvSXv/zF6/kul0vLli3TjTfeqODgYMXHx2vDhg1e22zcuFF9+/ZVUFCQfvrTn+rgwYNej3/22We6/vrrFRkZqZCQEF1++eXauHHjWY/5mWeeUXx8vNq2batOnTrp5ptv9jz2/R8B9+jRQ/Pnz9edd96p0NBQdevWTc8999wFrcGrr76qgQMHqm3bturVq5fmzZun2tras86XlZWlq666SiEhIYqIiNCQIUP02WefKTMzU/PmzdOuXbvkcrnkcrmUmZkpSXryySfVr18/hYSEKC4uTvfdd58qKys9+8zMzFRERIQ2bNigpKQkud1u3Xnnnfrzn/+sV1991bO/rKyss84FoIVy+o8RA2hevvrqK+Pv72+efPJJU1RUZHbv3m2WLl1qKioqjDHGrFy50sTGxppXXnnFHDhwwLzyyiumffv2JjMz0xhjTEVFhenVq5cZOnSoeffdd01hYaF58cUXzXvvvWeMMWbt2rUmICDALF261BQUFJhFixYZPz8/s2XLFs8MkkzXrl3N6tWrTWFhobn//vtNu3btTGlpqTHm2z8e73a7zYMPPmj27NljVq5caTp16mQkmWPHjhljjLnuuuvMyJEjze7du83+/fvNa6+9ZrZu3drgMf/zn/80fn5+ZvXq1ebgwYPmww8/NE8//bTn8WuuucY88MADnq+7d+9u2rdvb5YuXWoKCwvNggULTJs2bcyePXvOaw3eeecdExYWZjIzM83+/fvNm2++aXr06GHmzp3b4Hw1NTUmPDzczJo1y+zbt898+umnJjMz03z22WemqqrKPPTQQ+byyy83xcXFpri42FRVVRljjHnqqafMli1bTFFRkdm8ebNJSEgw9957r2e/y5cvNwEBASYtLc1s377d7Nmzx5SVlZlbb73VjB492rO/6urq8zt5ALQYBCAALzt27DCSzMGDBxt8vHfv3mb16tVe9/33f/+3SU1NNcYY86c//cmEhoZ6Yu370tLSzNSpU73uu+WWW8zYsWM9X0syjz76qOfryspKI8m88cYbxhhjZs+ebZKSkrz28dvf/tYrAPv163fWoPq+V155xYSFhZny8vIGH28oACdOnOj5ur6+3nTs2NFkZGQYY869BsOHDzfz58/3uu8vf/mLiY2NbXD70tJSI8lkZWU1+PicOXNMcnLy2Q7P4+WXXzZRUVGer5cvX24kmby8PK/t7rjjDpOenn7O/QFoufgRMAAvycnJGj58uPr166dbbrlFzz//vI4dOyZJOnHihPbv36+77rpL7dq189yeeOIJ7d+/X5KUl5enAQMGnPV9c/n5+RoyZIjXfUOGDFF+fr7Xff379/f8d0hIiMLCwnTkyBHPPlJSUry2T01N9fr6/vvv1xNPPKEhQ4Zozpw52r1791mPeeTIkerevbt69eql22+/XatWrVJVVdWPLZPXfC6XSzExMZ75zrUGu3bt0uOPP+61hlOnTlVxcXGDr9u+fXtNnjxZo0aN0vXXX6+nn35axcXFPzqfJL311lsaPny4unTpotDQUN1+++0qLS31eo3AwECvYwFgBwIQgBc/Pz9t2rRJb7zxhpKSkrRkyRIlJCSoqKjI8/6x559/Xnl5eZ7bxx9/rPfff1+SFBQU1ChzfP9Tty6XS/X19ef9/LvvvlsHDhzQ7bffro8++kiDBw/WkiVLGtw2NDRUH374odasWaPY2Fg99thjSk5O/tFfKfNj851rDSorKzVv3jyvNfzoo49UWFiotm3bNvic5cuXKzs7W2lpaXrxxRfVt29fz5o35ODBgxo3bpz69++vV155RTt27NDSpUslSadPn/ZsFxQUxAc/AAsRgAB+wOVyaciQIZo3b5527typwMBArVu3Tp06dVLnzp114MAB9enTx+vWs2dPSd9eGcvLy9M333zT4L4TExO1fft2r/u2b9+upKSk854vMTFRH3zwgdd9DcVQXFycpk2bprVr1+qhhx7S888/f9Z9+vv7a8SIEVq4cKF2796tgwcPasuWLec907861xoMHDhQBQUFP1jDPn36qE2bs//P8oABAzR79my99957uuKKK7R69WpJ317Fq6ur89p2x44dqq+v16JFi/Rv//Zv6tu3r7766qvzmr+h/QFoXfg1MAC85OTkaPPmzbr22mvVsWNH5eTk6OjRo0pMTJQkzZs3T/fff7/Cw8M1evRoVVdXKzc3V8eOHdODDz6oCRMmaP78+brhhhu0YMECxcbGaufOnercubNSU1P18MMP69Zbb9WAAQM0YsQIvfbaa1q7dq3eeuut855x2rRpWrRokR5++GHdfffd2rFjh+eTr2fMnDlTY8aMUd++fXXs2DG9/fbbnmP4vtdff10HDhzQ1VdfrcjISG3cuFH19fVKSEi4qDU81xo89thjGjdunLp166abb75Zbdq00a5du/Txxx/riSee+MH+ioqK9Nxzz+nnP/+5OnfurIKCAhUWFmrSpEmSvv1UclFRkfLy8tS1a1eFhoaqT58+qqmp0ZIlS3T99ddr+/btevbZZ89r/h49eugf//iHCgoKFBUVpfDw8Gb9exABXASn34QIoHn59NNPzahRo0x0dLRxu92mb9++ZsmSJV7brFq1ylx55ZUmMDDQREZGmquvvtqsXbvW8/jBgwfNTTfdZMLCwkxwcLAZPHiwycnJ8Tz+zDPPmF69epmAgADTt29fs2LFCq/9SzLr1q3zui88PNwsX77c8/Vrr71m+vTpY9xutxk6dKj5v//7P68PgcyYMcP07t3buN1uEx0dbW6//Xbz9ddfN3jM7777rrnmmmtMZGSkCQoKMv379zcvvvii5/GGPgTy1FNPee0jOTnZzJkz57zX4O9//7tJS0szQUFBJiwszFx11VXmueeea3C+kpISc8MNN5jY2FgTGBhounfvbh577DFTV1dnjDHm1KlT5qabbjIRERFGkmednnzySRMbG2uCgoLMqFGjzIoVK7zWaPny5SY8PPwHr3fkyBEzcuRI065dOyPJvP322w3OBaDlchljjKMFCgAAAJ/iPYAAAACWIQABAAAsQwACAABYhgAEAACwDAEIAABgGQIQAADAMgQgAACAZQhAAAAAyxCAAAAAliEAAQAALEMAAgAAWIYABAAAsMz/A/EDrLoFHY0DAAAAAElFTkSuQmCC' width=640.0/>\n",
       "            </div>\n",
       "        "
      ],
      "text/plain": [
       "Canvas(toolbar=Toolbar(toolitems=[('Home', 'Reset original view', 'home', 'home'), ('Back', 'Back to previous …"
      ]
     },
     "metadata": {},
     "output_type": "display_data"
    }
   ],
   "source": [
    "# =================================\n",
    "# Draw the lot-time-diagram\n",
    "# =================================\n",
    "\n",
    "# Set the locations\n",
    "locations = ('G', 'L')\n",
    "\n",
    "# For each lot, give the entry and exit times at respectively the generator G and lift L.\n",
    "# The first lot is given as an example.\n",
    "lot0 = {'G': [   1,  26], 'L': [  26,  51]}\n",
    "lot1 = {'G': [  36,  76], 'L': [  76, 101]}\n",
    "lot2 = {'G': [ 176, 201], 'L': [ 201, 226]}\n",
    "lot3 = {'G': [ 301, 326], 'L': [ 326, 351]}\n",
    "\n",
    "# Add all lots together\n",
    "lots = [lot0, lot1, lot2, lot3];\n",
    "\n",
    "\n",
    "# Draw the lot-time diagram\n",
    "draw_lot_time_diagram(locations, lots)"
   ]
  },
  {
   "cell_type": "markdown",
   "metadata": {},
   "source": [
    "b. \tStudy the Lift in the simulation code below. Can you describe (in one sentence) what each of its channels, events, and entities represent?\n"
   ]
  },
  {
   "cell_type": "markdown",
   "metadata": {},
   "source": [
    "Answer: \n",
    "\n",
    "```channel1:``` Channel for communicating between the generator and the lift that a product has been generated\n",
    "\n",
    "```channel2:``` Channel for communicating between the generator and the lift that a product has been picked up by the lift \n",
    "\n",
    "```channel3:``` Channel for communicating between the lift and the exit that a product has been delivered by the lift\n",
    "\n",
    "```event1:``` A product has been generated for the lift to pick up, and the lift is requested\n",
    "\n",
    "```event2:``` The lift has arrived at the generator to pick up the product\n",
    "\n",
    "```event3:``` A product has been received by the lift\n",
    "\n",
    "```event4:``` Waiting for the lift to travel to the exit and deliver the product\n",
    "\n",
    "```event5:``` A prodcut has been received by the exit\n",
    "\n",
    "```entity1:``` The tier where the tote/product is which should be processed\n",
    "\n",
    "```entity2:``` The tote which is being processed"
   ]
  },
  {
   "cell_type": "code",
   "execution_count": 12,
   "metadata": {},
   "outputs": [
    {
     "name": "stdout",
     "output_type": "stream",
     "text": [
      "Generator: Informed Lift to go to tier 1 at time 1.0\n",
      "Generator: Tote has completely left the Generator and entered the Lift at time 26.0\n",
      "Generator: Informed Lift to go to tier 1 at time 51.0\n",
      "Exit: Tote has completely left the Lift and has been received by the Exit at time 51.0\n",
      "Generator: Tote has completely left the Generator and entered the Lift at time 76.0\n",
      "Exit: Tote has completely left the Lift and has been received by the Exit at time 101.0\n",
      "Generator: Informed Lift to go to tier 1 at time 176.0\n",
      "Generator: Tote has completely left the Generator and entered the Lift at time 201.0\n",
      "Exit: Tote has completely left the Lift and has been received by the Exit at time 226.0\n",
      "Generator: Informed Lift to go to tier 1 at time 301.0\n",
      "Generator: Tote has completely left the Generator and entered the Lift at time 326.0\n",
      "Exit: Tote has completely left the Lift and has been received by the Exit at time 351.0\n",
      "simulation has ended\n"
     ]
    }
   ],
   "source": [
    "# =================================\n",
    "# Tote definition\n",
    "# =================================\n",
    "@dataclass\n",
    "class Tote:\n",
    "    entrytime: float = 0\n",
    "    tier: int = 0\n",
    "\n",
    "# =================================\n",
    "# Generator\n",
    "# =================================\n",
    "@process\n",
    "def Generator(env, c1, c2):\n",
    "    delays=[1.0, 10.0, 100.0, 100.0]\n",
    "    while len(delays)>0:\n",
    "        yield env.timeout(delays[0])\n",
    "        delays = delays[1:]\n",
    "        tier = 1\n",
    "        yield env.execute(c1.send(tier))\n",
    "        print(f\"Generator: Informed Lift to go to tier {tier} at time {env.now:3.1f}\");\n",
    "        x = Tote(entrytime = env.now, tier = tier)\n",
    "        yield env.execute(c2.send(x))\n",
    "        print(f\"Generator: Tote has completely left the Generator and entered \"\n",
    "              f\"the Lift at time {env.now:3.1f}\")\n",
    "    yield env.timeout(100.0)\n",
    "\n",
    "\n",
    "# =================================\n",
    "# Lift\n",
    "# =================================\n",
    "@process\n",
    "def Lift(env, channel1, channel2, channel3, ll):\n",
    "    while True:\n",
    "        \n",
    "        event1 = channel1.receive()\n",
    "        entity1 = yield env.execute(event1)\n",
    "        \n",
    "        event2 = env.timeout(23.0+ll)\n",
    "        yield event2\n",
    "        \n",
    "        event3 = channel2.receive()\n",
    "        entity2 = yield env.execute(event3)\n",
    "        \n",
    "        event4 = env.timeout(23.0+ll)\n",
    "        yield event4\n",
    "        \n",
    "        event5 = channel3.send(entity2)\n",
    "        yield env.execute(event5)\n",
    "    \n",
    "# =================================\n",
    "# Exit \n",
    "# =================================\n",
    "@process\n",
    "def Exit(env, c_in):\n",
    "    while True:\n",
    "        x = yield env.execute(c_in.receive())\n",
    "        print(f\"Exit: Tote has completely left the Lift and has been received \"\n",
    "              f\"by the Exit at time {env.now:3.1f}\");\n",
    "\n",
    "# =================================\n",
    "# Model\n",
    "# =================================\n",
    "def model():\n",
    "    # Variables\n",
    "    ll = 2.0  # time to load/unload the lift\n",
    "    \n",
    "    env = Environment()\n",
    "    a = Channel(env)\n",
    "    b = Channel(env)\n",
    "    c = Channel(env)\n",
    "    G = Generator(env, a, b)\n",
    "    L = Lift(env, a, b, c, ll)\n",
    "    E = Exit(env, c)\n",
    "    env.run()\n",
    "    print (\"simulation has ended\")\n",
    "\n",
    "# =================================\n",
    "# Main\n",
    "# =================================\n",
    "model()"
   ]
  },
  {
   "cell_type": "markdown",
   "metadata": {},
   "source": [
    "## 6.6 Exercise 6: Buffer with multiple tiers (10 points)\n",
    "Every tier has a buffer location of finite capacity $bc$. In this exercise, these parallel finite buffer locations are modelled as one Buffer model."
   ]
  },
  {
   "cell_type": "markdown",
   "metadata": {},
   "source": [
    "a. Study the simulation code below. Can you describe (concisely) why the events of the buffer are modelled the way they are:\n",
    "\n",
    "    events1: ...\n",
    "    event2: ...\n",
    "    event3: ...\n",
    "\n",
    "and can you explain what happens when an event occurs:\n",
    "\n",
    "    events1: ...\n",
    "    event2: ...\n",
    "    event3: ..."
   ]
  },
  {
   "cell_type": "markdown",
   "metadata": {},
   "source": [
    "Answer:\n",
    "\n",
    "Why a they modelled as such:\n",
    "\n",
    "```events1:``` This is a list with an event for every tier, because there are multiple tiers which all have their own buffers.\n",
    "\n",
    "```event2:``` This is a single event because the lift can only pick up one product at a time. This event is used to communicate between the buffer and the lift that a product is ready to be picked up and thus requesting the lift to travel to the buffer location.\n",
    "\n",
    "```event3:``` This is a single event because the lift can only pick up one product at a time. This event is used to communicate between the buffer and the lift that a product has been picked up and thus the buffer request the lift to pick up the next product.\n",
    "\n",
    "What happens:\n",
    "\n",
    "```events1:``` A list with an event for every tier, when the event occurs for a specific tier a product is received from the generator into the buffer of that tier\n",
    "\n",
    "```event2:``` The lift is requested to pick up the next product from a buffer\n",
    "\n",
    "```event3:``` A product is send from the buffer to the lift\n",
    "\n"
   ]
  },
  {
   "cell_type": "code",
   "execution_count": 10,
   "metadata": {},
   "outputs": [
    {
     "name": "stdout",
     "output_type": "stream",
     "text": [
      "Generator 0: Sending tote to Buffer completed at time 0.0\n",
      "Generator 1: Sending tote to Buffer completed at time 1.0\n",
      "Generator 0: Sending tote to Buffer completed at time 25.0\n",
      "Exit: Tote has completely left the Lift and has been received by the Exit at time 50.0\n",
      "Generator 1: Sending tote to Buffer completed at time 75.0\n",
      "Exit: Tote has completely left the Lift and has been received by the Exit at time 100.0\n",
      "Generator 0: Sending tote to Buffer completed at time 125.0\n",
      "Exit: Tote has completely left the Lift and has been received by the Exit at time 150.0\n",
      "Generator 1: Sending tote to Buffer completed at time 175.0\n",
      "Exit: Tote has completely left the Lift and has been received by the Exit at time 200.0\n",
      "Generator 0: Sending tote to Buffer completed at time 225.0\n",
      "Exit: Tote has completely left the Lift and has been received by the Exit at time 250.0\n",
      "Generator 1: Sending tote to Buffer completed at time 275.0\n",
      "Exit: Tote has completely left the Lift and has been received by the Exit at time 300.0\n",
      "Exit: Tote has completely left the Lift and has been received by the Exit at time 350.0\n",
      "Exit: Tote has completely left the Lift and has been received by the Exit at time 400.0\n",
      "simulation has ended\n"
     ]
    }
   ],
   "source": [
    "# =================================\n",
    "# Generator\n",
    "# =================================\n",
    "@process\n",
    "def Generator(env, c_out, tier):\n",
    "    delays=[1.0*tier, 10.0, 100.0, 100.0]\n",
    "    while len(delays)>0:\n",
    "        yield env.timeout(delays[0])\n",
    "        delays = delays[1:]\n",
    "        x = Tote(entrytime = env.now, tier = tier)\n",
    "        yield env.execute(c_out.send(x))\n",
    "        print(f\"Generator {tier:d}: Sending tote to Buffer completed at \"\n",
    "              f\"time {env.now:3.1f}\")\n",
    "    yield env.timeout(100.0)\n",
    "    \n",
    "# =================================\n",
    "# Buffer\n",
    "# =================================\n",
    "@process\n",
    "def Buffer(env, channels1, channel2, channel3, bc, Levels):\n",
    "    xs = []\n",
    "    n = [0] * Levels\n",
    "    lift_called = False\n",
    "    while True:\n",
    "        # Define events\n",
    "        events1 = [channels1[tier].receive() if n[tier] < bc else None for tier in range(Levels)]\n",
    "        if not lift_called:\n",
    "            event3 = None\n",
    "            if len(xs) > 0:\n",
    "                x_sending = xs[0]\n",
    "                event2 = channel2.send(x_sending.tier)\n",
    "            else:\n",
    "                event2 = None\n",
    "        else:\n",
    "            event2 = None\n",
    "            event3 = channel3.send(x_sending)\n",
    "        \n",
    "        # Execute one of the events\n",
    "        events = events1  + [event2] + [event3]\n",
    "        yield env.select(*events)    \n",
    "        \n",
    "        # Check which event is executed\n",
    "        for tier in range(Levels):\n",
    "            if selected(events1[tier]):\n",
    "                x_received = events1[tier].entity\n",
    "                xs = xs + [x_received]\n",
    "                n[tier] = n[tier] + 1\n",
    "            \n",
    "        if selected(event2):\n",
    "            lift_called = True\n",
    "           \n",
    "        if selected(event3):\n",
    "            xs = xs[1:]\n",
    "            n[x_sending.tier] = n[x_sending.tier] - 1\n",
    "            lift_called = False\n",
    "            \n",
    "            \n",
    "# =================================\n",
    "# Model\n",
    "# =================================\n",
    "def model():\n",
    "    # Variables\n",
    "    ll = 2.0  # time to load/unload the lift\n",
    "    bc = 1    # buffer capacity\n",
    "    Levels = 2 # the number of tiers\n",
    "    \n",
    "    env = Environment()\n",
    "    a = [Channel(env) for tier in range(Levels)]\n",
    "    b = Channel(env)\n",
    "    c = Channel(env)\n",
    "    d = Channel(env)\n",
    "    Gs = [Generator(env, a[tier], tier) for tier in range(Levels)] \n",
    "    B = Buffer(env, a, b, c, bc, Levels)\n",
    "    L = Lift(env, b, c, d, ll)\n",
    "    E = Exit(env, d)\n",
    "    env.run(until=10000000)\n",
    "    print (\"simulation has ended\")\n",
    "\n",
    "# =================================\n",
    "# Main\n",
    "# =================================\n",
    "model()"
   ]
  },
  {
   "cell_type": "markdown",
   "metadata": {},
   "source": [
    "b. Consider two tiers ($Levels = 2$), and assume that for tier $i \\in \\{0, Levels - 1\\}$ the first tote arrives after $i$ seconds (for two tiers: after 0.0 for tier 0 and after 1.0 for tier 1). Subsequently a tote arrives respectively 10.0, 100.0, and 100.0 seconds after the completion of sending its predecessor to the buffer. Make a lot-time-diagram indicating how long a newly generated job spends in which Generator (G0 or G1), in the Buffer, and spends in the Lift. \n",
    "\n",
    "Answer: "
   ]
  },
  {
   "cell_type": "code",
   "execution_count": 11,
   "metadata": {},
   "outputs": [
    {
     "data": {
      "application/vnd.jupyter.widget-view+json": {
       "model_id": "4ede233d488f4418aaa2559786c8cd37",
       "version_major": 2,
       "version_minor": 0
      },
      "image/png": "[encoded data removed]",
      "text/html": [
       "\n",
       "            <div style=\"display: inline-block;\">\n",
       "                <div class=\"jupyter-widgets widget-label\" style=\"text-align: center;\">\n",
       "                    Figure\n",
       "                </div>\n",
       "                <img src='data:image/png;base64,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' width=640.0/>\n",
       "            </div>\n",
       "        "
      ],
      "text/plain": [
       "Canvas(toolbar=Toolbar(toolitems=[('Home', 'Reset original view', 'home', 'home'), ('Back', 'Back to previous …"
      ]
     },
     "metadata": {},
     "output_type": "display_data"
    }
   ],
   "source": [
    "# =================================\n",
    "# Draw the lot-time-diagram\n",
    "# =================================\n",
    "\n",
    "# Set the locations\n",
    "locations = ('G0', 'G1', 'B', 'L')\n",
    "\n",
    "# For each lot, give the entry and exit times at generators G0 and G1, the buffer B, and lift L.\n",
    "lot0 = { 'G0':[   0,   0 ], 'B':[   0,  25 ], 'L':[  25,  50 ] };\n",
    "lot1 = { 'G1':[   1,   1 ], 'B':[   1,  75 ], 'L':[  75, 100 ] };\n",
    "lot2 = { 'G0':[  10,  25 ], 'B':[  25, 125 ], 'L':[ 125, 150 ] };\n",
    "lot3 = { 'G1':[  11,  75 ], 'B':[  75, 175 ], 'L':[ 175, 200 ] };\n",
    "lot4 = { 'G0':[ 125, 125 ], 'B':[ 125, 225 ], 'L':[ 225, 250 ] };\n",
    "lot5 = { 'G1':[ 175, 175 ], 'B':[ 175, 275 ], 'L':[ 275, 300 ] };\n",
    "lot6 = { 'G0':[ 225, 225 ], 'B':[ 225, 325 ], 'L':[ 325, 350 ] };\n",
    "lot7 = { 'G1':[ 275, 275 ], 'B':[ 275, 375 ], 'L':[ 375, 400 ] };\n",
    "\n",
    "# Add all lots together\n",
    "lots = [lot0, lot1, lot2, lot3, lot4, lot5, lot6, lot7];\n",
    "\n",
    "# Draw the lot-time diagram\n",
    "draw_lot_time_diagram(locations, lots)"
   ]
  },
  {
   "cell_type": "markdown",
   "metadata": {},
   "source": [
    "c. Suppose that we want the system to be able to handle priority orders, can you modify the Buffer model to make the lift pick up totes with higher priority first? The generator generates totes with a `tote.priority` property, for which priority 1 is high priority, and priority 2 is low priority. Only the Buffer model needs to be modified, the Tote, Generator and Exit models have already been modified. Give the model of the buffer, and the output log when you run it to show that the buffer is modelled correctly.\n",
    "\n",
    "**Note: in the exercise 6.7 onwards, the Buffer without priorities will be used.**"
   ]
  },
  {
   "cell_type": "code",
   "execution_count": 16,
   "metadata": {},
   "outputs": [
    {
     "name": "stdout",
     "output_type": "stream",
     "text": [
      "Generator 0: Sending tote with priotity 2 to Buffer completed at time 0.0\n",
      "Generator 1: Sending tote with priotity 2 to Buffer completed at time 1.0\n",
      "Generator 0: Sending tote with priotity 1 to Buffer completed at time 25.0\n",
      "Exit: Tote with priority 2 has completely left the Lift and has been received by the Exit at time 50.0\n",
      "Generator 1: Sending tote with priotity 2 to Buffer completed at time 75.0\n",
      "Exit: Tote with priority 2 has completely left the Lift and has been received by the Exit at time 100.0\n",
      "Generator 1: Sending tote with priotity 2 to Buffer completed at time 125.0\n",
      "Exit: Tote with priority 2 has completely left the Lift and has been received by the Exit at time 150.0\n",
      "Generator 1: Sending tote with priotity 1 to Buffer completed at time 175.0\n",
      "Exit: Tote with priority 2 has completely left the Lift and has been received by the Exit at time 200.0\n",
      "Generator 0: Sending tote with priotity 1 to Buffer completed at time 225.0\n",
      "Exit: Tote with priority 1 has completely left the Lift and has been received by the Exit at time 250.0\n",
      "Exit: Tote with priority 1 has completely left the Lift and has been received by the Exit at time 300.0\n",
      "Generator 0: Sending tote with priotity 1 to Buffer completed at time 325.0\n",
      "Exit: Tote with priority 1 has completely left the Lift and has been received by the Exit at time 350.0\n",
      "Exit: Tote with priority 1 has completely left the Lift and has been received by the Exit at time 400.0\n",
      "simulation has ended\n"
     ]
    }
   ],
   "source": [
    "# =================================\n",
    "# Tote definition\n",
    "# =================================\n",
    "@dataclass\n",
    "class Tote:\n",
    "    entrytime: float = 0\n",
    "    tier: int = 0\n",
    "    priority: int = 0\n",
    "        \n",
    "# =================================\n",
    "# Generator\n",
    "# =================================\n",
    "@process\n",
    "def Generator(env, c_out, tier):\n",
    "    delays=[1.0*tier, 1.0, 1.0, 1.0]\n",
    "    priorities=[2, tier+1, tier+1, 1]\n",
    "    while len(delays)>0:\n",
    "        yield env.timeout(delays[0])\n",
    "        delays = delays[1:]\n",
    "        priority = priorities[0]\n",
    "        priorities = priorities[1:]\n",
    "        x = Tote(entrytime = env.now, tier = tier, priority = priority)\n",
    "        yield env.execute(c_out.send(x))\n",
    "        print(f\"Generator {tier:d}: Sending tote with priotity {priority} to Buffer completed at \"\n",
    "              f\"time {env.now:3.1f}\")\n",
    "    yield env.timeout(100.0)\n",
    "    \n",
    "# =================================\n",
    "# Buffer\n",
    "# =================================\n",
    "@process\n",
    "def Buffer(env, channels1, channel2, channel3, bc, Levels):\n",
    "    xs = { }\n",
    "    n = [0] * Levels\n",
    "    lift_called = False\n",
    "    while True:\n",
    "        # Define events\n",
    "        events1 = [channels1[tier].receive() if n[tier] < bc else None for tier in range(Levels)]\n",
    "        if not lift_called:\n",
    "            event3 = None\n",
    "            if len(xs) > 0:\n",
    "                x_sending = xs[max(xs.keys())][0]\n",
    "                event2 = channel2.send(x_sending.tier)\n",
    "            else:\n",
    "                event2 = None\n",
    "\n",
    "        else:\n",
    "            event2 = None\n",
    "            event3 = channel3.send(x_sending)\n",
    "        \n",
    "        # Execute one of the events\n",
    "        events = events1  + [event2] + [event3]\n",
    "        yield env.select(*events)    \n",
    "        \n",
    "        # Check which event is executed\n",
    "        for tier in range(Levels):\n",
    "            if selected(events1[tier]):\n",
    "                x_received = events1[tier].entity\n",
    "                \n",
    "                if x_received.priority not in xs:\n",
    "                    xs[x_received.priority] = [x_received]\n",
    "                else:\n",
    "                    xs[x_received.priority] = xs[x_received.priority] + [x_received]\n",
    "                \n",
    "                n[tier] = n[tier] + 1\n",
    "            \n",
    "        if selected(event2):\n",
    "            lift_called = True\n",
    "\n",
    "        if selected(event3):\n",
    "            xs[x_sending.priority] = xs[x_sending.priority][1:]\n",
    "            if len(xs[x_sending.priority]) == 0:\n",
    "                del xs[x_sending.priority]\n",
    "\n",
    "            n[x_sending.tier] = n[x_sending.tier] - 1\n",
    "            lift_called = False\n",
    "\n",
    "# =================================\n",
    "# Exit \n",
    "# =================================\n",
    "@process\n",
    "def Exit(env, c_in):\n",
    "    while True:\n",
    "        x = yield env.execute(c_in.receive())\n",
    "        print(f\"Exit: Tote with priority {x.priority} has completely left the Lift and has been received \"\n",
    "              f\"by the Exit at time {env.now:3.1f}\");            \n",
    "            \n",
    "# =================================\n",
    "# Model\n",
    "# =================================\n",
    "def model():\n",
    "    # Variables\n",
    "    ll = 2.0  # time to load/unload the lift\n",
    "    bc = 1    # buffer capacity\n",
    "    Levels = 2 # the number of tiers\n",
    "    \n",
    "    env = Environment()\n",
    "    a = [Channel(env) for tier in range(Levels)]\n",
    "    b = Channel(env)\n",
    "    c = Channel(env)\n",
    "    d = Channel(env)\n",
    "    Gs = [Generator(env, a[tier], tier) for tier in range(Levels)] \n",
    "    B = Buffer(env, a, b, c, bc, Levels)\n",
    "    L = Lift(env, b, c, d, ll)\n",
    "    E = Exit(env, d)\n",
    "    env.run(until=10000000)\n",
    "    print (\"simulation has ended\")\n",
    "\n",
    "# =================================\n",
    "# Main\n",
    "# =================================\n",
    "model()"
   ]
  },
  {
   "cell_type": "markdown",
   "metadata": {},
   "source": [
    "## 6.7 Exercise 7: Lift accurately modelled (5 points)\n",
    "\n",
    "Assume that the Lift starts from the ground floor. If it has to go to tier $i \\in \\{0, Levels - 1\\}$, it needs to travel a\n",
    "distance $dl \\cdot (i + 1)$, pick up the tote, travel back, and deliver the tote at the ground floor. For traveling the required distance, the vehicle first goes with a constant acceleration $al$ *m/s$^2$* until it reaches its maximum velocity $vmaxl$, then it moves with this velocity and decelerates with a constant deceleration $al$ to approach its destination tier. If the tier is located too close to the ground floor, it is possible that the Lift will not reach its maximum speed. Loading and unloading a tote both take $ll$ seconds.\n",
    "\n",
    "**Note: from here onwards, the Buffer without priorities will be used.**"
   ]
  },
  {
   "cell_type": "markdown",
   "metadata": {},
   "source": [
    "a. The time the lift is moving can be calculated similarly to how it was done for the vehicle in Exercise 4. Note that it takes the Lift half the time to move to pick the tote up, and then half the time to move back to drop the tote off. Using this information, determine (analytically) the time $t_{total}(i)$ it takes the Lift to pick up and drop off the item in terms of $ i $, $ dl $, $ al $, $ ll $, and $ vmaxl $."
   ]
  },
  {
   "cell_type": "markdown",
   "metadata": {},
   "source": [
    "\n",
    "Answer:\n",
    "\n",
    "$\n",
    "v = al\\cdot t\n",
    "$\n",
    "\n",
    "$\n",
    "x=\\frac{1}{2}al\\cdot t^2\n",
    "$\n",
    "\n",
    "$\n",
    "t_{accerate} = t_{decelerate} = \\frac{vmaxl}{al}\n",
    "$\n",
    "\n",
    "$\n",
    "x_{accerate} = x_{decelerate} = \\frac{1}{2} al \\cdot t_{accelarate}^2 = \\frac{1}{2} al \\cdot (\\frac{vmaxl}{al})^2 = \\frac{1}{2}\\frac{vmaxl^2}{al}\n",
    "$\n",
    "\n",
    "$\n",
    "x_{acc+dec}=x_{acceration}+x_{deceleration} = \\frac{vmaxl^2}{al}\n",
    "$\n",
    "\n",
    "$x_{acc+dec}$ is the minimum distance where the lift reaches its maximum speed during the movement.\n",
    "\n",
    "When the vehicle moves a distance $x$ larger than $x_{acc+dec}$, the lift will move with a constant speed $vmaxl$ between acceration and decerelration and the total time can be calculated with\n",
    "\n",
    "$\n",
    "\\Large t_{accelerate} + t_{decelerate} + \\frac{x-x_{acc+dec}}{vmaxl} = 2\\cdot\\frac{vmaxl}{al} + \\frac{x-\\frac{vmaxl^2}{al}}{vmaxl} = \\frac{vmaxl}{al} + \\frac{x}{vmaxl}\n",
    "$\n",
    "\n",
    "When the distance $x$ is smaller than $x_{acc+dec}$, because the acceration and deceration speeds are the same, the total time is twice the time to reach the middle point of the movement. The time to reach the middle point can be calulated with\n",
    "\n",
    "$\n",
    "x_{accerate} = x_{decelerate} = \\frac{x}{2}\n",
    "$\n",
    "\n",
    "$\n",
    "t_{accerating} = t_{decelerating} = \\sqrt{\\frac{2x_{accerate}}{al}} = \\sqrt{\\frac{x}{al}}\n",
    "$\n",
    "\n",
    "$\n",
    "t_{accerating} + t_{decelerating} = 2\\cdot\\sqrt{\\frac{x}{al}}\n",
    "$\n",
    "\n"
   ]
  },
  {
   "cell_type": "markdown",
   "id": "eb93793a",
   "metadata": {},
   "source": [
    "Now we can calculate the total time to move a distance $x$ with\n",
    "\n",
    "$\n",
    "\\large t_{moving}(x) =\n",
    "    \\begin{cases}\n",
    "      2\\cdot\\sqrt{\\frac{x}{al}} \\ , & \\text{for}\\ x \\leq \\ \\frac{vmaxl^2}{al} \\ , \\\\\n",
    "      \\frac{vmaxl}{al} + \\frac{x}{vmaxl} \\ , & \\text{for}\\ x >    \\ \\frac{vmaxl^2}{al} \\ .\n",
    "    \\end{cases}\n",
    "$\n",
    "\n",
    "Where the total time for the lift to move an item from the ground floor to tier $i$ and back is given by\n",
    "\n",
    "$\n",
    "\\large t_{total}(i) =\n",
    "    \\begin{cases}\n",
    "      4\\cdot\\sqrt{\\frac{dl\\cdot(i+1)}{al}} + 2\\cdot ll \\ , & \\text{for} \\ i \\leq \\ \\frac{vmaxl^2}{al\\cdot dl}-1 \\ , \\\\\n",
    "      2\\cdot\\left(\\frac{vmaxl}{al} + \\frac{dl\\cdot(i+1)}{vmaxl}\\right) + 2\\cdot ll \\ , & \\text{for} \\ i >    \\ \\frac{vmaxl^2}{al\\cdot dl}-1 \\ .\n",
    "    \\end{cases}\n",
    "$"
   ]
  },
  {
   "cell_type": "markdown",
   "metadata": {},
   "source": [
    "b. Consider two tiers ($Levels = 2$), and assume that for tier $i \\in \\{0, Levels - 1\\}$ the first tote arrives after $i$ seconds (for two tiers: after 0.0 for tier 0 and after 1.0 for tier 1). Subsequently a tote arrives respectively 10.0, 100.0, and 100.0 seconds after the completion of sending its predecessor to the buffer. Make a lot-time-diagram indicating how long a newly generated job spends in which Generator, in the Buffer, and spends in the Lift."
   ]
  },
  {
   "cell_type": "code",
   "execution_count": 23,
   "metadata": {},
   "outputs": [
    {
     "data": {
      "application/vnd.jupyter.widget-view+json": {
       "model_id": "83a14e13df6d43d69dee944fe03803f0",
       "version_major": 2,
       "version_minor": 0
      },
      "image/png": "[encoded data removed]",
      "text/html": [
       "\n",
       "            <div style=\"display: inline-block;\">\n",
       "                <div class=\"jupyter-widgets widget-label\" style=\"text-align: center;\">\n",
       "                    Figure\n",
       "                </div>\n",
       "                <img src='data:image/png;base64,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' width=640.0/>\n",
       "            </div>\n",
       "        "
      ],
      "text/plain": [
       "Canvas(toolbar=Toolbar(toolitems=[('Home', 'Reset original view', 'home', 'home'), ('Back', 'Back to previous …"
      ]
     },
     "metadata": {},
     "output_type": "display_data"
    }
   ],
   "source": [
    "# =================================\n",
    "# Draw the lot-time-diagram\n",
    "# =================================\n",
    "\n",
    "# Set the locations\n",
    "locations = ('G0', 'G1', 'B', 'L')\n",
    "\n",
    "# For each lot, give the entry and exit times at generators G0 and G1, the buffer B, and lift L.\n",
    "lot0 = { 'G0':[   0,   0 ], 'B':[   0,     0 ], 'L':[     0,   5.4 ] };\n",
    "lot1 = { 'G1':[   1,   1 ], 'B':[   1,   5.4 ], 'L':[   5.4,  11.3 ] };\n",
    "lot2 = { 'G0':[  10,  10 ], 'B':[  10,  11.3 ], 'L':[  11.3,  16.6 ] };\n",
    "lot3 = { 'G1':[  11,  11 ], 'B':[  11,  16.6 ], 'L':[  16.6,  22.5 ] };\n",
    "lot4 = { 'G0':[ 110, 110 ], 'B':[ 110, 110   ], 'L':[ 110  , 115.4 ] };\n",
    "lot5 = { 'G1':[ 111, 111 ], 'B':[ 111, 115.4 ], 'L':[ 115.4, 121.3 ] };\n",
    "lot6 = { 'G0':[ 210, 210 ], 'B':[ 210, 210   ], 'L':[ 210  , 214.4 ] };\n",
    "lot7 = { 'G1':[ 211, 211 ], 'B':[ 211, 214.4 ], 'L':[ 214.4, 221.3 ] };\n",
    "\n",
    "# Add all lots together\n",
    "lots = [lot0, lot1, lot2, lot3, lot4, lot5, lot6, lot7];\n",
    "\n",
    "# Draw the lot-time diagram\n",
    "draw_lot_time_diagram(locations, lots)"
   ]
  },
  {
   "cell_type": "markdown",
   "metadata": {},
   "source": [
    "c. Complete the Lift in the simulation code in the template below, and confirm that your simulations produce the correct results, i.e., in correspondence with your lot-time-diagram."
   ]
  },
  {
   "cell_type": "code",
   "execution_count": 28,
   "metadata": {},
   "outputs": [
    {
     "name": "stdout",
     "output_type": "stream",
     "text": [
      "Generator 0: Sending tote to Buffer completed at time 0.0\n",
      "5.352246807565627\n",
      "Generator 1: Sending tote to Buffer completed at time 1.0\n",
      "Exit: Tote has completely left the Lift and has been received by the Exit at time 5.4\n",
      "5.91236577493503\n",
      "Generator 0: Sending tote to Buffer completed at time 10.0\n",
      "Generator 1: Sending tote to Buffer completed at time 11.0\n",
      "Exit: Tote has completely left the Lift and has been received by the Exit at time 11.3\n",
      "5.352246807565627\n",
      "Exit: Tote has completely left the Lift and has been received by the Exit at time 16.6\n",
      "5.91236577493503\n",
      "Exit: Tote has completely left the Lift and has been received by the Exit at time 22.5\n",
      "Generator 0: Sending tote to Buffer completed at time 110.0\n",
      "5.352246807565627\n",
      "Generator 1: Sending tote to Buffer completed at time 111.0\n",
      "Exit: Tote has completely left the Lift and has been received by the Exit at time 115.4\n",
      "5.91236577493503\n",
      "Exit: Tote has completely left the Lift and has been received by the Exit at time 121.3\n",
      "Generator 0: Sending tote to Buffer completed at time 210.0\n",
      "5.352246807565627\n",
      "Generator 1: Sending tote to Buffer completed at time 211.0\n",
      "Exit: Tote has completely left the Lift and has been received by the Exit at time 215.4\n",
      "5.91236577493503\n",
      "Exit: Tote has completely left the Lift and has been received by the Exit at time 221.3\n",
      "simulation has ended\n"
     ]
    }
   ],
   "source": [
    "# =================================\n",
    "# Tote definition\n",
    "# =================================\n",
    "@dataclass\n",
    "class Tote:\n",
    "    entrytime: float = 0\n",
    "    tier: int = 0\n",
    "\n",
    "# =================================\n",
    "# Generator\n",
    "# =================================\n",
    "@process\n",
    "def Generator(env, c_out, tier):\n",
    "    delays=[1.0*tier, 10.0, 100.0, 100.0]\n",
    "    while len(delays)>0:\n",
    "        yield env.timeout(delays[0])\n",
    "        delays = delays[1:]\n",
    "        x = Tote(entrytime = env.now, tier = tier)\n",
    "        yield env.execute(c_out.send(x))\n",
    "        print(f\"Generator {tier:d}: Sending tote to Buffer completed at \"\n",
    "              f\"time {env.now:3.1f}\")\n",
    "    yield env.timeout(100.0)\n",
    "\n",
    "# =================================\n",
    "# Lift\n",
    "# =================================\n",
    "@process\n",
    "def Lift(env, channel1, channel2, channel3, ll, dl, vmaxl, al):\n",
    "    while True:\n",
    "        \n",
    "        event1 = channel1.receive()\n",
    "        entity1 = yield env.execute(event1)\n",
    "\n",
    "        def f_total_time(i):\n",
    "            x = dl * (i+1)\n",
    "\n",
    "            if x <= vmaxl**2/al:\n",
    "                t = 4 * math.sqrt(x/al) + 2*ll\n",
    "            else:\n",
    "                t = 2*(vmaxl/al + x/vmaxl) + 2*ll\n",
    "            print(t);\n",
    "            return t\n",
    "\n",
    "        t_total = f_total_time(entity1)\n",
    "        \n",
    "        event2 = env.timeout(t_total/2)\n",
    "        yield event2\n",
    "        \n",
    "        event3 = channel2.receive()\n",
    "        entity2 = yield env.execute(event3)\n",
    "        \n",
    "        event4 = env.timeout(t_total/2)\n",
    "        yield event4\n",
    "        \n",
    "        event5 = channel3.send(entity2)\n",
    "        yield env.execute(event5)\n",
    "\n",
    "# =================================\n",
    "# Buffer\n",
    "# =================================\n",
    "@process\n",
    "def Buffer(env, channels1, channel2, channel3, bc, Levels):\n",
    "    xs = []\n",
    "    n = [0] * Levels\n",
    "    lift_called = False\n",
    "    while True:\n",
    "        # Define events\n",
    "        events1 = [channels1[tier].receive() if n[tier] < bc else None for tier in range(Levels)]\n",
    "        if not lift_called:\n",
    "            event3 = None\n",
    "            if len(xs) > 0:\n",
    "                x_sending = xs[0]\n",
    "                event2 = channel2.send(x_sending.tier)\n",
    "            else:\n",
    "                event2 = None\n",
    "        else:\n",
    "            event2 = None\n",
    "            event3 = channel3.send(x_sending)\n",
    "        \n",
    "        # Execute one of the events\n",
    "        events = events1  + [event2] + [event3]\n",
    "        yield env.select(*events)    \n",
    "        \n",
    "        # Check which event is executed\n",
    "        for tier in range(Levels):\n",
    "            if selected(events1[tier]):\n",
    "                x_received = events1[tier].entity\n",
    "                xs = xs + [x_received]\n",
    "                n[tier] = n[tier] + 1\n",
    "            \n",
    "        if selected(event2):\n",
    "            lift_called = True\n",
    "           \n",
    "        if selected(event3):\n",
    "            xs = xs[1:]\n",
    "            n[x_sending.tier] = n[x_sending.tier] - 1\n",
    "            lift_called = False\n",
    "\n",
    "@process\n",
    "def Exit(env, c_in):\n",
    "    while True:\n",
    "        x = yield env.execute(c_in.receive())\n",
    "        print(f\"Exit: Tote has completely left the Lift and has been received \"\n",
    "                 f\"by the Exit at time {env.now:3.1f}\")\n",
    "\n",
    "# =================================\n",
    "# Model\n",
    "# =================================\n",
    "def model():\n",
    "    # Variables\n",
    "    ll = 2.0        # time to load/unload the lift\n",
    "    bc = 1          # buffer capacity\n",
    "    Levels = 2      # the number of tiers\n",
    "    dl = 0.8        # unit height clearance\n",
    "    vmaxl = 5.0     # maximum velocity of lift\n",
    "    al = 7.0        # acceleration/deceleration of lift\n",
    "    \n",
    "    env = Environment()\n",
    "    a = [Channel(env) for tier in range(Levels)] # a channel for each tier, each sending totes\n",
    "    b = Channel(env)  # for sending totes\n",
    "    c = Channel(env)  # for calling the lift\n",
    "    d = Channel(env)  # for sending totes\n",
    "    Gs = [Generator(env, a[tier], tier) for tier in range(Levels)] \n",
    "    B = Buffer(env, a, b, c, bc, Levels)\n",
    "    L = Lift(env, b, c, d, ll, dl, vmaxl, al)\n",
    "    E = Exit(env, d)\n",
    "    env.run()\n",
    "    print (\"simulation has ended\")\n",
    "\n",
    "    \n",
    "# =================================\n",
    "# Main\n",
    "# =================================\n",
    "model()"
   ]
  },
  {
   "cell_type": "markdown",
   "metadata": {},
   "source": [
    "## 6.8 Exercise 8: Entire system (10 points)\n",
    "In the previous exercises we developed and tested each process individually. Now it is time to combine all processes into one model."
   ]
  },
  {
   "cell_type": "markdown",
   "metadata": {},
   "source": [
    "a. Determine the (total) arrival rate of orders for a system with $Levels$ tiers, where for each tier orders arrive with a mean inter arrival time of $arrive$."
   ]
  },
  {
   "cell_type": "markdown",
   "metadata": {},
   "source": [
    "Answer: ...\n",
    "\n"
   ]
  },
  {
   "cell_type": "markdown",
   "metadata": {},
   "source": [
    "b. Complete the simulation code in the template below by substituting the code for the processes as you derived in Exercises 1, 2, 4, 6, and 7. Note that the type tote has been extended in comparison with Exercise 1, so extra code is required in the Generator process to include the tier.\n",
    "\n",
    "Verify that the throughput in your simulations matches with the start rate you determined. Verify that totes reach the exit from each tier. Also verify that totes are generated from each column. Give the determined throughput and min and max values for column and tier.\n",
    "\n",
    "If you were not able to complete the Vehicle and Lift models, you can use the simplified models from respectively Exercises 3 and 5, with a total processing time $t_{vehicle, total} = 10 + \\frac{depth}{3}$ for the vehicle, and a total processing time $t_{lift, total} = 5 + \\frac{Level}{5}$. You can do the same for the following exercises."
   ]
  },
  {
   "cell_type": "markdown",
   "metadata": {},
   "source": [
    "Answer: ...\n",
    "\n"
   ]
  },
  {
   "cell_type": "code",
   "execution_count": 25,
   "metadata": {},
   "outputs": [
    {
     "name": "stdout",
     "output_type": "stream",
     "text": [
      "--- Experiment 2.718281828459045: For Levels=9, depth=55, arrive=70.0, bc=1, number_of_orders=10000 --- \n",
      "--- Experiment 2.718281828459045: Mean throughput = 0.127565; Mean flowtime = 68.1435 ---\n"
     ]
    }
   ],
   "source": [
    "# =================================\n",
    "# Tote\n",
    "# =================================\n",
    "@dataclass\n",
    "class Tote:\n",
    "    entrytime: float = 0.0\n",
    "    column: int = 0\n",
    "    tier: int  = 0\n",
    "        \n",
    "        \n",
    "# =================================\n",
    "# Generator from Exercise 1 (modified to include tier) \n",
    "# =================================\n",
    "@process\n",
    "def Generator(env, c_out, arrive, depth, tier):\n",
    "    while True:\n",
    "        x = Tote(entrytime = env.now, column = random.randint(0, depth), tier = tier)\n",
    "        yield env.execute(c_out.send(x))\n",
    "        delay = random.exponential(arrive)\n",
    "        yield env.timeout(delay)\n",
    "\n",
    "\n",
    "# =================================\n",
    "# Demand Buffer from Exercise 2\n",
    "# =================================\n",
    "@process\n",
    "def Demand_Buffer(env, c_in, c_out):\n",
    "    xs = [] # list of totes\n",
    "\n",
    "    while True:\n",
    "        sending = c_out.send(xs[0]) if len(xs)>0 else None  # If there is an item in the buffer\n",
    "        receiving = c_in.receive()\n",
    "\n",
    "        x = yield env.select(sending, receiving)\n",
    "        if selected(receiving):\n",
    "            xs.append(x)\n",
    "        if selected(sending):\n",
    "            xs.pop(0)\n",
    "\n",
    "    \n",
    "# =================================\n",
    "# Vehicle from Exercise 4\n",
    "# =================================\n",
    "@process\n",
    "def Vehicle(env, c_in, c_out, lv, dv, vmaxv, av):\n",
    "    def t_total_vehicle(i):\n",
    "        x = dv * (i+1)\n",
    "\n",
    "        if x <= vmaxv**2/av:\n",
    "            t = 4 * math.sqrt(x/av) + 2*lv\n",
    "        else:\n",
    "            t = 2*(vmaxv/av + x/vmaxv) + 2*lv\n",
    "    \n",
    "        return t\n",
    "\n",
    "    while True:\n",
    "        tote = yield env.execute(c_in.receive())\n",
    "        \n",
    "        tp = t_total_vehicle(tote.column)\n",
    "        \n",
    "        yield env.timeout(tp)\n",
    "        yield env.execute(c_out.send(tote))\n",
    "\n",
    "    \n",
    "# =================================\n",
    "# Lift from Exercise 7\n",
    "# =================================\n",
    "@process\n",
    "def Lift(env, channel1, channel2, channel3, ll, dl, vmaxl, al):\n",
    "    while True:\n",
    "        \n",
    "        event1 = channel1.receive()\n",
    "        entity1 = yield env.execute(event1)\n",
    "\n",
    "        def t_total_lift(i):\n",
    "            x = dl * (i+1)\n",
    "\n",
    "            if x <= vmaxl**2/al:\n",
    "                t = 4 * math.sqrt(x/al) + 2*ll\n",
    "            else:\n",
    "                t = 2*(vmaxl/al + x/vmaxl) + 2*ll\n",
    "            \n",
    "            return t\n",
    "\n",
    "        t_total = t_total_lift(entity1)\n",
    "        \n",
    "        event2 = env.timeout(t_total/2)\n",
    "        yield event2\n",
    "        \n",
    "        event3 = channel2.receive()\n",
    "        entity2 = yield env.execute(event3)\n",
    "        \n",
    "        event4 = env.timeout(t_total/2)\n",
    "        yield event4\n",
    "        \n",
    "        event5 = channel3.send(entity2)\n",
    "        yield env.execute(event5)\n",
    "\n",
    "    \n",
    "# =================================\n",
    "# Buffer from Exercise 6a\n",
    "# =================================\n",
    "@process\n",
    "def Buffer(env, channels1, channel2, channel3, bc, Levels):\n",
    "    xs = []\n",
    "    n = [0] * Levels\n",
    "    while True:\n",
    "        events1 = [channels1[tier].receive() if n[tier] < bc else None for tier in range(Levels)]\n",
    "        event2 = channel2.send(xs[0].tier) if len(xs) > 0 else None\n",
    "        event3 = channel3.send(xs[0]) if len(xs) > 0 else None\n",
    "        events = events1 + [event2] + [event3]\n",
    "\n",
    "        yield env.select(*events)\n",
    "        \n",
    "        for tier in range(Levels):\n",
    "            if selected(events1[tier]):\n",
    "                x = events1[tier].entity\n",
    "                xs = xs + [x]\n",
    "                n[tier] = n[tier] + 1\n",
    "        \n",
    "        if selected(event2):\n",
    "            pass\n",
    "            \n",
    "        if selected(event3):\n",
    "            tier = xs[0].tier \n",
    "            xs = xs[1:]\n",
    "            n[tier] = n[tier] - 1\n",
    "\n",
    "    \n",
    "# =================================\n",
    "# Exit\n",
    "# =================================\n",
    "@process\n",
    "def Exit(env, c_in, number_of_orders):\n",
    "    mphi = 0.0\n",
    "    for i in range(1, number_of_orders + 1):\n",
    "        x = yield env.execute(c_in.receive())\n",
    "        mphi = (i - 1) / i * mphi + (env.now - x.entrytime) / i\n",
    "        mthi = i/env.now\n",
    "    return mphi, mthi \n",
    "\n",
    "\n",
    "        \n",
    "# =================================\n",
    "# GDV Submodel (Generator + DemandBuffer  + Vehicle)\n",
    "# =================================\n",
    "def GDV(env, c_out, arrive, depth, tier, lv, dv, vmaxv, av):\n",
    "    a = Channel(env)\n",
    "    b = Channel(env)\n",
    "    G = Generator(env, a, arrive, depth, tier)\n",
    "    D = Demand_Buffer(env, a, b)\n",
    "    V = Vehicle(env, b, c_out, lv, dv, vmaxv, av)\n",
    "\n",
    "    \n",
    "# =================================\n",
    "# Model\n",
    "# =================================\n",
    "def model(Levels, depth, arrive, bc, number_of_orders):\n",
    "    # Variables\n",
    "    lv = 3.0                   # time to load/unload the vehicle\n",
    "    dv = 0.5                   # unit width clearance\n",
    "    vmaxv = 1.5                # maximum velocity of the vehicle\n",
    "    av = 1.0                   # acceleration/deceleration of the vehicle\n",
    "    ll = 2.0                   # time to load/unload the lift\n",
    "    dl = 0.8                   # unit height clearance\n",
    "    vmaxl = 5.0                # maximum velocity of lift\n",
    "    al = 7.0                   # acceleration/deceleration of lift\n",
    "    \n",
    "    env = Environment()\n",
    "    c = [Channel(env) for tier in range(Levels)] \n",
    "    d = Channel(env)  \n",
    "    e = Channel(env)  \n",
    "    f = Channel(env)  \n",
    "    GDVs = [ GDV(env, c[tier], arrive, depth, tier, lv, dv, vmaxv, av)  for tier in range(Levels) ] \n",
    "    B = Buffer(env, c, d, e, bc, Levels)\n",
    "    L = Lift(env, d, e, f, ll, dl, vmaxl, al)\n",
    "    E = Exit(env, f, number_of_orders)\n",
    "    env.run(until=E)\n",
    "    mph, mth = E.value\n",
    "    return mph, mth\n",
    "\n",
    "\n",
    "# =================================\n",
    "# Experiment\n",
    "# =================================\n",
    "def experiment():\n",
    "    Levels = 9                # the number of tiers\n",
    "    depth  = 55               # the number of columns\n",
    "    arrive = 70.0             # inter arrival time of requests\n",
    "    number_of_orders = 10000  # the number of orders to process \n",
    "    bc = 1                    # buffer capacity\n",
    "    \n",
    "    print(f\"--- Experiment {e}: For Levels={Levels}, depth={depth}, arrive={arrive}, bc={bc}, number_of_orders={number_of_orders} --- \")\n",
    "    mph, mth = model(Levels, depth, arrive, bc, number_of_orders)\n",
    "    print(f\"--- Experiment {e}: Mean throughput = {mth:8.6f}; Mean flowtime = {mph:6.4f} ---\")\n",
    "    \n",
    "# =================================\n",
    "# Main\n",
    "# =================================\n",
    "experiment()"
   ]
  },
  {
   "cell_type": "markdown",
   "metadata": {},
   "source": [
    "c. Run your simulation 30 times, and record for each run the resulting average throughput and average flow time.\n",
    "Determine the mean and the standard deviation of both the average throughput and the average flow time for these 30 simulations. Finally, determine a 95% confidence interval for both the average throughput and the average flow time. Give the results as your answer."
   ]
  },
  {
   "cell_type": "markdown",
   "metadata": {},
   "source": [
    "Answer: ...\n",
    "\n"
   ]
  },
  {
   "cell_type": "code",
   "execution_count": null,
   "metadata": {},
   "outputs": [],
   "source": [
    "def experiment():\n",
    "     ...\n",
    "        \n",
    "\n",
    "experiment()"
   ]
  },
  {
   "cell_type": "markdown",
   "metadata": {},
   "source": [
    "## 6.9 Exercise 9: Effect of buffer capacity (10 points)\n",
    "Via computer simulation analyze the impact of the buffer capacity on the throughput and flow time (choose values of $bc$ as 1,2,3,200). For each setting, run your simulations 30 times and determine both mean and standard deviation of the resulting average throughput and average flow time for these 30 simulations, as well as 95% confidence intervals.\n",
    "\n",
    "Please give your results, and describe your findings."
   ]
  },
  {
   "cell_type": "markdown",
   "metadata": {},
   "source": [
    "Answer: ...\n",
    "\n"
   ]
  },
  {
   "cell_type": "markdown",
   "metadata": {},
   "source": [
    "## 6.10 Exercise 10: Looking for the best layout (30 points)\n",
    "Via computer simulation consider 6 different scenarios (see the table below) that correspond to different layouts of the\n",
    "storage facility with a total capacity of 500 totes with different number of tiers and columns.\n",
    "\n",
    "| Scenario | 1 | 2 | 3 | 4| 5 | 6 |\n",
    "| - | - | - | - | - | - | - |\n",
    "| Levels |  2 | 5 | 10 | 20 | 25 | 50 |\n",
    "| Depth | 250 | 100 | 50 | 25 | 20 | 10 |\n",
    "\n",
    "In order to obtain an answer to the questions below: for each scenario, run your simulations 30 times and determine both mean and standard deviation of the resulting average throughput and average flow time for these 30 simulations, as well as 95% confidence intervals."
   ]
  },
  {
   "cell_type": "markdown",
   "metadata": {},
   "source": [
    "a. Just changing the levels and depth, is not enough to determine the maximum achievable throughput of a design. Which parameter of the model should we change if we want to determine the maximum throughput?\n",
    "\n",
    " For each scenario, determine by means of simulation the maximal throughput.\n",
    "\n",
    "What did you change in your model? Give your results including confidence intervals. What do you notice about the flowtime? Can you explain whats happening?\n"
   ]
  },
  {
   "cell_type": "markdown",
   "metadata": {},
   "source": [
    "Answer: ...\n",
    "\n"
   ]
  },
  {
   "cell_type": "markdown",
   "metadata": {},
   "source": [
    "b. Assume a required throughput of 6 totes per minute. Which of the given scenarios are feasible?\n",
    "\n",
    " Again, a change needs to be made to your model if we want to determine if the scenario can handle the required throughput. Modify your model, and compare the resulting flow time for each feasible scenario.\n",
    "\n",
    "What did you change in your model? Give the results including confidence intervals."
   ]
  },
  {
   "cell_type": "markdown",
   "metadata": {},
   "source": [
    "Answer: ...\n",
    "\n"
   ]
  },
  {
   "cell_type": "markdown",
   "metadata": {},
   "source": [
    "c. Based on your outcomes, select a layout that seems the best for you. The report on this step should contain an argument to select the best layout, and should consider if the layout is statistically significantly better than the other layouts. Can you think of other performance indicators that you could use to select the best layout besides the throughput and flow time?\n",
    "\n",
    "\n"
   ]
  },
  {
   "cell_type": "markdown",
   "metadata": {},
   "source": [
    "Answer: ...\n",
    "\n"
   ]
  },
  {
   "cell_type": "markdown",
   "metadata": {},
   "source": [
    "## References\n",
    "[1] G. Marchet, M. Melanci, S. Perotti and E. Tappia, \"Analytical model to estimate performance of autonomous vehicle storage and retrieval systems for product totes\", International Journal of Production Research, vol. 50(24), 7134-7148, 2012."
   ]
  }
 ],
 "metadata": {
  "kernelspec": {
   "display_name": "Python (pychEnv)",
   "language": "python",
   "name": "pychenv"
  },
  "language_info": {
   "codemirror_mode": {
    "name": "ipython",
    "version": 3
   },
   "file_extension": ".py",
   "mimetype": "text/x-python",
   "name": "python",
   "nbconvert_exporter": "python",
   "pygments_lexer": "ipython3",
   "version": "3.11.6"
  }
 },
 "nbformat": 4,
 "nbformat_minor": 5
}
