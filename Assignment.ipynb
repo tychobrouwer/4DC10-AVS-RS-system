{
 "cells": [
  {
   "cell_type": "markdown",
   "metadata": {},
   "source": [
    "**To make the assignment, first run the code below to import the right libraries.**"
   ]
  },
  {
   "cell_type": "code",
   "execution_count": 7,
   "id": "9773d3b9",
   "metadata": {},
   "outputs": [],
   "source": [
    "# =================================\n",
    "# Imports\n",
    "# =================================\n",
    "from PyCh import *\n",
    "from numpy import random\n",
    "from dataclasses import dataclass\n",
    "%matplotlib ipympl\n",
    "from matplotlib import pyplot\n",
    "import math"
   ]
  },
  {
   "cell_type": "markdown",
   "id": "c38c064e",
   "metadata": {},
   "source": [
    "<h1><center> 4DC10. Intermediate assignment</center></h1>\n",
    "<h2><center> Modeling and simulation of an autonomous vehicle storage and retrieval system</center></h2>\n",
    "    \n",
    "# 1 Subject\n",
    "\n",
    "Today's competitive environment, in which deliveries need to be faster and order sizes become smaller, forces material handling providers to progressively develop new and better solutions. A recent development in automated material-handling technology for unit load storage and retrieval is the autonomous vehicle storage and retrieval system (AVS/RS). Figure 1 shows a representation of an AVS/RS for the handling of totes, while Figure 2 illustrates a single tier (floor, level). The storage racks are single-deep and double-sided. Each storage position is of the same size and can hold one tote. Lifts are mounted at fixed locations at one end of each storage aisle. The input/output (I/O) point is located at the first tier beside each lift. Autonomous vehicles are dedicated to a storage aisle within a specific tier (so-called tier-captive configuration). The first position on either side of the storage aisle in all tiers serves as a buffer and is used to manage the transfer of totes between vehicles and lifts (see Figure 2). One buffer (out) handles totes which have been retrieved, the other one (in), located on the other side of the storage aisle, handles the totes to be stored. The presence of these buffers allows the lift and vehicle to work independently of each other. \n",
    "\n",
    "The throughput performance of AVS/RS systems can be affected by design decisions (such as number of tiers, number of aisles, and depth of aisles) as well as operational decisions (such as tote storage location and order assignment).\n",
    "\n",
    "Figure 1: AVS/RS with tier-captive configuration [1] | Figure 2: Single tier in AVS/RS [1]\n",
    "- | - \n",
    "<img src=\"figures/avs.png\" alt=\"drawing\" width=\"400\"/> | <img src=\"figures/avrs2.png\" alt=\"drawing\" width=\"400\"/>\n",
    "\n",
    "\n"
   ]
  },
  {
   "cell_type": "markdown",
   "id": "b6e6fdb8",
   "metadata": {},
   "source": [
    "# 2 Goal\n",
    "The goal of this assignment is to study this new material handling solution by using computer simulation. This study can be restricted to the retrieval process only, i.e., the vehicles perform only single retrieval cycles. Clearly, the retrieval phase is the most critical activity from an organisational viewpoint, as it is directly related to customer service level and &mdash; in contrast to the storage phase &mdash; it cannot be postponed to a period of low workload. \n",
    "\n",
    "The objectives of this assignment can be summarized as follows:\n",
    "- Develop a simulation model of one aisle that consists of several tiers with retrieval process to assess the system performance in terms of throughput and flow time.\n",
    "- Systematically develop the model process by process, and verify and validate each process using analytical results.\n",
    "- Investigate design trade-offs, i.e., via different layouts (number of columns and tiers), for this material handling system."
   ]
  },
  {
   "cell_type": "markdown",
   "id": "a3086f5f",
   "metadata": {},
   "source": [
    "# 3 Description of the AVS/RS\n",
    "The AVS/RS is a fully automated system that can store and retrieve unit loads. The unit loads are placed in totes, a type of box, and these totes are placed in a designated aisle and column for storage. When retrieved, an autonomous vehicle places the totes in a buffer at the end of the aisle. There is one autonomous vehicle for every aisle within the tier. This is called the tier-captive configuration. From the buffer, the totes are picked by a lift that serves all tiers in one aisle, see Figure 2. In this assignment only one aisle that consists of $Levels$ tiers has to be modelled. Each aisle has depth number of columns of width $dv$ metres and height $dl$ metres.\n",
    "\n",
    "Requests for a tote arrive for each tier, asking for a tote with a random (uniformly distributed) column assigned to it. The inter arrival time of requests is exponentially distributed with mean value $arrive$.\n",
    "\n",
    "The vehicles transport totes along the aisle (one vehicle per tier). The time taken by the vehicle to process an order depends on the tote's location. The vehicle has to travel to this location, load the tote (it takes a fixed amount of time equal to $lv$ seconds), then go back to the end of the aisle and, finally, unload the tote to the buffer (again this takes $lv$ seconds). The speed profile of each vehicle is described as follows. First, the vehicle goes with a constant acceleration $av$ *m/s$^2$* until it reaches its maximum velocity $vmaxv$, then it moves with this velocity and decelerates with a constant deceleration $av$ to approach its destination point. If the tote is located too close to the end of the aisle, it is possible that the vehicle will not reach its maximum speed.\n",
    "\n",
    "The vehicles unload the totes to a location where it is picked up by the lift. At any given time only one tote per tier is allowed to occupy such a position.\n",
    "\n",
    "The lift transports the totes from every tier to the ground floor. The processing time depends on the tote's location and the fixed time to load and unload the tote ($ll$ seconds for loading and $ll$ seconds for unloading). The maximum speed of the lift is $vmaxl$ $m/s$ with a speed profile similar to that of the vehicles (constant acceleration/deceleration of $al$ *m/s<sup>2</sup>*)."
   ]
  },
  {
   "cell_type": "markdown",
   "id": "eac2874a",
   "metadata": {},
   "source": [
    "# 4 Modeling of the AVS/RS\n",
    "The model consists of several processes communicating via channels, see Figure 3.\n",
    "\n",
    "| Figure 3: The processes in the model | \n",
    "- \n",
    "<img src=\"figures/avrs.png\" alt=\"drawing\" width=\"400\"/> \n",
    "\n",
    "A brief description of the processes is given below:\n",
    "- **G:** The generator models the arrival of orders for totes. There is one generator per tier.\n",
    "- **DB:** The demand buffer stores the orders to be picked up by the vehicles. The vehicle processes the orders under first-come-first-serve policy. It can always receive a tote, but it releases a tote only when the vehicle is ready to pick it up.\n",
    "- **V:** The vehicle can be modeled as a server with a variable processing time.\n",
    "- **GDV:** The process consisting of a Generator, Demand Buffer and Vehicle for one tier of the AVS/RS system.\n",
    "- **B:** The buffer stores the totes from the vehicles awaiting for a pick-up by the lift. The buffer operates under first-come-first-serve policy and has a finite capacity of $bc$ totes per tier. So, every tier has a buffer location of finite capacity of $bc$ totes. All those locations together form the buffer B that accommodates all the totes which are processed by the same lift. When the buffer is not empty (there is at least one tote on one of the tiers), the buffer sends information about the tier of the longest waiting tote to the lift upon request. This information is used by the lift to determine the location of the tote (the number of the tier the tote is located in). Once the lift is ready to pick it up, the tote is released to the lift. There are two types of queues in the buffer: $xs$ contains all the totes to be picked up by the lift and there are $Levels$ counters $n$ counting the totes from the corresponding tier.\n",
    "- **L:** The lift, similar to the process **V**, is modeled as a machine with a variable processing time. A lift first receives a destination tier. Then the process delays for time required for the lift to go to the tote location and pick up the tote. Then it receives the tote, and next it delays for the time required to go to the ground floor and to unload the tote. After that the lift process is ready to release the tote to the Exit process.\n",
    "- **E:** In the exit process all the data related to each tote are collected. This process calculates the average throughput and the average flow-time. The number of totes to be processed by the AVS/RS during one simulation run is determined by the constant $number\\_of\\_orders$."
   ]
  },
  {
   "cell_type": "markdown",
   "id": "be617c9a",
   "metadata": {},
   "source": [
    "# 5 Remark concerning report\n",
    "The assignment must be handed in two ways: a report in PDF with the answers to each question, as well as this jupyter notebook file. The report has to contain concise answers to the questions posed. Avoid unnecessary long explanations, however answers to analytical questions without an argument will result in no points. Include all important python code in your report, but only include code of the processes you have modified (e.g. the Generator process in Exercise 6.1.b). Failing to submit both the PDF and notebook files will result in a point reduction. \n",
    "\n",
    "Note that some of the simulations in the last few exercises can take some time to run, so plan accordingly.\n"
   ]
  },
  {
   "cell_type": "markdown",
   "id": "4fc39f62",
   "metadata": {},
   "source": [
    "# 6 Assignment\n",
    "When making a PyCh specification, one does not build an entire model and then starts debugging. A model is build step by step. During each step proper functionality is checked. We therefore model one process at a time, and connect the process with a Generator and/or Exit process to test proper functionality. In order to test proper functionality we first use analytical methods to determine the expected outcome. Then we run simulations to verify if these outcomes are indeed obtained. If that is the case, we can be more convinced that the process has been modeled correctly.\n",
    "\n",
    "**Warning: printing millions of lines of text can cause problems when opening your jupyter notebook file. If necessary, try printing every 1000th line instead of every line.**"
   ]
  },
  {
   "cell_type": "markdown",
   "id": "af32edfb",
   "metadata": {},
   "source": [
    "## 6.1 Exercise 1: Generator (5 points)\n",
    "So the first step is to write a proper generator for a tier. To that end, the first model we build consists of (only) a Generator process and an Exit process collecting the totes generated by the Generator. The inter arrival time of requests is exponentially distributed with mean $arrive$. The requested tote should be retrieved from a random (uniformly distributed) column, where there are $depth$ columns in total (the columns ranging from 0 till 54)."
   ]
  },
  {
   "cell_type": "markdown",
   "id": "8d043241",
   "metadata": {},
   "source": [
    "a. Determine (analytically) the throughput and flow time that should result from your model with only the generator process and the exit process."
   ]
  },
  {
   "cell_type": "markdown",
   "id": "1dd9e9ec",
   "metadata": {},
   "source": [
    "Answer: thoughput = 1/arrive products/sec, flow time = 0 sec\n",
    "\n"
   ]
  },
  {
   "cell_type": "markdown",
   "id": "964ea240",
   "metadata": {},
   "source": [
    "b. Complete the Generator code in the template below. Confirm that your simulations produce the correct throughput and flow time, and that the minimal and maximal column returned by your simulation are respectively 0 and 54."
   ]
  },
  {
   "cell_type": "code",
   "execution_count": 8,
   "id": "2f226913",
   "metadata": {},
   "outputs": [
    {
     "name": "stdout",
     "output_type": "stream",
     "text": [
      "tote =   1000;  Entrytime =  70669.8735;  Column =  3;  Mean throughput =0.014150  Mean flowtime = 0.0000\n",
      "simulation has ended\n"
     ]
    }
   ],
   "source": [
    "# =================================\n",
    "# Tote\n",
    "# =================================\n",
    "@dataclass\n",
    "class Tote:\n",
    "    entrytime: float = 0.0\n",
    "    column: int = 0\n",
    "\n",
    "\n",
    "# =================================\n",
    "# Generator\n",
    "# =================================\n",
    "@process\n",
    "def Generator(env, c_out, arrive, depth):\n",
    "    while True:\n",
    "        x = Tote(entrytime = env.now, column = random.randint(0, depth))\n",
    "        yield env.execute(c_out.send(x))\n",
    "        delay = random.exponential(arrive)\n",
    "        yield env.timeout(delay)\n",
    "\n",
    "\n",
    "# =================================\n",
    "# Exit\n",
    "# =================================\n",
    "@process\n",
    "def Exit(env, c_in, number_of_orders):\n",
    "    mphi = 0\n",
    "    for i in range(1, number_of_orders + 1):\n",
    "        x = yield env.execute(c_in.receive())\n",
    "        mphi = (i - 1) / i * mphi + (env.now - x.entrytime) / i\n",
    "        \n",
    "        if i % 1000 == 0:\n",
    "            print(f\"tote = {i:6d};\"  \n",
    "                f\"  Entrytime = {x.entrytime: 10.4f};\" \n",
    "                f\"  Column = {x.column:2d};\"\n",
    "                f\"  Mean throughput =\" + (f\"{i / env.now:8.6f}\"   if   env.now   else f\"{'N.A.':>8s}\") +\n",
    "                f\"  Mean flowtime = {mphi:6.4f}\"\n",
    "            )\n",
    "\n",
    "\n",
    "# =================================\n",
    "# Model\n",
    "# =================================\n",
    "def model():\n",
    "    # Variables\n",
    "    arrive = 70.0             # inter arrival time of requests\n",
    "    depth  = 55               # the number of columns\n",
    "    \n",
    "    number_of_orders = 1000    # the number of orders to process        \n",
    "\n",
    "    env = Environment()\n",
    "    a = Channel(env)\n",
    "    G = Generator(env, a, arrive, depth)\n",
    "    E = Exit(env, a, number_of_orders)\n",
    "    env.run(until=E)\n",
    "    print (\"simulation has ended\")\n",
    "\n",
    "# =================================\n",
    "# Main\n",
    "# =================================\n",
    "model()\n"
   ]
  },
  {
   "cell_type": "markdown",
   "id": "3d245127",
   "metadata": {},
   "source": [
    "## 6.2 Exercise 2: Demand Buffer (5 points)\n",
    "Next, we include the Demand buffer which is modelled as a standard FIFO buffer with infinite capacity.\n",
    "\n",
    "a. Determine (analytically) the throughput and flow time that should result from your model with only the generator process, demand buffer, and the exit process."
   ]
  },
  {
   "cell_type": "markdown",
   "id": "aad463cd",
   "metadata": {},
   "source": [
    "Answer: \n",
    "\n",
    "throughput = 1/arrive products/sec, flow time = 0 sec"
   ]
  },
  {
   "cell_type": "markdown",
   "id": "9eb2127d",
   "metadata": {},
   "source": [
    "b. Complete the simulation code in the template below. Confirm that your simulations produces the same throughput and flow time as determined previously.\n",
    "\n",
    "Note: The previously defined variables and functions remain unchanged, only the Demand Buffer is added, and the main code is changed."
   ]
  },
  {
   "cell_type": "markdown",
   "id": "0f19ab96",
   "metadata": {},
   "source": [
    "Answer:\n",
    "\n",
    "Subsituting the values in the model below we get:\n",
    "\n",
    "$\n",
    "\\text{Throughput} = \\lambda = 1/\\text{arrive} = 1/70 = 0.0143 \\text{ products/sec}\n",
    "$\n",
    "\n",
    "$\n",
    "\\text{Flowtime} = 0 \\text{ sec}\n",
    "$\n",
    "\n",
    "Running the model for a sufficient number of iterations we retrieve the same results as calculated above."
   ]
  },
  {
   "cell_type": "code",
   "execution_count": 9,
   "id": "f4ca9c03",
   "metadata": {},
   "outputs": [
    {
     "name": "stdout",
     "output_type": "stream",
     "text": [
      "simulation has ended\n"
     ]
    }
   ],
   "source": [
    "# =================================\n",
    "# Demand Buffer\n",
    "# =================================\n",
    "@process\n",
    "def Demand_Buffer(env, c_in, c_out):\n",
    "    xs = [] # list of totes\n",
    "\n",
    "    while True:\n",
    "        sending = c_out.send(xs[0]) if len(xs)>0 else None  # If there is an item in the buffer\n",
    "        receiving = c_in.receive()\n",
    "\n",
    "        x = yield env.select(sending, receiving)\n",
    "        if selected(receiving):\n",
    "            xs.append(x)\n",
    "        if selected(sending):\n",
    "            xs.pop(0)\n",
    "\n",
    "\n",
    "# =================================\n",
    "# Model\n",
    "# =================================\n",
    "def model():\n",
    "    # Variables\n",
    "    arrive = 70.0             # inter arrival time of requests\n",
    "    depth  = 55               # the number of columns\n",
    "    \n",
    "    number_of_orders = 100  # the number of orders to process\n",
    "    \n",
    "    env = Environment()\n",
    "    a = Channel(env)\n",
    "    b = Channel(env)\n",
    "    G = Generator(env, a, arrive, depth)\n",
    "    D = Demand_Buffer(env, a, b)\n",
    "    E = Exit(env, b, number_of_orders)\n",
    "    env.run(until=E)\n",
    "    print (\"simulation has ended\")\n",
    "    \n",
    "# =================================\n",
    "# Main\n",
    "# =================================\n",
    "model()"
   ]
  },
  {
   "cell_type": "markdown",
   "metadata": {},
   "source": [
    "## 6.3 Exercise 3: Vehicle as machine (5 points)\n",
    "Next, we include the Vehicle which as a first attempt is modelled as a standard machine with a deterministic processing time of 40.0 seconds. The simulation code for the simplified vehicle is given below.\n",
    "\n",
    "Note: The previously defined variables and functions remain unchanged, only the Vehicle is added, and the main code is changed."
   ]
  },
  {
   "cell_type": "code",
   "execution_count": 10,
   "id": "35b34f6f",
   "metadata": {
    "pycharm": {
     "name": "#%%\n"
    }
   },
   "outputs": [
    {
     "name": "stdout",
     "output_type": "stream",
     "text": [
      "tote =   1000;  Entrytime =  70361.3080;  Column = 50;  Mean throughput =0.014196  Mean flowtime = 67.3670\n",
      "simulation has ended\n"
     ]
    }
   ],
   "source": [
    "# =================================\n",
    "# Vehicle\n",
    "# =================================\n",
    "@process\n",
    "def Vehicle(env, c_in, c_out):\n",
    "    tp = 40.0\n",
    "    while True:\n",
    "        tote = yield env.execute(c_in.receive())\n",
    "        yield env.timeout(tp)\n",
    "        yield env.execute(c_out.send(tote))\n",
    "\n",
    "# =================================\n",
    "# Model\n",
    "# =================================\n",
    "def model():\n",
    "    # Variables \n",
    "    arrive = 70.0             # inter arrival time of requests\n",
    "    depth  = 55               # the number of columns\n",
    "\n",
    "    number_of_orders = 1000    # the number of orders to process\n",
    "    \n",
    "    env = Environment()\n",
    "    a = Channel(env)\n",
    "    b = Channel(env)\n",
    "    c = Channel(env)\n",
    "    G = Generator(env, a, arrive, depth)\n",
    "    D = Demand_Buffer(env, a, b)\n",
    "    V = Vehicle(env, b, c)\n",
    "    E = Exit(env, c, number_of_orders)\n",
    "    env.run(until=E)\n",
    "    print (\"simulation has ended\")\n",
    "\n",
    "# =================================\n",
    "# Main\n",
    "# =================================\n",
    "model()"
   ]
  },
  {
   "cell_type": "markdown",
   "id": "1c291abe",
   "metadata": {},
   "source": [
    "a. Determine (analytically) the throughput and flow time that should result from your model with only the generator process, demand buffer, vehicle and the exit process."
   ]
  },
  {
   "cell_type": "markdown",
   "id": "8a224d29",
   "metadata": {},
   "source": [
    "Answer:\n",
    "\n",
    "$\n",
    "\\text{Throughput} = \\lambda = r_a = \\frac{1}{\\text{arrive}} = \\frac{1}{70} = 0.0143 \\text{ [products/sec]}\n",
    "$\n",
    "\n",
    "$\n",
    "u = \\frac{r_a\\cdot t_e}{1} = \\frac{1/70\\cdot 40}{1} = 0.5714\n",
    "$\n",
    "\n",
    "$\n",
    "\\gamma = \\frac{1}{2}\\cdot\\left(c_a^2+c_e^2\\right) = \\frac{1}{2}\\cdot\\left(1+0\\right) = \\frac{1}{2}\n",
    "$\n",
    "\n",
    "$\n",
    "\\phi_B = \\gamma\\cdot\\frac{u}{1-u}\\cdot t_e = \\frac{1}{2}\\cdot\\frac{0.5714}{1-0.5714}\\cdot 40 = 26.66 \\text{ [sec]}\n",
    "$\n",
    "\n",
    "$\n",
    "\\text{Flowtime} = \\phi = t_e + \\phi_B = 40 + 26.66 = 66.66 \\text{ [sec]}\n",
    "$"
   ]
  },
  {
   "cell_type": "markdown",
   "id": "52e896c0",
   "metadata": {},
   "source": [
    "b. Run your simulation at least 10 times. Confirm that your analytically determined throughput and flow time are correct.  What are the range of outcomes for the flow time? Determine (roughly, by trial and error) the number of orders required to get a good estimate for the flow time in just one simulation run (first three **non-zero** digits are correct).\n"
   ]
  },
  {
   "cell_type": "markdown",
   "id": "7f7fb25e",
   "metadata": {},
   "source": [
    "Answer:\n",
    "\n",
    "|       1 |       2 |       3 |       4 |       5 |       6 |       7 |       8 |       9 |      10 |\n",
    "| ------- | ------- | ------- | ------- | ------- | ------- | ------- | ------- | ------- | ------- |\n",
    "| 67.0179 | 55.7627 | 60.6467 | 64.0293 | 78.3007 | 79.9766 | 56.5991 | 66.4201 | 58.6305 | 64.9057 |\n",
    "\n",
    "The number of orders required to get a good estimate for the flow time in just one simulation run is 800000 from here the first three digits match the analytical result.\n"
   ]
  },
  {
   "cell_type": "markdown",
   "id": "c37e0910",
   "metadata": {},
   "source": [
    "## 6.4 Exercise 4: Vehicle accurately modelled (15 points)\n",
    "Assume that a vehicle starts from the buffer. If it has to go to column $i \\in \\{0, depth - 1\\}$, it needs to drive a distance $dv \\cdot (i + 1)$, pick up the tote, drive back, and deliver the tote to the buffer. For driving the required distance, the vehicle first goes with a constant acceleration $av$ $[m/s^2]$ until it reaches its maximum velocity $vmaxv$, then it moves with this velocity and decelerates with a constant deceleration $av$ to approach its destination point. If the tote is located too close to the end of the aisle, it is possible that the vehicle will not reach its maximum speed.\n",
    "\n",
    "a. From this information, (analytically) determine the time (in seconds) it takes a vehicle to move a given distance of $x$ meters. To that end, first determine from the acceleration profile the travelled distance as function of time. From that you can determine the time required to travel a given distance. Express the time spent moving (one way) $t_{moving}$ in terms of $x$, $av$ and $vmaxv$. For now we're only interested in the time spent moving one way."
   ]
  },
  {
   "cell_type": "markdown",
   "id": "e2471bc5",
   "metadata": {},
   "source": [
    "\n",
    "Answer:\n",
    "\n",
    "$\n",
    "v = av\\cdot t\n",
    "$\n",
    "\n",
    "$\n",
    "x=\\frac{1}{2}av\\cdot t^2\n",
    "$\n",
    "\n",
    "$\n",
    "t_{accerate} = t_{decelerate} = \\frac{vmaxv}{av}\n",
    "$\n",
    "\n",
    "$\n",
    "x_{accerate} = x_{decelerate} = \\frac{1}{2} av \\cdot t_{accelarate}^2 = \\frac{1}{2} av \\cdot (\\frac{vmaxv}{av})^2 = \\frac{1}{2}\\frac{vmaxv^2}{av}\n",
    "$\n",
    "\n",
    "$\n",
    "x_{acc+dec}=x_{acceration}+x_{deceleration} = \\frac{vmaxv^2}{av}\n",
    "$\n",
    "\n",
    "$x_{acc+dec}$ is the minimum distance where the vehicle reaches its maximum speed during the movement.\n",
    "\n",
    "When the vehicle moves a distance $x$ larger than $x_{acc+dec}$, the vehicle will move with a constant speed $vmaxv$ between acceration and decerelration and the total time can be calculated with\n",
    "\n",
    "$\n",
    "\\Large t_{accelerate} + t_{decelerate} + \\frac{x-x_{acc+dec}}{vmaxv} = 2\\cdot\\frac{vmaxv}{av} + \\frac{x-\\frac{vmaxv^2}{av}}{vmaxv} = \\frac{vmaxv}{av} + \\frac{x}{vmaxv}\n",
    "$\n",
    "\n",
    "When the distance $x$ is smaller than $x_{acc+dec}$, because the acceration and deceration speeds are the same, the total time is twice the time to reach the middle point of the movement. The time to reach the middle point can be calulated with\n",
    "\n",
    "$\n",
    "x_{accerate} = x_{decelerate} = \\frac{x}{2}\n",
    "$\n",
    "\n",
    "$\n",
    "t_{accerating} = t_{decelerating} = \\sqrt{\\frac{2x_{accerate}}{av}} = \\sqrt{\\frac{x}{av}}\n",
    "$\n",
    "\n",
    "$\n",
    "t_{accerating} + t_{decelerating} = 2\\cdot\\sqrt{\\frac{x}{av}}\n",
    "$\n",
    "\n",
    "Now we can calculate the total time to move a distance $x$ with\n",
    "\n",
    "$\n",
    "\\large t_{moving}(x) =\n",
    "    \\begin{cases}\n",
    "      2\\cdot\\sqrt{\\frac{x}{av}} \\ , & \\text{for}\\ x \\leq \\ \\frac{vmaxv^2}{av} \\ , \\\\\n",
    "      \\frac{vmaxv}{av} + \\frac{x}{vmaxv} \\ , & \\text{for}\\ x >    \\ \\frac{vmaxv^2}{av} \\ .\n",
    "    \\end{cases}\n",
    "$\n",
    "\n",
    "\n",
    "\n"
   ]
  },
  {
   "cell_type": "markdown",
   "id": "869e9349",
   "metadata": {},
   "source": [
    "b. Next, if loading and unloading a tote both take $lv$ seconds, determine (analytically) the time it takes a vehicle, starting from the buffer, to pick up a tote from column $i \\in \\{0, depth - 1\\}$ and deliver it to the buffer. Express the total travel time $t_{total}$ in terms of $i$, $dv$, $lv$, $av$, and $vmaxv$. We're now interested in the total travel time, so the time spent moving back and forth."
   ]
  },
  {
   "cell_type": "markdown",
   "id": "7c8ea0be",
   "metadata": {},
   "source": [
    "\n",
    "Answer:\n",
    "\n",
    "$\n",
    "\\large t_{total}(i) =\n",
    "    \\begin{cases}\n",
    "      4\\cdot\\sqrt{\\frac{dv\\cdot(i+1)}{av}} + 2\\cdot lv \\ , & \\text{for} \\ i \\leq \\ \\frac{vmaxc^2}{av\\cdot dv}-1 \\ , \\\\\n",
    "      2\\cdot\\left(\\frac{vmaxv}{av} + \\frac{dv\\cdot(i+1)}{vmaxv}\\right) + 2\\cdot lv \\ , & \\text{for} \\ i >    \\ \\frac{vmaxc^2}{av\\cdot dv}-1 \\ .\n",
    "    \\end{cases}\n",
    "$\n"
   ]
  },
  {
   "cell_type": "markdown",
   "id": "a428eb56",
   "metadata": {},
   "source": [
    "c. First determine the analytical formula for the mean and variance of the total travel time $t_{total}$ for a random (uniformly distributed) column.\n",
    "\n",
    "Then, calculate the numerical mean and variance for the following parameters: $depth = 55$, $lv = 3.0$, $dv = 0.5$, $vmaxv = 1.5$, and $av = 1.0$, using the code below."
   ]
  },
  {
   "cell_type": "markdown",
   "id": "477f767e",
   "metadata": {},
   "source": [
    "Analytical answer:\n",
    "\n",
    "The mean is the sum of the total times for all the columns divided by the number of columns.\n",
    "\n",
    "$\n",
    "\\text{mean} = \\Large\\frac{1}{depth}\\cdot\\sum_{i=0}^{depth-1} t_{total}(i)\n",
    "$\n",
    "\n",
    "$\n",
    "\\text{mean} = \\Large\\frac{1}{depth}\\cdot\\left[\\sum_{i=0}^{\\lfloor\\frac{vmavx^2}{av\\cdot dv}-1\\rfloor} \\left( 4\\cdot\\sqrt{\\frac{dv\\cdot(i+1)}{av}}+2\\cdot lv \\right) + \\sum^{depth-1}_{i=\\lceil\\frac{vmavx^2}{av\\cdot dv}\\rceil} \\left(2\\cdot\\left(\\frac{vmaxv}{av} + \\frac{dv\\cdot(i+1)}{vmaxv}\\right) + 2\\cdot lv \\right)\\right]\n",
    "$\n",
    "\n",
    "$\n",
    "\\text{variance} = \\Large\\frac{1}{depth}\\cdot\\sum_{i=0}^{depth-1} (t_{total}(i)-\\text{mean})^2\n",
    "$\n",
    "\n",
    "$\n",
    "\\text{variance} = \\Large\\frac{1}{depth}\\cdot\\left[\\sum_{i=0}^{\\lfloor\\frac{vmavx^2}{av\\cdot dv}-1\\rfloor} \\left( 4\\cdot\\sqrt{\\frac{dv\\cdot(i+1)}{av}}+2\\cdot lv -\\text{mean}\\right)^2 + \\sum_{i=\\lceil\\frac{vmavx^2}{av\\cdot dv}\\rceil}^{depth-1} \\left(2\\cdot\\left(\\frac{vmaxv}{av} + \\frac{dv\\cdot(i+1)}{vmaxv}\\right) + 2\\cdot lv -\\text{mean}\\right)^2\\right]\n",
    "$"
   ]
  },
  {
   "cell_type": "markdown",
   "metadata": {},
   "source": [
    "Numerical answer:\n",
    "\n",
    "mean $ = 27.64 $ \n",
    "\n",
    "variance  $ = 112.84 $ "
   ]
  },
  {
   "cell_type": "code",
   "execution_count": 11,
   "metadata": {},
   "outputs": [
    {
     "name": "stdout",
     "output_type": "stream",
     "text": [
      "the mean is 27.643350197451\n",
      "the variance is 112.84013970524529\n"
     ]
    }
   ],
   "source": [
    "def exc4c():\n",
    "    depth = 55\n",
    "    lv = 3.0\n",
    "    dv = 0.5\n",
    "    vmaxv = 1.5\n",
    "    av = 1.0\n",
    "    \n",
    "    def t_total(i):\n",
    "        x = dv * (i+1)\n",
    "\n",
    "        if x <= vmaxv**2/av:\n",
    "            t = 4 * math.sqrt(x/av) + 2*lv\n",
    "        else:\n",
    "            t = 2*(vmaxv/av + x/vmaxv) + 2*lv\n",
    "    \n",
    "        return t\n",
    "\n",
    "    mean = 1/depth*sum([t_total(i) for i in range(depth)])\n",
    "    variance = 1/depth*sum([(t_total(i) - mean)**2 for i in range(depth)])\n",
    "\n",
    "    print(f\"the mean is {mean}\")\n",
    "    print(f\"the variance is {variance}\")\n",
    "\n",
    "exc4c()"
   ]
  },
  {
   "cell_type": "markdown",
   "metadata": {},
   "source": [
    "d. Determine (analytically) the throughput and flow time that should result from your model with only the generator process, demand buffer, vehicle and the exit process."
   ]
  },
  {
   "cell_type": "markdown",
   "metadata": {},
   "source": [
    "Answer:\n",
    "\n",
    "$\n",
    "\\text{Throughput} = \\lambda = r_a = \\frac{1}{70} = 0.0143 \\text{ [products/sec]}\n",
    "$\n",
    "\n",
    "$\n",
    "u = \\frac{r_a\\cdot t_e}{m} = \\frac{1/70\\cdot 27.64}{1} = 0.3949\n",
    "$\n",
    "\n",
    "$\n",
    "\\gamma = \\frac{1}{2}\\cdot\\left(c_a^2+c_e^2\\right) = \\frac{1}{2}\\cdot\\left(1+\\frac{112.84}{27.64^2}\\right) = 0.5739\n",
    "$\n",
    "\n",
    "$\n",
    "\\phi_B = \\gamma\\cdot\\frac{u}{1-u}\\cdot t_e = \\frac{2}{3}\\cdot\\frac{0.3949}{1-0.3949}\\cdot 27.64 = 10.35 \\text{ [sec]}\n",
    "$\n",
    "\n",
    "$\n",
    "\\text{Flowtime} = \\phi = t_e + \\phi_B = 27.64 + 12.03 = 37.99 \\text{ [sec]}\n",
    "$"
   ]
  },
  {
   "cell_type": "markdown",
   "metadata": {},
   "source": [
    "e. Complete the simulation code in the template below, incorporating the actual time a vehicle requires for picking up a tote and delivering it to the buffer. Confirm that your simulations produce the same throughput and flow time as in your calculations.\n",
    "\n",
    "Note: the previously defined function processes remain unchanged, only the Vehicle and model need to be redefined."
   ]
  },
  {
   "cell_type": "code",
   "execution_count": 12,
   "metadata": {},
   "outputs": [
    {
     "name": "stdout",
     "output_type": "stream",
     "text": [
      "tote =   1000;  Entrytime =  72360.2462;  Column = 29;  Mean throughput =0.013814  Mean flowtime = 37.4158\n",
      "tote =   2000;  Entrytime =  140989.0269;  Column =  0;  Mean throughput =0.014183  Mean flowtime = 38.8392\n",
      "tote =   3000;  Entrytime =  212926.3751;  Column = 45;  Mean throughput =0.014087  Mean flowtime = 38.6031\n",
      "tote =   4000;  Entrytime =  284374.4535;  Column = 15;  Mean throughput =0.014065  Mean flowtime = 38.2302\n",
      "tote =   5000;  Entrytime =  350079.4769;  Column = 51;  Mean throughput =0.014281  Mean flowtime = 38.9971\n",
      "tote =   6000;  Entrytime =  420957.2336;  Column = 24;  Mean throughput =0.014252  Mean flowtime = 38.7766\n",
      "tote =   7000;  Entrytime =  491871.8370;  Column = 45;  Mean throughput =0.014230  Mean flowtime = 38.3056\n",
      "tote =   8000;  Entrytime =  561289.6977;  Column = 41;  Mean throughput =0.014252  Mean flowtime = 38.5259\n",
      "tote =   9000;  Entrytime =  630698.3736;  Column = 50;  Mean throughput =0.014269  Mean flowtime = 38.5911\n",
      "tote =  10000;  Entrytime =  697752.5390;  Column = 14;  Mean throughput =0.014331  Mean flowtime = 38.6027\n",
      "simulation has ended\n"
     ]
    }
   ],
   "source": [
    "# =================================\n",
    "# Vehicle definition\n",
    "# =================================\n",
    "@process\n",
    "def Vehicle(env, c_in, c_out, lv, dv, vmaxv, av):\n",
    "    def t_total(i):\n",
    "        x = dv * (i+1)\n",
    "\n",
    "        if x <= vmaxv**2/av:\n",
    "            t = 4 * math.sqrt(x/av) + 2*lv\n",
    "        else:\n",
    "            t = 2*(vmaxv/av + x/vmaxv) + 2*lv\n",
    "    \n",
    "        return t\n",
    "\n",
    "    while True:\n",
    "        tote = yield env.execute(c_in.receive())\n",
    "        \n",
    "        tp = t_total(tote.column)\n",
    "        \n",
    "        yield env.timeout(tp)\n",
    "        yield env.execute(c_out.send(tote))\n",
    "\n",
    "# =================================\n",
    "# Main\n",
    "# =================================\n",
    "def model():\n",
    "    # Variables \n",
    "    arrive = 70.0             # inter arrival time of requests\n",
    "    depth  = 55               # the number of columns\n",
    "    lv = 3.0                  # time to load/unload the vehicle\n",
    "    dv = 0.5                  # unit width clearance\n",
    "    vmaxv = 1.5               # maximum velocity of the vehicle\n",
    "    av = 1.0                  # acceleration/deceleration of the vehicle\n",
    "    \n",
    "    number_of_orders = 1000    # the number of orders to process\n",
    "    \n",
    "    env = Environment()\n",
    "    a = Channel(env)\n",
    "    b = Channel(env)\n",
    "    c = Channel(env)\n",
    "    G = Generator(env, a, arrive, depth)\n",
    "    D = Demand_Buffer(env, a, b)\n",
    "    V = Vehicle(env, b, c, lv, dv, vmaxv, av)\n",
    "    E = Exit(env, c, number_of_orders)\n",
    "    env.run(until=E)\n",
    "    print (\"simulation has ended\")\n",
    "\n",
    "# =================================\n",
    "# Main\n",
    "# =================================\n",
    "model()"
   ]
  },
  {
   "cell_type": "markdown",
   "metadata": {},
   "source": [
    "f.  Run your simulation at least 10 times. What is the range of outcomes for the flow time? Determine (roughly, by trial and error) the number of orders required to get a good estimate for the flow time in just one simulation run (first three **non-zero** digits are correct)."
   ]
  },
  {
   "cell_type": "markdown",
   "metadata": {},
   "source": [
    "Answer: ...\n",
    "\n"
   ]
  },
  {
   "cell_type": "markdown",
   "metadata": {},
   "source": [
    "## 6.5 Exercise 5: Lift as two stage machine (5 points)\n",
    "In the previous exercises we focussed on modeling a tier. In exercises 5-7 we focus on modeling the Buffer and Lift, starting with the Lift. We model the Lift as a machine, which repeatedly does the following: request a destination tier, move to the desired tier, receive a tote (first delay for $ll$, then communicate), move to the ground floor, deliver the tote (first delay for $ll$, then communicate). In this exercise we assume that moving to the desired tier takes 23.0 seconds, receiving the tote takes 2.0 seconds, moving to the ground floor again takes 23.0 seconds, and delivering the tote also takes 2.0 seconds. Note that, in this case, this implies that the tote should leave the Generator and enter the Lift 25.0 seconds after the Lift has received the destination tier. All of these times are assumed to be deterministic.\n",
    "\n",
    "a. Assume that after 1.0 second the first tote arrives at the generator. Subsequently a tote arrives respectively 10.0, 100.0, and 100.0 seconds after the previous tote has been sent to the Lift. Make a lot-time-diagram indicating how long a newly generated job spends in the Generator, and spends in the Lift. We have provided the function `draw_lot_time_diagram(locations, lots)`, which can be used to draw the lot-time-diagram. Below, lot0 has been given as an example. Use the simulation code below 6.5.b to confirm that your lot-time-diagram is correct. \n",
    "\n",
    "Answer: "
   ]
  },
  {
   "cell_type": "code",
   "execution_count": 13,
   "metadata": {},
   "outputs": [
    {
     "data": {
      "application/vnd.jupyter.widget-view+json": {
       "model_id": "84824efdbf6446d8aafec0389b3f9130",
       "version_major": 2,
       "version_minor": 0
      },
      "image/png": "[encoded data removed]",
      "text/html": [
       "\n",
       "            <div style=\"display: inline-block;\">\n",
       "                <div class=\"jupyter-widgets widget-label\" style=\"text-align: center;\">\n",
       "                    Figure\n",
       "                </div>\n",
       "                <img src='data:image/png;base64,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' width=640.0/>\n",
       "            </div>\n",
       "        "
      ],
      "text/plain": [
       "Canvas(toolbar=Toolbar(toolitems=[('Home', 'Reset original view', 'home', 'home'), ('Back', 'Back to previous …"
      ]
     },
     "metadata": {},
     "output_type": "display_data"
    }
   ],
   "source": [
    "# =================================\n",
    "# Draw the lot-time-diagram\n",
    "# =================================\n",
    "\n",
    "# Set the locations\n",
    "locations = ('G', 'L')\n",
    "\n",
    "# For each lot, give the entry and exit times at respectively the generator G and lift L.\n",
    "# The first lot is given as an example.\n",
    "lot0 = {'G': [   0,  26], 'L': [  26,  51]}\n",
    "lot1 = {'G': [  50,  76], 'L': [  76, 101]}\n",
    "lot2 = {'G': [ 175, 201], 'L': [ 201, 226]}\n",
    "lot3 = {'G': [ 300, 326], 'L': [ 326, 351]}\n",
    "\n",
    "# Add all lots together\n",
    "lots = [lot0, lot1, lot2, lot3];\n",
    "\n",
    "\n",
    "# Draw the lot-time diagram\n",
    "draw_lot_time_diagram(locations, lots)"
   ]
  },
  {
   "cell_type": "markdown",
   "metadata": {},
   "source": [
    "b. \tStudy the Lift in the simulation code below. Can you describe (in one sentence) what each of its channels, events, and entities represent?\n"
   ]
  },
  {
   "cell_type": "markdown",
   "metadata": {},
   "source": [
    "Answer: \n",
    "\n",
    "```channel1:``` Channel for communicating between the generator and the lift that a product has been generated\n",
    "\n",
    "```channel2:``` Channel for communicating between the generator and the lift that a product has been picked up by the lift \n",
    "\n",
    "```channel3:``` Channel for communicating between the lift and the exit that a product has been delivered by the lift\n",
    "\n",
    "```event1:``` A product has been generated for the lift to pick up\n",
    "\n",
    "```event2:``` Waiting for the lift to travel to the generator and picking up the product\n",
    "\n",
    "```event3:``` A product has been received by the lift\n",
    "\n",
    "```event4:``` Waiting for the lift to travel to the exit and deliver the product\n",
    "\n",
    "```event5:``` A prodcut has been received by the exit\n",
    "\n",
    "```entity1:``` The tier where the tote/product is which should be processed\n",
    "\n",
    "```entity2:``` The tote which is being processed"
   ]
  },
  {
   "cell_type": "code",
   "execution_count": 14,
   "metadata": {},
   "outputs": [
    {
     "name": "stdout",
     "output_type": "stream",
     "text": [
      "Generator: Informed Lift to go to tier 1 at time 1.0\n",
      "Generator: Tote has completely left the Generator and enteredthe Lift at time 26.0\n",
      "Generator: Informed Lift to go to tier 1 at time 51.0\n",
      "Exit: Tote has completely left the Lift and has been received by the Exit at time 51.0\n",
      "Generator: Tote has completely left the Generator and enteredthe Lift at time 76.0\n",
      "Exit: Tote has completely left the Lift and has been received by the Exit at time 101.0\n",
      "Generator: Informed Lift to go to tier 1 at time 176.0\n",
      "Generator: Tote has completely left the Generator and enteredthe Lift at time 201.0\n",
      "Exit: Tote has completely left the Lift and has been received by the Exit at time 226.0\n",
      "Generator: Informed Lift to go to tier 1 at time 301.0\n",
      "Generator: Tote has completely left the Generator and enteredthe Lift at time 326.0\n",
      "Exit: Tote has completely left the Lift and has been received by the Exit at time 351.0\n",
      "simulation has ended\n"
     ]
    }
   ],
   "source": [
    "# =================================\n",
    "# Tote definition\n",
    "# =================================\n",
    "@dataclass\n",
    "class Tote:\n",
    "    entrytime: float = 0\n",
    "    tier: int = 0\n",
    "\n",
    "# =================================\n",
    "# Generator\n",
    "# =================================\n",
    "@process\n",
    "def Generator(env, c1, c2):\n",
    "    delays=[1.0, 10.0, 100.0, 100.0]\n",
    "    while len(delays)>0:\n",
    "        yield env.timeout(delays[0])\n",
    "        delays = delays[1:]\n",
    "        tier = 1\n",
    "        yield env.execute(c1.send(tier))\n",
    "        print(f\"Generator: Informed Lift to go to tier {tier} at time {env.now:3.1f}\");\n",
    "        x = Tote(entrytime = env.now, tier = tier)\n",
    "        yield env.execute(c2.send(x))\n",
    "        print(f\"Generator: Tote has completely left the Generator and entered\"\n",
    "              f\"the Lift at time {env.now:3.1f}\")\n",
    "    yield env.timeout(100.0)\n",
    "\n",
    "\n",
    "# =================================\n",
    "# Lift\n",
    "# =================================\n",
    "@process\n",
    "def Lift(env, channel1, channel2, channel3, ll):\n",
    "    while True:\n",
    "        \n",
    "        event1 = channel1.receive()\n",
    "        entity1 = yield env.execute(event1)\n",
    "        \n",
    "        event2 = env.timeout(23.0+ll)\n",
    "        yield event2\n",
    "        \n",
    "        event3 = channel2.receive()\n",
    "        entity2 = yield env.execute(event3)\n",
    "        \n",
    "        event4 = env.timeout(23.0+ll)\n",
    "        yield event4\n",
    "        \n",
    "        event5 = channel3.send(entity2)\n",
    "        yield env.execute(event5)\n",
    "    \n",
    "# =================================\n",
    "# Exit \n",
    "# =================================\n",
    "@process\n",
    "def Exit(env, c_in):\n",
    "    while True:\n",
    "        x = yield env.execute(c_in.receive())\n",
    "        print(f\"Exit: Tote has completely left the Lift and has been received \"\n",
    "              f\"by the Exit at time {env.now:3.1f}\");\n",
    "\n",
    "# =================================\n",
    "# Model\n",
    "# =================================\n",
    "def model():\n",
    "    # Variables\n",
    "    ll = 2.0  # time to load/unload the lift\n",
    "    \n",
    "    env = Environment()\n",
    "    a = Channel(env)\n",
    "    b = Channel(env)\n",
    "    c = Channel(env)\n",
    "    G = Generator(env, a, b)\n",
    "    L = Lift(env, a, b, c, ll)\n",
    "    E = Exit(env, c)\n",
    "    env.run()\n",
    "    print (\"simulation has ended\")\n",
    "\n",
    "# =================================\n",
    "# Main\n",
    "# =================================\n",
    "model()"
   ]
  },
  {
   "cell_type": "markdown",
   "metadata": {},
   "source": [
    "## 6.6 Exercise 6: Buffer with multiple tiers (10 points)\n",
    "Every tier has a buffer location of finite capacity $bc$. In this exercise, these parallel finite buffer locations are modelled as one Buffer model."
   ]
  },
  {
   "cell_type": "markdown",
   "metadata": {},
   "source": [
    "a. Study the simulation code below. Can you describe (concisely) why the events of the buffer are modelled the way they are:\n",
    "\n",
    "    events1: ...\n",
    "    event2: ...\n",
    "    event3: ...\n",
    "\n",
    "and can you explain what happens when an event occurs:\n",
    "\n",
    "    events1: ...\n",
    "    event2: ...\n",
    "    event3: ..."
   ]
  },
  {
   "cell_type": "markdown",
   "metadata": {},
   "source": [
    "Answer:\n",
    "\n",
    "Why a they modelled as such:\n",
    "\n",
    "```events1:``` This is a list with an event for every tier, because there are multiple tiers which all have their own buffers.\n",
    "\n",
    "```event2:``` This is a single event because the lift can only pick up one product at a time. This event is used to communicate between the buffer and the lift that a product is ready to be picked up and thus requesting the lift to travel to the buffer location.\n",
    "\n",
    "```event3:``` This is a single event because the lift can only pick up one product at a time. This event is used to communicate between the buffer and the lift that a product has been picked up and thus the buffer request the lift to pick up the next product.\n",
    "\n",
    "What happens:\n",
    "\n",
    "```events1:``` A list with an event for every tier, when it occurs for a specific tier a product is received from the generator into the buffer of that tier\n",
    "\n",
    "```event2:``` The lift is requested to pick up the next product from the buffer\n",
    "\n",
    "```event3:``` A product is send from the buffer to the lift\n",
    "\n"
   ]
  },
  {
   "cell_type": "code",
   "execution_count": 16,
   "metadata": {},
   "outputs": [
    {
     "name": "stdout",
     "output_type": "stream",
     "text": [
      "Generator 0: Sending tote to Buffer completed at time 0.0\n",
      "Generator 1: Sending tote to Buffer completed at time 1.0\n",
      "Generator 0: Sending tote to Buffer completed at time 25.0\n",
      "Exit: Tote has completely left the Lift and has been received by the Exit at time 50.0\n",
      "Generator 1: Sending tote to Buffer completed at time 75.0\n",
      "Exit: Tote has completely left the Lift and has been received by the Exit at time 100.0\n",
      "Generator 0: Sending tote to Buffer completed at time 125.0\n",
      "Exit: Tote has completely left the Lift and has been received by the Exit at time 150.0\n",
      "Generator 1: Sending tote to Buffer completed at time 175.0\n",
      "Exit: Tote has completely left the Lift and has been received by the Exit at time 200.0\n",
      "Generator 0: Sending tote to Buffer completed at time 225.0\n",
      "Exit: Tote has completely left the Lift and has been received by the Exit at time 250.0\n",
      "Generator 1: Sending tote to Buffer completed at time 275.0\n",
      "Exit: Tote has completely left the Lift and has been received by the Exit at time 300.0\n",
      "Exit: Tote has completely left the Lift and has been received by the Exit at time 350.0\n",
      "Exit: Tote has completely left the Lift and has been received by the Exit at time 400.0\n",
      "simulation has ended\n"
     ]
    }
   ],
   "source": [
    "# =================================\n",
    "# Generator\n",
    "# =================================\n",
    "@process\n",
    "def Generator(env, c_out, tier):\n",
    "    delays=[1.0*tier, 10.0, 100.0, 100.0]\n",
    "    while len(delays)>0:\n",
    "        yield env.timeout(delays[0])\n",
    "        delays = delays[1:]\n",
    "        x = Tote(entrytime = env.now, tier = tier)\n",
    "        yield env.execute(c_out.send(x))\n",
    "        print(f\"Generator {tier:d}: Sending tote to Buffer completed at \"\n",
    "              f\"time {env.now:3.1f}\")\n",
    "    yield env.timeout(100.0)\n",
    "    \n",
    "# =================================\n",
    "# Buffer\n",
    "# =================================\n",
    "@process\n",
    "def Buffer(env, channels1, channel2, channel3, bc, Levels):\n",
    "    xs = []\n",
    "    n = [0] * Levels\n",
    "    lift_called = False\n",
    "    while True:\n",
    "        # Define events\n",
    "        events1 = [channels1[tier].receive() if n[tier] < bc else None for tier in range(Levels)]\n",
    "        if not lift_called:\n",
    "            event3 = None\n",
    "            if len(xs) > 0:\n",
    "                x_sending = xs[0]\n",
    "                event2 = channel2.send(x_sending.tier)\n",
    "            else:\n",
    "                event2 = None\n",
    "        else:\n",
    "            event2 = None\n",
    "            event3 = channel3.send(x_sending)\n",
    "        \n",
    "        # Execute one of the events\n",
    "        events = events1  + [event2] + [event3]\n",
    "        yield env.select(*events)    \n",
    "        \n",
    "        # Check which event is executed\n",
    "        for tier in range(Levels):\n",
    "            if selected(events1[tier]):\n",
    "                x_received = events1[tier].entity\n",
    "                xs = xs + [x_received]\n",
    "                n[tier] = n[tier] + 1\n",
    "            \n",
    "        if selected(event2):\n",
    "            lift_called = True\n",
    "           \n",
    "        if selected(event3):\n",
    "            xs = xs[1:]\n",
    "            n[x_sending.tier] = n[x_sending.tier] - 1\n",
    "            lift_called = False\n",
    "            \n",
    "            \n",
    "# =================================\n",
    "# Model\n",
    "# =================================\n",
    "def model():\n",
    "    # Variables\n",
    "    ll = 2.0  # time to load/unload the lift\n",
    "    bc = 1    # buffer capacity\n",
    "    Levels = 2 # the number of tiers\n",
    "    \n",
    "    env = Environment()\n",
    "    a = [Channel(env) for tier in range(Levels)]\n",
    "    b = Channel(env)\n",
    "    c = Channel(env)\n",
    "    d = Channel(env)\n",
    "    Gs = [Generator(env, a[tier], tier) for tier in range(Levels)] \n",
    "    B = Buffer(env, a, b, c, bc, Levels)\n",
    "    L = Lift(env, b, c, d, ll)\n",
    "    E = Exit(env, d)\n",
    "    env.run(until=10000000)\n",
    "    print (\"simulation has ended\")\n",
    "\n",
    "# =================================\n",
    "# Main\n",
    "# =================================\n",
    "model()"
   ]
  },
  {
   "cell_type": "markdown",
   "metadata": {},
   "source": [
    "b. Consider two tiers ($Levels = 2$), and assume that for tier $i \\in \\{0, Levels - 1\\}$ the first tote arrives after $i$ seconds (for two tiers: after 0.0 for tier 0 and after 1.0 for tier 1). Subsequently a tote arrives respectively 10.0, 100.0, and 100.0 seconds after the completion of sending its predecessor to the buffer. Make a lot-time-diagram indicating how long a newly generated job spends in which Generator (G0 or G1), in the Buffer, and spends in the Lift. \n",
    "\n",
    "Answer: "
   ]
  },
  {
   "cell_type": "code",
   "execution_count": null,
   "metadata": {},
   "outputs": [],
   "source": [
    "# =================================\n",
    "# Draw the lot-time-diagram\n",
    "# =================================\n",
    "\n",
    "# Set the locations\n",
    "locations = ('G0', 'G1', 'B', 'L')\n",
    "\n",
    "# For each lot, give the entry and exit times at generators G0 and G1, the buffer B, and lift L.\n",
    "lot0 = { 'G0':[   0,     0], 'B':[... , ... ],   'L':[  ... ,   ... ] };\n",
    "lot1 = { 'G1':[   1,     1], 'B':[... , ... ],   'L':[  ... ,   ... ] };\n",
    "lot2 = { ... };\n",
    "lot3 = { ... };\n",
    "lot4 = { ... };\n",
    "lot5 = { ... };\n",
    "lot6 = { ... };\n",
    "lot7 = { ... };\n",
    "\n",
    "# Add all lots together\n",
    "lots = [lot0, lot1, lot2, lot3, lot4, lot5, lot6, lot7];\n",
    "\n",
    "# Draw the lot-time diagram\n",
    "draw_lot_time_diagram(locations, lots)"
   ]
  },
  {
   "cell_type": "markdown",
   "metadata": {},
   "source": [
    "c. Suppose that we want the system to be able to handle priority orders, can you modify the Buffer model to make the lift pick up totes with higher priority first? The generator generates totes with a `tote.priority` property, for which priority 1 is high priority, and priority 2 is low priority. Only the Buffer model needs to be modified, the Tote, Generator and Exit models have already been modified. Give the model of the buffer, and the output log when you run it to show that the buffer is modelled correctly.\n",
    "\n",
    "**Note: in the exercise 6.7 onwards, the Buffer without priorities will be used.**"
   ]
  },
  {
   "cell_type": "code",
   "execution_count": null,
   "metadata": {},
   "outputs": [],
   "source": [
    "# =================================\n",
    "# Tote definition\n",
    "# =================================\n",
    "@dataclass\n",
    "class Tote:\n",
    "    entrytime: float = 0\n",
    "    tier: int = 0\n",
    "    priority: int = 0\n",
    "        \n",
    "# =================================\n",
    "# Generator\n",
    "# =================================\n",
    "@process\n",
    "def Generator(env, c_out, tier):\n",
    "    delays=[1.0*tier, 1.0, 1.0, 1.0]\n",
    "    priorities=[2, tier+1, tier+1, 1]\n",
    "    while len(delays)>0:\n",
    "        yield env.timeout(delays[0])\n",
    "        delays = delays[1:]\n",
    "        priority = priorities[0]\n",
    "        priorities = priorities[1:]\n",
    "        x = Tote(entrytime = env.now, tier = tier, priority = priority)\n",
    "        yield env.execute(c_out.send(x))\n",
    "        print(f\"Generator {tier:d}: Sending tote with priotity {priority} to Buffer completed at \"\n",
    "              f\"time {env.now:3.1f}\")\n",
    "    yield env.timeout(100.0)\n",
    "    \n",
    "# =================================\n",
    "# Buffer\n",
    "# =================================\n",
    "@process\n",
    "def Buffer(env, channels1, channel2, channel3, bc, Levels):\n",
    "    xs = # ... \n",
    "    n = [0] * Levels\n",
    "    lift_called = False\n",
    "    while True:\n",
    "        # Define events\n",
    "        events1 = [channels1[tier].receive() if n[tier] < bc else None for tier in range(Levels)]\n",
    "        if not lift_called:\n",
    "            event3 = None\n",
    "            # ...\n",
    "            # ...\n",
    "            # ...\n",
    "            # ...\n",
    "            # ...\n",
    "        else:\n",
    "            event2 = None\n",
    "            event3 = channel3.send(x_sending)\n",
    "        \n",
    "        # Execute one of the events\n",
    "        events = events1  + [event2] + [event3]\n",
    "        yield env.select(*events)    \n",
    "        \n",
    "        # Check which event is executed\n",
    "        for tier in range(Levels):\n",
    "            if selected(events1[tier]):\n",
    "                x_received = events1[tier].entity\n",
    "                # ...\n",
    "                # ...\n",
    "                n[tier] = n[tier] + 1\n",
    "            \n",
    "        if selected(event2):\n",
    "            lift_called = True\n",
    "           \n",
    "        if selected(event3):\n",
    "            # ...\n",
    "            # ...\n",
    "            n[x_sending.tier] = n[x_sending.tier] - 1\n",
    "            lift_called = False\n",
    "\n",
    "# =================================\n",
    "# Exit \n",
    "# =================================\n",
    "@process\n",
    "def Exit(env, c_in):\n",
    "    while True:\n",
    "        x = yield env.execute(c_in.receive())\n",
    "        print(f\"Exit: Tote with priority {x.priority} has completely left the Lift and has been received \"\n",
    "              f\"by the Exit at time {env.now:3.1f}\");            \n",
    "            \n",
    "# =================================\n",
    "# Model\n",
    "# =================================\n",
    "def model():\n",
    "    # Variables\n",
    "    ll = 2.0  # time to load/unload the lift\n",
    "    bc = 1    # buffer capacity\n",
    "    Levels = 2 # the number of tiers\n",
    "    \n",
    "    env = Environment()\n",
    "    a = [Channel(env) for tier in range(Levels)]\n",
    "    b = Channel(env)\n",
    "    c = Channel(env)\n",
    "    d = Channel(env)\n",
    "    Gs = [Generator(env, a[tier], tier) for tier in range(Levels)] \n",
    "    B = Buffer(env, a, b, c, bc, Levels)\n",
    "    L = Lift(env, b, c, d, ll)\n",
    "    E = Exit(env, d)\n",
    "    env.run(until=10000000)\n",
    "    print (\"simulation has ended\")\n",
    "\n",
    "# =================================\n",
    "# Main\n",
    "# =================================\n",
    "model()"
   ]
  },
  {
   "cell_type": "markdown",
   "metadata": {},
   "source": [
    "## 6.7 Exercise 7: Lift accurately modelled (5 points)\n",
    "\n",
    "Assume that the Lift starts from the ground floor. If it has to go to tier $i \\in \\{0, Levels - 1\\}$, it needs to travel a\n",
    "distance $dl \\cdot (i + 1)$, pick up the tote, travel back, and deliver the tote at the ground floor. For traveling the required distance, the vehicle first goes with a constant acceleration $al$ *m/s$^2$* until it reaches its maximum velocity $vmaxl$, then it moves with this velocity and decelerates with a constant deceleration $al$ to approach its destination tier. If the tier is located too close to the ground floor, it is possible that the Lift will not reach its maximum speed. Loading and unloading a tote both take $ll$ seconds.\n",
    "\n",
    "**Note: from here onwards, the Buffer without priorities will be used.**"
   ]
  },
  {
   "cell_type": "markdown",
   "metadata": {},
   "source": [
    "a. The time the lift is moving can be calculated similarly to how it was done for the vehicle in Exercise 4. Note that it takes the Lift half the time to move to pick the tote up, and then half the time to move back to drop the tote off. Using this information, determine (analytically) the time $t_{total}(i)$ it takes the Lift to pick up and drop off the item in terms of $ i $, $ dl $, $ al $, $ ll $, and $ vmaxl $."
   ]
  },
  {
   "cell_type": "markdown",
   "metadata": {},
   "source": [
    "\n",
    "Answer: ...\n",
    "\n",
    "$\n",
    "t_{total}(i) =\n",
    "    \\begin{cases}\n",
    "      ... \\ , & \\text{for} \\ ... \\leq \\ ... \\ , \\\\\n",
    "      ... \\ , & \\text{for} \\ ... >    \\ ... \\ .\n",
    "    \\end{cases}\n",
    "$\n"
   ]
  },
  {
   "cell_type": "markdown",
   "metadata": {},
   "source": [
    "b. Consider two tiers ($Levels = 2$), and assume that for tier $i \\in \\{0, Levels - 1\\}$ the first tote arrives after $i$ seconds (for two tiers: after 0.0 for tier 0 and after 1.0 for tier 1). Subsequently a tote arrives respectively 10.0, 100.0, and 100.0 seconds after the completion of sending its predecessor to the buffer. Make a lot-time-diagram indicating how long a newly generated job spends in which Generator, in the Buffer, and spends in the Lift."
   ]
  },
  {
   "cell_type": "code",
   "execution_count": null,
   "metadata": {},
   "outputs": [],
   "source": [
    "# =================================\n",
    "# Draw the lot-time-diagram\n",
    "# =================================\n",
    "\n",
    "# Set the locations\n",
    "locations = ('G0', 'G1', 'B', 'L')\n",
    "\n",
    "# For each lot, give the entry and exit times at generators G0 and G1, the buffer B, and lift L.\n",
    "lot0 = { ... };\n",
    "lot1 = { ... };\n",
    "lot2 = { ... };\n",
    "lot3 = { ... };\n",
    "lot4 = { ... };\n",
    "lot5 = { ... };\n",
    "lot6 = { ... };\n",
    "lot7 = { ... };\n",
    "\n",
    "# Add all lots together\n",
    "lots = [lot0, lot1, lot2, lot3, lot4, lot5, lot6, lot7];\n",
    "\n",
    "# Draw the lot-time diagram\n",
    "draw_lot_time_diagram(locations, lots)"
   ]
  },
  {
   "cell_type": "markdown",
   "metadata": {},
   "source": [
    "c. Complete the Lift in the simulation code in the template below, and confirm that your simulations produce the correct results, i.e., in correspondence with your lot-time-diagram."
   ]
  },
  {
   "cell_type": "code",
   "execution_count": null,
   "metadata": {},
   "outputs": [],
   "source": [
    "# =================================\n",
    "# Tote definition\n",
    "# =================================\n",
    "@dataclass\n",
    "class Tote:\n",
    "    entrytime: float = 0\n",
    "    tier: int = 0\n",
    "\n",
    "# =================================\n",
    "# Generator\n",
    "# =================================\n",
    "@process\n",
    "def Generator(env, c_out, tier):\n",
    "    delays=[1.0*tier, 10.0, 100.0, 100.0]\n",
    "    while len(delays)>0:\n",
    "        yield env.timeout(delays[0])\n",
    "        delays = delays[1:]\n",
    "        x = Tote(entrytime = env.now, tier = tier)\n",
    "        yield env.execute(c_out.send(x))\n",
    "        print(f\"Generator {tier:d}: Sending tote to Buffer completed at \"\n",
    "              f\"time {env.now:3.1f}\")\n",
    "    yield env.timeout(100.0)\n",
    "\n",
    "# =================================\n",
    "# Lift\n",
    "# =================================\n",
    "@process\n",
    "def Lift(env, channel1, channel2, channel3, ll, dl, vmaxl, al):\n",
    "    while True:\n",
    "        \n",
    "        event1 = channel1.receive()\n",
    "        entity1 = yield env.execute(event1)\n",
    "        \n",
    "        t_total = ...\n",
    "        \n",
    "        event2 = env.timeout(t_total/2)\n",
    "        yield event2\n",
    "        \n",
    "        event3 = channel2.receive()\n",
    "        entity2 = yield env.execute(event3)\n",
    "        \n",
    "        event4 = env.timeout(t_total/2)\n",
    "        yield event4\n",
    "        \n",
    "        event5 = channel3.send(entity2)\n",
    "        yield env.execute(event5)\n",
    "\n",
    "# =================================\n",
    "# Buffer\n",
    "# =================================\n",
    "@process\n",
    "def Buffer(env, channels1, channel2, channel3, bc, Levels):\n",
    "    xs = []\n",
    "    n = [0] * Levels\n",
    "    lift_called = False\n",
    "    while True:\n",
    "        # Define events\n",
    "        events1 = [channels1[tier].receive() if n[tier] < bc else None for tier in range(Levels)]\n",
    "        if not lift_called:\n",
    "            event3 = None\n",
    "            if len(xs) > 0:\n",
    "                x_sending = xs[0]\n",
    "                event2 = channel2.send(x_sending.tier)\n",
    "            else:\n",
    "                event2 = None\n",
    "        else:\n",
    "            event2 = None\n",
    "            event3 = channel3.send(x_sending)\n",
    "        \n",
    "        # Execute one of the events\n",
    "        events = events1  + [event2] + [event3]\n",
    "        yield env.select(*events)    \n",
    "        \n",
    "        # Check which event is executed\n",
    "        for tier in range(Levels):\n",
    "            if selected(events1[tier]):\n",
    "                x_received = events1[tier].entity\n",
    "                xs = xs + [x_received]\n",
    "                n[tier] = n[tier] + 1\n",
    "            \n",
    "        if selected(event2):\n",
    "            lift_called = True\n",
    "           \n",
    "        if selected(event3):\n",
    "            xs = xs[1:]\n",
    "            n[x_sending.tier] = n[x_sending.tier] - 1\n",
    "            lift_called = False\n",
    "\n",
    "@process\n",
    "def Exit(env, c_in):\n",
    "    while True:\n",
    "        x = yield env.execute(c_in.receive())\n",
    "        print(f\"Exit: Tote has completely left the Lift and has been received \"\n",
    "                 f\"by the Exit at time {env.now:3.1f}\")\n",
    "\n",
    "# =================================\n",
    "# Model\n",
    "# =================================\n",
    "def model():\n",
    "    # Variables\n",
    "    ll = 2.0        # time to load/unload the lift\n",
    "    bc = 1          # buffer capacity\n",
    "    Levels = 2      # the number of tiers\n",
    "    dl = 0.8        # unit height clearance\n",
    "    vmaxl = 5.0     # maximum velocity of lift\n",
    "    al = 7.0        # acceleration/deceleration of lift\n",
    "    \n",
    "    env = Environment()\n",
    "    a = [Channel(env) for tier in range(Levels)] # a channel for each tier, each sending totes\n",
    "    b = Channel(env)  # for sending totes\n",
    "    c = Channel(env)  # for calling the lift\n",
    "    d = Channel(env)  # for sending totes\n",
    "    Gs = [Generator(env, a[tier], tier) for tier in range(Levels)] \n",
    "    B = Buffer(env, a, b, c, bc, Levels)\n",
    "    L = Lift(env, b, c, d, ll, dl, vmaxl, al)\n",
    "    E = Exit(env, d)\n",
    "    env.run()\n",
    "    print (\"simulation has ended\")\n",
    "\n",
    "    \n",
    "# =================================\n",
    "# Main\n",
    "# =================================\n",
    "model()"
   ]
  },
  {
   "cell_type": "markdown",
   "metadata": {},
   "source": [
    "## 6.8 Exercise 8: Entire system (10 points)\n",
    "In the previous exercises we developed and tested each process individually. Now it is time to combine all processes into one model."
   ]
  },
  {
   "cell_type": "markdown",
   "metadata": {},
   "source": [
    "a. Determine the (total) arrival rate of orders for a system with $Levels$ tiers, where for each tier orders arrive with a mean inter arrival time of $arrive$."
   ]
  },
  {
   "cell_type": "markdown",
   "metadata": {},
   "source": [
    "Answer: ...\n",
    "\n"
   ]
  },
  {
   "cell_type": "markdown",
   "metadata": {},
   "source": [
    "b. Complete the simulation code in the template below by substituting the code for the processes as you derived in Exercises 1, 2, 4, 6, and 7. Note that the type tote has been extended in comparison with Exercise 1, so extra code is required in the Generator process to include the tier.\n",
    "\n",
    "Verify that the throughput in your simulations matches with the start rate you determined. Verify that totes reach the exit from each tier. Also verify that totes are generated from each column. Give the determined throughput and min and max values for column and tier.\n",
    "\n",
    "If you were not able to complete the Vehicle and Lift models, you can use the simplified models from respectively Exercises 3 and 5, with a total processing time $t_{vehicle, total} = 10 + \\frac{depth}{3}$ for the vehicle, and a total processing time $t_{lift, total} = 5 + \\frac{Level}{5}$. You can do the same for the following exercises."
   ]
  },
  {
   "cell_type": "markdown",
   "metadata": {},
   "source": [
    "Answer: ...\n",
    "\n"
   ]
  },
  {
   "cell_type": "code",
   "execution_count": null,
   "metadata": {},
   "outputs": [],
   "source": [
    "# =================================\n",
    "# Tote\n",
    "# =================================\n",
    "@dataclass\n",
    "class Tote:\n",
    "    entrytime: float = 0.0\n",
    "    column: int = 0\n",
    "    tier: int  = 0\n",
    "        \n",
    "        \n",
    "# =================================\n",
    "# Generator from Exercise 1 (modified to include tier) \n",
    "# =================================\n",
    "@process\n",
    "def Generator(env, c_out, arrive, depth, tier):\n",
    "    #.....\n",
    "    #.....\n",
    "    while True:\n",
    "        x = Tote(entrytime = env.now, column = ..., tier = tier)\n",
    "        yield env.execute(c_out.send(x))\n",
    "        delay = #.....\n",
    "        yield env.timeout(delay)\n",
    "\n",
    "        \n",
    "# =================================\n",
    "# Demand Buffer from Exercise 2\n",
    "# =================================\n",
    "@process\n",
    "def Demand_Buffer(env, c_in, c_out):\n",
    "    xs = [] # list of totes\n",
    "    #.....\n",
    "\n",
    "    \n",
    "# =================================\n",
    "# Vehicle from Exercise 4\n",
    "# =================================\n",
    "@process\n",
    "def Vehicle(env, c_in, c_out, lv, dv, vmaxv, av):\n",
    "    #.....\n",
    "\n",
    "    \n",
    "# =================================\n",
    "# Lift from Exercise 7\n",
    "# =================================\n",
    "@process\n",
    "def Lift(env, channel1, channel2, channel3, ll, dl, vmaxl, al):\n",
    "    #.....\n",
    "\n",
    "    \n",
    "# =================================\n",
    "# Buffer from Exercise 6a\n",
    "# =================================\n",
    "@process\n",
    "def Buffer(env, channels1, channel2, channel3, bc, Levels):\n",
    "    xs = []\n",
    "    n = [0] * Levels\n",
    "    while True:\n",
    "        events1 = [channels1[tier].receive() if n[tier] < bc else None for tier in range(Levels)]\n",
    "        event2 = channel2.send(xs[0].tier) if len(xs) > 0 else None\n",
    "        event3 = channel3.send(xs[0]) if len(xs) > 0 else None\n",
    "        events = events1 + [event2] + [event3]\n",
    "\n",
    "        yield env.select(*events)\n",
    "        \n",
    "        for tier in range(Levels):\n",
    "            if selected(events1[tier]):\n",
    "                x = events1[tier].entity\n",
    "                xs = xs + [x]\n",
    "                n[tier] = n[tier] + 1\n",
    "        \n",
    "        if selected(event2):\n",
    "            pass\n",
    "            \n",
    "        if selected(event3):\n",
    "            tier = xs[0].tier \n",
    "            xs = xs[1:]\n",
    "            n[tier] = n[tier] - 1\n",
    "      \n",
    "    \n",
    "# =================================\n",
    "# Exit\n",
    "# =================================\n",
    "@process\n",
    "def Exit(env, c_in, number_of_orders):\n",
    "    mphi = 0.0\n",
    "    for i in range(1, number_of_orders + 1):\n",
    "        x = yield env.execute(c_in.receive())\n",
    "        mphi = (i - 1) / i * mphi + (env.now - x.entrytime) / i\n",
    "        mthi = i/env.now\n",
    "    return mphi, mthi \n",
    "\n",
    "\n",
    "        \n",
    "# =================================\n",
    "# GDV Submodel (Generator + DemandBuffer  + Vehicle)\n",
    "# =================================\n",
    "def GDV(env, c_out, arrive, depth, tier, lv, dv, vmaxv, av):\n",
    "    a = Channel(env)\n",
    "    b = Channel(env)\n",
    "    G = Generator(env, a, arrive, depth, tier)\n",
    "    D = Demand_Buffer(env, a, b)\n",
    "    V = Vehicle(env, b, c_out, lv, dv, vmaxv, av)\n",
    "\n",
    "    \n",
    "# =================================\n",
    "# Model\n",
    "# =================================\n",
    "def model(Levels, depth, arrive, bc, number_of_orders):\n",
    "    # Variables\n",
    "    lv = 3.0                   # time to load/unload the vehicle\n",
    "    dv = 0.5                   # unit width clearance\n",
    "    vmaxv = 1.5                # maximum velocity of the vehicle\n",
    "    av = 1.0                   # acceleration/deceleration of the vehicle\n",
    "    ll = 2.0                   # time to load/unload the lift\n",
    "    dl = 0.8                   # unit height clearance\n",
    "    vmaxl = 5.0                # maximum velocity of lift\n",
    "    al = 7.0                   # acceleration/deceleration of lift\n",
    "    \n",
    "    env = Environment()\n",
    "    c = [Channel(env) for tier in range(Levels)] \n",
    "    d = Channel(env)  \n",
    "    e = Channel(env)  \n",
    "    f = Channel(env)  \n",
    "    GDVs = [ GDV(env, c[tier], arrive, depth, tier, lv, dv, vmaxv, av)  for tier in range(Levels) ] \n",
    "    B = Buffer(env, c, d, e, bc, Levels)\n",
    "    L = Lift(env, d, e, f, ll, dl, vmaxl, al)\n",
    "    E = Exit(env, f, number_of_orders)\n",
    "    env.run(until=E)\n",
    "    mph, mth = E.value\n",
    "    return mph, mth\n",
    "\n",
    "\n",
    "# =================================\n",
    "# Experiment\n",
    "# =================================\n",
    "def experiment():\n",
    "    Levels = 9                # the number of tiers\n",
    "    depth  = 55               # the number of columns\n",
    "    arrive = 70.0             # inter arrival time of requests\n",
    "    number_of_orders = 10000  # the number of orders to process \n",
    "    bc = 1                    # buffer capacity\n",
    "    \n",
    "    print(f\"--- Experiment {e}: For Levels={Levels}, depth={depth}, arrive={arrive}, bc={bc}, number_of_orders={number_of_orders} --- \")\n",
    "    mph, mth = model(Levels, depth, arrive, bc, number_of_orders)\n",
    "    print(f\"--- Experiment {e}: Mean throughput = {mth:8.6f}; Mean flowtime = {mph:6.4f} ---\")\n",
    "    \n",
    "# =================================\n",
    "# Main\n",
    "# =================================\n",
    "experiment()"
   ]
  },
  {
   "cell_type": "markdown",
   "metadata": {},
   "source": [
    "c. Run your simulation 30 times, and record for each run the resulting average throughput and average flow time.\n",
    "Determine the mean and the standard deviation of both the average throughput and the average flow time for these 30 simulations. Finally, determine a 95% confidence interval for both the average throughput and the average flow time. Give the results as your answer."
   ]
  },
  {
   "cell_type": "markdown",
   "metadata": {},
   "source": [
    "Answer: ...\n",
    "\n"
   ]
  },
  {
   "cell_type": "code",
   "execution_count": null,
   "metadata": {},
   "outputs": [],
   "source": [
    "def experiment():\n",
    "     ...\n",
    "        \n",
    "\n",
    "experiment()"
   ]
  },
  {
   "cell_type": "markdown",
   "metadata": {},
   "source": [
    "## 6.9 Exercise 9: Effect of buffer capacity (10 points)\n",
    "Via computer simulation analyze the impact of the buffer capacity on the throughput and flow time (choose values of $bc$ as 1,2,3,200). For each setting, run your simulations 30 times and determine both mean and standard deviation of the resulting average throughput and average flow time for these 30 simulations, as well as 95% confidence intervals.\n",
    "\n",
    "Please give your results, and describe your findings."
   ]
  },
  {
   "cell_type": "markdown",
   "metadata": {},
   "source": [
    "Answer: ...\n",
    "\n"
   ]
  },
  {
   "cell_type": "markdown",
   "metadata": {},
   "source": [
    "## 6.10 Exercise 10: Looking for the best layout (30 points)\n",
    "Via computer simulation consider 6 different scenarios (see the table below) that correspond to different layouts of the\n",
    "storage facility with a total capacity of 500 totes with different number of tiers and columns.\n",
    "\n",
    "| Scenario | 1 | 2 | 3 | 4| 5 | 6 |\n",
    "| - | - | - | - | - | - | - |\n",
    "| Levels |  2 | 5 | 10 | 20 | 25 | 50 |\n",
    "| Depth | 250 | 100 | 50 | 25 | 20 | 10 |\n",
    "\n",
    "In order to obtain an answer to the questions below: for each scenario, run your simulations 30 times and determine both mean and standard deviation of the resulting average throughput and average flow time for these 30 simulations, as well as 95% confidence intervals."
   ]
  },
  {
   "cell_type": "markdown",
   "metadata": {},
   "source": [
    "a. Just changing the levels and depth, is not enough to determine the maximum achievable throughput of a design. Which parameter of the model should we change if we want to determine the maximum throughput?\n",
    "\n",
    " For each scenario, determine by means of simulation the maximal throughput.\n",
    "\n",
    "What did you change in your model? Give your results including confidence intervals. What do you notice about the flowtime? Can you explain whats happening?\n"
   ]
  },
  {
   "cell_type": "markdown",
   "metadata": {},
   "source": [
    "Answer: ...\n",
    "\n"
   ]
  },
  {
   "cell_type": "markdown",
   "metadata": {},
   "source": [
    "b. Assume a required throughput of 6 totes per minute. Which of the given scenarios are feasible?\n",
    "\n",
    " Again, a change needs to be made to your model if we want to determine if the scenario can handle the required throughput. Modify your model, and compare the resulting flow time for each feasible scenario.\n",
    "\n",
    "What did you change in your model? Give the results including confidence intervals."
   ]
  },
  {
   "cell_type": "markdown",
   "metadata": {},
   "source": [
    "Answer: ...\n",
    "\n"
   ]
  },
  {
   "cell_type": "markdown",
   "metadata": {},
   "source": [
    "c. Based on your outcomes, select a layout that seems the best for you. The report on this step should contain an argument to select the best layout, and should consider if the layout is statistically significantly better than the other layouts. Can you think of other performance indicators that you could use to select the best layout besides the throughput and flow time?\n",
    "\n",
    "\n"
   ]
  },
  {
   "cell_type": "markdown",
   "metadata": {},
   "source": [
    "Answer: ...\n",
    "\n"
   ]
  },
  {
   "cell_type": "markdown",
   "metadata": {},
   "source": [
    "## References\n",
    "[1] G. Marchet, M. Melanci, S. Perotti and E. Tappia, \"Analytical model to estimate performance of autonomous vehicle storage and retrieval systems for product totes\", International Journal of Production Research, vol. 50(24), 7134-7148, 2012."
   ]
  }
 ],
 "metadata": {
  "kernelspec": {
   "display_name": "Python (pychEnv)",
   "language": "python",
   "name": "pychenv"
  },
  "language_info": {
   "codemirror_mode": {
    "name": "ipython",
    "version": 3
   },
   "file_extension": ".py",
   "mimetype": "text/x-python",
   "name": "python",
   "nbconvert_exporter": "python",
   "pygments_lexer": "ipython3",
   "version": "3.11.6"
  }
 },
 "nbformat": 4,
 "nbformat_minor": 5
}
