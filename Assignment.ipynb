{
 "cells": [
  {
   "cell_type": "markdown",
   "metadata": {},
   "source": [
    "**To make the assignment, first run the code below to import the right libraries.**"
   ]
  },
  {
   "cell_type": "code",
   "execution_count": 2,
   "id": "9773d3b9",
   "metadata": {},
   "outputs": [
    {
     "name": "stdout",
     "output_type": "stream",
     "text": [
      "PyCh version 2.1 imported succesfully.\n",
      " \n"
     ]
    }
   ],
   "source": [
    "# =================================\n",
    "# Imports\n",
    "# =================================\n",
    "from PyCh import *\n",
    "from numpy import random\n",
    "from dataclasses import dataclass\n",
    "%matplotlib ipympl\n",
    "from matplotlib import pyplot\n",
    "import math"
   ]
  },
  {
   "cell_type": "markdown",
   "id": "c38c064e",
   "metadata": {},
   "source": [
    "<h1><center> 4DC10. Intermediate assignment</center></h1>\n",
    "<h2><center> Modeling and simulation of an autonomous vehicle storage and retrieval system</center></h2>\n",
    "    \n",
    "# 1 Subject\n",
    "\n",
    "Today's competitive environment, in which deliveries need to be faster and order sizes become smaller, forces material handling providers to progressively develop new and better solutions. A recent development in automated material-handling technology for unit load storage and retrieval is the autonomous vehicle storage and retrieval system (AVS/RS). Figure 1 shows a representation of an AVS/RS for the handling of totes, while Figure 2 illustrates a single tier (floor, level). The storage racks are single-deep and double-sided. Each storage position is of the same size and can hold one tote. Lifts are mounted at fixed locations at one end of each storage aisle. The input/output (I/O) point is located at the first tier beside each lift. Autonomous vehicles are dedicated to a storage aisle within a specific tier (so-called tier-captive configuration). The first position on either side of the storage aisle in all tiers serves as a buffer and is used to manage the transfer of totes between vehicles and lifts (see Figure 2). One buffer (out) handles totes which have been retrieved, the other one (in), located on the other side of the storage aisle, handles the totes to be stored. The presence of these buffers allows the lift and vehicle to work independently of each other. \n",
    "\n",
    "The throughput performance of AVS/RS systems can be affected by design decisions (such as number of tiers, number of aisles, and depth of aisles) as well as operational decisions (such as tote storage location and order assignment).\n",
    "\n",
    "Figure 1: AVS/RS with tier-captive configuration [1] | Figure 2: Single tier in AVS/RS [1]\n",
    "- | - \n",
    "<img src=\"figures/avs.png\" alt=\"drawing\" width=\"400\"/> | <img src=\"figures/avrs2.png\" alt=\"drawing\" width=\"400\"/>\n",
    "\n",
    "\n"
   ]
  },
  {
   "cell_type": "markdown",
   "id": "b6e6fdb8",
   "metadata": {},
   "source": [
    "# 2 Goal\n",
    "The goal of this assignment is to study this new material handling solution by using computer simulation. This study can be restricted to the retrieval process only, i.e., the vehicles perform only single retrieval cycles. Clearly, the retrieval phase is the most critical activity from an organisational viewpoint, as it is directly related to customer service level and &mdash; in contrast to the storage phase &mdash; it cannot be postponed to a period of low workload. \n",
    "\n",
    "The objectives of this assignment can be summarized as follows:\n",
    "- Develop a simulation model of one aisle that consists of several tiers with retrieval process to assess the system performance in terms of throughput and flow time.\n",
    "- Systematically develop the model process by process, and verify and validate each process using analytical results.\n",
    "- Investigate design trade-offs, i.e., via different layouts (number of columns and tiers), for this material handling system."
   ]
  },
  {
   "cell_type": "markdown",
   "id": "a3086f5f",
   "metadata": {},
   "source": [
    "# 3 Description of the AVS/RS\n",
    "The AVS/RS is a fully automated system that can store and retrieve unit loads. The unit loads are placed in totes, a type of box, and these totes are placed in a designated aisle and column for storage. When retrieved, an autonomous vehicle places the totes in a buffer at the end of the aisle. There is one autonomous vehicle for every aisle within the tier. This is called the tier-captive configuration. From the buffer, the totes are picked by a lift that serves all tiers in one aisle, see Figure 2. In this assignment only one aisle that consists of $Levels$ tiers has to be modelled. Each aisle has depth number of columns of width $dv$ metres and height $dl$ metres.\n",
    "\n",
    "Requests for a tote arrive for each tier, asking for a tote with a random (uniformly distributed) column assigned to it. The inter arrival time of requests is exponentially distributed with mean value $arrive$.\n",
    "\n",
    "The vehicles transport totes along the aisle (one vehicle per tier). The time taken by the vehicle to process an order depends on the tote's location. The vehicle has to travel to this location, load the tote (it takes a fixed amount of time equal to $lv$ seconds), then go back to the end of the aisle and, finally, unload the tote to the buffer (again this takes $lv$ seconds). The speed profile of each vehicle is described as follows. First, the vehicle goes with a constant acceleration $av$ *m/s$^2$* until it reaches its maximum velocity $vmaxv$, then it moves with this velocity and decelerates with a constant deceleration $av$ to approach its destination point. If the tote is located too close to the end of the aisle, it is possible that the vehicle will not reach its maximum speed.\n",
    "\n",
    "The vehicles unload the totes to a location where it is picked up by the lift. At any given time only one tote per tier is allowed to occupy such a position.\n",
    "\n",
    "The lift transports the totes from every tier to the ground floor. The processing time depends on the tote's location and the fixed time to load and unload the tote ($ll$ seconds for loading and $ll$ seconds for unloading). The maximum speed of the lift is $vmaxl$ $m/s$ with a speed profile similar to that of the vehicles (constant acceleration/deceleration of $al$ *m/s<sup>2</sup>*)."
   ]
  },
  {
   "cell_type": "markdown",
   "id": "eac2874a",
   "metadata": {},
   "source": [
    "# 4 Modeling of the AVS/RS\n",
    "The model consists of several processes communicating via channels, see Figure 3.\n",
    "\n",
    "| Figure 3: The processes in the model | \n",
    "- \n",
    "<img src=\"figures/avrs.png\" alt=\"drawing\" width=\"400\"/> \n",
    "\n",
    "A brief description of the processes is given below:\n",
    "- **G:** The generator models the arrival of orders for totes. There is one generator per tier.\n",
    "- **DB:** The demand buffer stores the orders to be picked up by the vehicles. The vehicle processes the orders under first-come-first-serve policy. It can always receive a tote, but it releases a tote only when the vehicle is ready to pick it up.\n",
    "- **V:** The vehicle can be modeled as a server with a variable processing time.\n",
    "- **GDV:** The process consisting of a Generator, Demand Buffer and Vehicle for one tier of the AVS/RS system.\n",
    "- **B:** The buffer stores the totes from the vehicles awaiting for a pick-up by the lift. The buffer operates under first-come-first-serve policy and has a finite capacity of $bc$ totes per tier. So, every tier has a buffer location of finite capacity of $bc$ totes. All those locations together form the buffer B that accommodates all the totes which are processed by the same lift. When the buffer is not empty (there is at least one tote on one of the tiers), the buffer sends information about the tier of the longest waiting tote to the lift upon request. This information is used by the lift to determine the location of the tote (the number of the tier the tote is located in). Once the lift is ready to pick it up, the tote is released to the lift. There are two types of queues in the buffer: $xs$ contains all the totes to be picked up by the lift and there are $Levels$ counters $n$ counting the totes from the corresponding tier.\n",
    "- **L:** The lift, similar to the process **V**, is modeled as a machine with a variable processing time. A lift first receives a destination tier. Then the process delays for time required for the lift to go to the tote location and pick up the tote. Then it receives the tote, and next it delays for the time required to go to the ground floor and to unload the tote. After that the lift process is ready to release the tote to the Exit process.\n",
    "- **E:** In the exit process all the data related to each tote are collected. This process calculates the average throughput and the average flow-time. The number of totes to be processed by the AVS/RS during one simulation run is determined by the constant $number\\_of\\_orders$."
   ]
  },
  {
   "cell_type": "markdown",
   "id": "be617c9a",
   "metadata": {},
   "source": [
    "# 5 Remark concerning report\n",
    "The assignment must be handed in two ways: a report in PDF with the answers to each question, as well as this jupyter notebook file. The report has to contain concise answers to the questions posed. Avoid unnecessary long explanations, however answers to analytical questions without an argument will result in no points. Include all important python code in your report, but only include code of the processes you have modified (e.g. the Generator process in Exercise 6.1.b). Failing to submit both the PDF and notebook files will result in a point reduction. \n",
    "\n",
    "Note that some of the simulations in the last few exercises can take some time to run, so plan accordingly.\n"
   ]
  },
  {
   "cell_type": "markdown",
   "id": "4fc39f62",
   "metadata": {},
   "source": [
    "# 6 Assignment\n",
    "When making a PyCh specification, one does not build an entire model and then starts debugging. A model is build step by step. During each step proper functionality is checked. We therefore model one process at a time, and connect the process with a Generator and/or Exit process to test proper functionality. In order to test proper functionality we first use analytical methods to determine the expected outcome. Then we run simulations to verify if these outcomes are indeed obtained. If that is the case, we can be more convinced that the process has been modeled correctly.\n",
    "\n",
    "**Warning: printing millions of lines of text can cause problems when opening your jupyter notebook file. If necessary, try printing every 1000th line instead of every line.**"
   ]
  },
  {
   "cell_type": "markdown",
   "id": "af32edfb",
   "metadata": {},
   "source": [
    "## 6.1 Exercise 1: Generator (5 points)\n",
    "So the first step is to write a proper generator for a tier. To that end, the first model we build consists of (only) a Generator process and an Exit process collecting the totes generated by the Generator. The inter arrival time of requests is exponentially distributed with mean $arrive$. The requested tote should be retrieved from a random (uniformly distributed) column, where there are $depth$ columns in total (the columns ranging from 0 till 54)."
   ]
  },
  {
   "cell_type": "markdown",
   "id": "8d043241",
   "metadata": {},
   "source": [
    "a. Determine (analytically) the throughput and flow time that should result from your model with only the generator process and the exit process."
   ]
  },
  {
   "cell_type": "markdown",
   "id": "1dd9e9ec",
   "metadata": {},
   "source": [
    "Answer: thoughput = 1/arrive products/sec, flow time = 0 sec\n",
    "\n"
   ]
  },
  {
   "cell_type": "markdown",
   "id": "964ea240",
   "metadata": {},
   "source": [
    "b. Complete the Generator code in the template below. Confirm that your simulations produce the correct throughput and flow time, and that the minimal and maximal column returned by your simulation are respectively 0 and 54."
   ]
  },
  {
   "cell_type": "code",
   "execution_count": 3,
   "id": "2f226913",
   "metadata": {},
   "outputs": [
    {
     "name": "stdout",
     "output_type": "stream",
     "text": [
      "tote =   1000;  Entrytime =  67306.5621;  Column = 17;  Mean throughput =0.014857  Mean flowtime = 0.0000\n",
      "simulation has ended\n"
     ]
    }
   ],
   "source": [
    "# =================================\n",
    "# Tote\n",
    "# =================================\n",
    "@dataclass\n",
    "class Tote:\n",
    "    entrytime: float = 0.0\n",
    "    column: int = 0\n",
    "\n",
    "\n",
    "# =================================\n",
    "# Generator\n",
    "# =================================\n",
    "@process\n",
    "def Generator(env, c_out, arrive, depth):\n",
    "    while True:\n",
    "        x = Tote(entrytime = env.now, column = random.randint(0, depth))\n",
    "        yield env.execute(c_out.send(x))\n",
    "        delay = random.exponential(arrive)\n",
    "        yield env.timeout(delay)\n",
    "\n",
    "\n",
    "# =================================\n",
    "# Exit\n",
    "# =================================\n",
    "@process\n",
    "def Exit(env, c_in, number_of_orders):\n",
    "    mphi = 0\n",
    "    for i in range(1, number_of_orders + 1):\n",
    "        x = yield env.execute(c_in.receive())\n",
    "        mphi = (i - 1) / i * mphi + (env.now - x.entrytime) / i\n",
    "        \n",
    "        if i % 1000 == 0:\n",
    "            print(f\"tote = {i:6d};\"  \n",
    "                f\"  Entrytime = {x.entrytime: 10.4f};\" \n",
    "                f\"  Column = {x.column:2d};\"\n",
    "                f\"  Mean throughput =\" + (f\"{i / env.now:8.6f}\"   if   env.now   else f\"{'N.A.':>8s}\") +\n",
    "                f\"  Mean flowtime = {mphi:6.4f}\"\n",
    "            )\n",
    "\n",
    "\n",
    "# =================================\n",
    "# Model\n",
    "# =================================\n",
    "def model():\n",
    "    # Variables\n",
    "    arrive = 70.0             # inter arrival time of requests\n",
    "    depth  = 55               # the number of columns\n",
    "    \n",
    "    number_of_orders = 1000    # the number of orders to process        \n",
    "\n",
    "    env = Environment()\n",
    "    a = Channel(env)\n",
    "    G = Generator(env, a, arrive, depth)\n",
    "    E = Exit(env, a, number_of_orders)\n",
    "    env.run(until=E)\n",
    "    print (\"simulation has ended\")\n",
    "\n",
    "# =================================\n",
    "# Main\n",
    "# =================================\n",
    "model()\n"
   ]
  },
  {
   "cell_type": "markdown",
   "id": "3d245127",
   "metadata": {},
   "source": [
    "## 6.2 Exercise 2: Demand Buffer (5 points)\n",
    "Next, we include the Demand buffer which is modelled as a standard FIFO buffer with infinite capacity.\n",
    "\n",
    "a. Determine (analytically) the throughput and flow time that should result from your model with only the generator process, demand buffer, and the exit process."
   ]
  },
  {
   "cell_type": "markdown",
   "id": "aad463cd",
   "metadata": {},
   "source": [
    "Answer: \n",
    "\n",
    "<!-- throughput = 1/arrive products/sec, flow time = 0 sec -->\n",
    "$\n",
    "\\text{Throughput} = \\delta = 1/\\text{arrive}\n",
    "$\n",
    "\n",
    "$\n",
    "\\text{Flowtime} = \\phi = 0 \\text{ sec}\n",
    "$\n"
   ]
  },
  {
   "cell_type": "markdown",
   "id": "9eb2127d",
   "metadata": {},
   "source": [
    "b. Complete the simulation code in the template below. Confirm that your simulations produces the same throughput and flow time as determined previously.\n",
    "\n",
    "Note: The previously defined variables and functions remain unchanged, only the Demand Buffer is added, and the main code is changed."
   ]
  },
  {
   "cell_type": "markdown",
   "id": "0f19ab96",
   "metadata": {},
   "source": [
    "Answer:\n",
    "\n",
    "Subsituting the values in the model below we get:\n",
    "\n",
    "$\n",
    "\\text{Throughput} = \\delta = 1/\\text{arrive} = 1/70 = 0.0143 \\text{ products/sec}\n",
    "$\n",
    "\n",
    "$\n",
    "\\text{Flowtime} = \\phi = 0 \\text{ sec}\n",
    "$\n",
    "\n",
    "Running the model for a sufficient number of iterations we retrieve the same results as calculated above."
   ]
  },
  {
   "cell_type": "code",
   "execution_count": 4,
   "id": "f4ca9c03",
   "metadata": {},
   "outputs": [
    {
     "name": "stdout",
     "output_type": "stream",
     "text": [
      "simulation has ended\n"
     ]
    }
   ],
   "source": [
    "# =================================\n",
    "# Demand Buffer\n",
    "# =================================\n",
    "@process\n",
    "def Demand_Buffer(env, c_in, c_out):\n",
    "    xs = [] # list of totes\n",
    "\n",
    "    while True:\n",
    "        sending = c_out.send(xs[0]) if len(xs)>0 else None  # If there is an item in the buffer\n",
    "        receiving = c_in.receive()\n",
    "\n",
    "        x = yield env.select(sending, receiving)\n",
    "        if selected(receiving):\n",
    "            xs.append(x)\n",
    "        if selected(sending):\n",
    "            xs.pop(0)\n",
    "\n",
    "\n",
    "# =================================\n",
    "# Model\n",
    "# =================================\n",
    "def model():\n",
    "    # Variables\n",
    "    arrive = 70.0             # inter arrival time of requests\n",
    "    depth  = 55               # the number of columns\n",
    "    \n",
    "    number_of_orders = 100  # the number of orders to process\n",
    "    \n",
    "    env = Environment()\n",
    "    a = Channel(env)\n",
    "    b = Channel(env)\n",
    "    G = Generator(env, a, arrive, depth)\n",
    "    D = Demand_Buffer(env, a, b)\n",
    "    E = Exit(env, b, number_of_orders)\n",
    "    env.run(until=E)\n",
    "    print (\"simulation has ended\")\n",
    "    \n",
    "# =================================\n",
    "# Main\n",
    "# =================================\n",
    "model()"
   ]
  },
  {
   "cell_type": "markdown",
   "metadata": {},
   "source": [
    "## 6.3 Exercise 3: Vehicle as machine (5 points)\n",
    "Next, we include the Vehicle which as a first attempt is modelled as a standard machine with a deterministic processing time of 40.0 seconds. The simulation code for the simplified vehicle is given below.\n",
    "\n",
    "Note: The previously defined variables and functions remain unchanged, only the Vehicle is added, and the main code is changed."
   ]
  },
  {
   "cell_type": "code",
   "execution_count": 5,
   "id": "35b34f6f",
   "metadata": {
    "pycharm": {
     "name": "#%%\n"
    }
   },
   "outputs": [
    {
     "name": "stdout",
     "output_type": "stream",
     "text": [
      "simulation has ended\n"
     ]
    }
   ],
   "source": [
    "# =================================\n",
    "# Vehicle\n",
    "# =================================\n",
    "@process\n",
    "def Vehicle(env, c_in, c_out):\n",
    "    tp = 40.0\n",
    "    while True:\n",
    "        tote = yield env.execute(c_in.receive())\n",
    "        yield env.timeout(tp)\n",
    "        yield env.execute(c_out.send(tote))\n",
    "\n",
    "# =================================\n",
    "# Model\n",
    "# =================================\n",
    "def model():\n",
    "    # Variables \n",
    "    arrive = 70.0             # inter arrival time of requests\n",
    "    depth  = 55               # the number of columns\n",
    "\n",
    "    # number_of_orders = 100    # the number of orders to process\n",
    "    number_of_orders = 100    # the number of orders to process\n",
    "    \n",
    "    env = Environment()\n",
    "    a = Channel(env)\n",
    "    b = Channel(env)\n",
    "    c = Channel(env)\n",
    "    G = Generator(env, a, arrive, depth)\n",
    "    D = Demand_Buffer(env, a, b)\n",
    "    V = Vehicle(env, b, c)\n",
    "    E = Exit(env, c, number_of_orders)\n",
    "    env.run(until=E)\n",
    "    print (\"simulation has ended\")\n",
    "\n",
    "# =================================\n",
    "# Main\n",
    "# =================================\n",
    "model()"
   ]
  },
  {
   "cell_type": "markdown",
   "id": "1c291abe",
   "metadata": {},
   "source": [
    "a. Determine (analytically) the throughput and flow time that should result from your model with only the generator process, demand buffer, vehicle and the exit process."
   ]
  },
  {
   "cell_type": "markdown",
   "id": "8a224d29",
   "metadata": {},
   "source": [
    "Answer:\n",
    "\n",
    "$\n",
    "\\text{Throughput} = \\delta = r_a = \\frac{1}{\\text{arrive}} = \\frac{1}{70} = 0.0143 \\text{ [products/sec]}\n",
    "$\n",
    "\n",
    "$\n",
    "u = \\frac{r_a\\cdot t_e}{1} = \\frac{1/70\\cdot 40}{1} = 4/7\n",
    "$\n",
    "\n",
    "$\n",
    "\\gamma = \\frac{1}{2}\\cdot\\left(c_a^2+c_e^2\\right) = \\frac{1}{2}\\cdot\\left(1+0\\right) = \\frac{1}{2}\n",
    "$\n",
    "\n",
    "$\n",
    "\\phi_B = \\gamma\\cdot\\frac{u}{1-u}\\cdot t_e = \\frac{1}{2}\\cdot\\frac{4/7}{1-4/7}\\cdot 40 = 80/3 \\text{ [sec]}\n",
    "$\n",
    "\n",
    "$\n",
    "\\text{Flowtime} = \\phi = t_e + \\phi_B = 40 + 80/3 = 200/3 = 66.6667 \\text{ [sec]}\n",
    "$"
   ]
  },
  {
   "cell_type": "markdown",
   "id": "52e896c0",
   "metadata": {},
   "source": [
    "b. Run your simulation at least 10 times. Confirm that your analytically determined throughput and flow time are correct.  What are the range of outcomes for the flow time? Determine (roughly, by trial and error) the number of orders required to get a good estimate for the flow time in just one simulation run (first three **non-zero** digits are correct).\n"
   ]
  },
  {
   "cell_type": "markdown",
   "id": "7f7fb25e",
   "metadata": {},
   "source": [
    "Answer:\n",
    "\n",
    "|       1 |        2 |       3 |       4 |        5 |       6 |       7 |       8 |       9 |      10 |\n",
    "| ------- | -------- | ------- | ------- | -------- | ------- | ------- | ------- | ------- | ------- |\n",
    "| 69.1875 | 103.7135 | 54.2485 | 72.0450 | 101.9155 | 69.1207 | 69.5572 | 56.0316 | 55.3002 | 67.9446 |\n",
    "\n",
    "The range between the results is max - min = 103.7135 - 56.0316 = 47.6819\n",
    "\n",
    "The number of orders required to get a good estimate for the flow time in just one simulation run is 3000000 from here the first three digits match the analytical result.\n"
   ]
  },
  {
   "cell_type": "markdown",
   "id": "c37e0910",
   "metadata": {},
   "source": [
    "## 6.4 Exercise 4: Vehicle accurately modelled (15 points)\n",
    "Assume that a vehicle starts from the buffer. If it has to go to column $i \\in \\{0, depth - 1\\}$, it needs to drive a distance $dv \\cdot (i + 1)$, pick up the tote, drive back, and deliver the tote to the buffer. For driving the required distance, the vehicle first goes with a constant acceleration $av$ $[m/s^2]$ until it reaches its maximum velocity $vmaxv$, then it moves with this velocity and decelerates with a constant deceleration $av$ to approach its destination point. If the tote is located too close to the end of the aisle, it is possible that the vehicle will not reach its maximum speed.\n",
    "\n",
    "a. From this information, (analytically) determine the time (in seconds) it takes a vehicle to move a given distance of $x$ meters. To that end, first determine from the acceleration profile the travelled distance as function of time. From that you can determine the time required to travel a given distance. Express the time spent moving (one way) $t_{moving}$ in terms of $x$, $av$ and $vmaxv$. For now we're only interested in the time spent moving one way."
   ]
  },
  {
   "cell_type": "markdown",
   "id": "e2471bc5",
   "metadata": {},
   "source": [
    "\n",
    "Answer:\n",
    "\n",
    "$\n",
    "v = av\\cdot t\n",
    "$\n",
    "\n",
    "$\n",
    "x=\\frac{1}{2}av\\cdot t^2\n",
    "$\n",
    "\n",
    "$\n",
    "t_{accerate} = t_{decelerate} = \\frac{vmaxv}{av}\n",
    "$\n",
    "\n",
    "$\n",
    "x_{accerate} = x_{decelerate} = \\frac{1}{2} av \\cdot t_{accelarate}^2 = \\frac{1}{2} av \\cdot (\\frac{vmaxv}{av})^2 = \\frac{1}{2}\\frac{vmaxv^2}{av}\n",
    "$\n",
    "\n",
    "$\n",
    "x_{acc+dec}=x_{acceration}+x_{deceleration} = \\frac{vmaxv^2}{av}\n",
    "$\n",
    "\n",
    "$x_{acc+dec}$ is the minimum distance where the vehicle reaches its maximum speed during the movement.\n",
    "\n",
    "When the vehicle moves a distance $x$ larger than $x_{acc+dec}$, the vehicle will move with a constant speed $vmaxv$ between acceration and decerelration and the total time can be calculated with\n",
    "\n",
    "$\n",
    "\\Large t_{accelerate} + t_{decelerate} + \\frac{x-x_{acc+dec}}{vmaxv} = 2\\cdot\\frac{vmaxv}{av} + \\frac{x-\\frac{vmaxv^2}{av}}{vmaxv} = \\frac{vmaxv}{av} + \\frac{x}{vmaxv}\n",
    "$\n",
    "\n",
    "When the distance $x$ is smaller than $x_{acc+dec}$, because the acceration and deceration speeds are the same, the total time is twice the time to reach the middle point of the movement. The time to reach the middle point can be calulated with\n",
    "\n",
    "$\n",
    "x_{accerate} = x_{decelerate} = \\frac{x}{2}\n",
    "$\n",
    "\n",
    "$\n",
    "t_{accerating} = t_{decelerating} = \\sqrt{\\frac{2x_{accerate}}{av}} = \\sqrt{\\frac{x}{av}}\n",
    "$\n",
    "\n",
    "$\n",
    "t_{accerating} + t_{decelerating} = 2\\cdot\\sqrt{\\frac{x}{av}}\n",
    "$\n",
    "\n",
    "Now we can calculate the total time to move a distance $x$ with\n",
    "\n",
    "$\n",
    "\\large t_{moving}(x) =\n",
    "    \\begin{cases}\n",
    "      2\\cdot\\sqrt{\\frac{x}{av}} \\ , & \\text{for}\\ x \\leq \\ \\frac{vmaxv^2}{av} \\ , \\\\\n",
    "      \\frac{vmaxv}{av} + \\frac{x}{vmaxv} \\ , & \\text{for}\\ x >    \\ \\frac{vmaxv^2}{av} \\ .\n",
    "    \\end{cases}\n",
    "$\n",
    "\n",
    "\n",
    "\n"
   ]
  },
  {
   "cell_type": "markdown",
   "id": "869e9349",
   "metadata": {},
   "source": [
    "b. Next, if loading and unloading a tote both take $lv$ seconds, determine (analytically) the time it takes a vehicle, starting from the buffer, to pick up a tote from column $i \\in \\{0, depth - 1\\}$ and deliver it to the buffer. Express the total travel time $t_{total}$ in terms of $i$, $dv$, $lv$, $av$, and $vmaxv$. We're now interested in the total travel time, so the time spent moving back and forth."
   ]
  },
  {
   "cell_type": "markdown",
   "id": "7c8ea0be",
   "metadata": {},
   "source": [
    "\n",
    "Answer:\n",
    "\n",
    "$\n",
    "\\large t_{total}(i) =\n",
    "    \\begin{cases}\n",
    "      4\\cdot\\sqrt{\\frac{dv\\cdot(i+1)}{av}} + 2\\cdot lv \\ , & \\text{for} \\ i \\leq \\ \\frac{vmaxc^2}{av\\cdot dv}-1 \\ , \\\\\n",
    "      2\\cdot\\left(\\frac{vmaxv}{av} + \\frac{dv\\cdot(i+1)}{vmaxv}\\right) + 2\\cdot lv \\ , & \\text{for} \\ i >    \\ \\frac{vmaxc^2}{av\\cdot dv}-1 \\ .\n",
    "    \\end{cases}\n",
    "$\n"
   ]
  },
  {
   "cell_type": "markdown",
   "id": "a428eb56",
   "metadata": {},
   "source": [
    "c. First determine the analytical formula for the mean and variance of the total travel time $t_{total}$ for a random (uniformly distributed) column.\n",
    "\n",
    "Then, calculate the numerical mean and variance for the following parameters: $depth = 55$, $lv = 3.0$, $dv = 0.5$, $vmaxv = 1.5$, and $av = 1.0$, using the code below."
   ]
  },
  {
   "cell_type": "markdown",
   "id": "477f767e",
   "metadata": {},
   "source": [
    "Analytical answer:\n",
    "\n",
    "The mean is the sum of the total times for all the columns divided by the number of columns.\n",
    "\n",
    "$\n",
    "\\text{mean} = \\Large\\frac{1}{depth}\\cdot\\sum_{i=0}^{depth-1} t_{total}(i)\n",
    "$\n",
    "\n",
    "$\n",
    "\\text{mean} = \\Large\\frac{1}{depth}\\cdot\\left[\\sum_{i=0}^{\\lfloor\\frac{vmavx^2}{av\\cdot dv}-1\\rfloor} \\left( 4\\cdot\\sqrt{\\frac{dv\\cdot(i+1)}{av}}+2\\cdot lv \\right) + \\sum^{depth-1}_{i=\\lceil\\frac{vmavx^2}{av\\cdot dv}\\rceil} \\left(2\\cdot\\left(\\frac{vmaxv}{av} + \\frac{dv\\cdot(i+1)}{vmaxv}\\right) + 2\\cdot lv \\right)\\right]\n",
    "$\n",
    "\n",
    "$\n",
    "\\text{variance} = \\Large\\frac{1}{depth}\\cdot\\sum_{i=0}^{depth-1} (t_{total}(i)-\\text{mean})^2\n",
    "$\n",
    "\n",
    "$\n",
    "\\text{variance} = \\Large\\frac{1}{depth}\\cdot\\left[\\sum_{i=0}^{\\lfloor\\frac{vmavx^2}{av\\cdot dv}-1\\rfloor} \\left( 4\\cdot\\sqrt{\\frac{dv\\cdot(i+1)}{av}}+2\\cdot lv -\\text{mean}\\right)^2 + \\sum_{i=\\lceil\\frac{vmavx^2}{av\\cdot dv}\\rceil}^{depth-1} \\left(2\\cdot\\left(\\frac{vmaxv}{av} + \\frac{dv\\cdot(i+1)}{vmaxv}\\right) + 2\\cdot lv -\\text{mean}\\right)^2\\right]\n",
    "$"
   ]
  },
  {
   "cell_type": "markdown",
   "metadata": {},
   "source": [
    "Numerical answer:\n",
    "\n",
    "mean $ = 27.64 $ \n",
    "\n",
    "variance  $ = 112.84 $ "
   ]
  },
  {
   "cell_type": "code",
   "execution_count": 6,
   "metadata": {},
   "outputs": [
    {
     "name": "stdout",
     "output_type": "stream",
     "text": [
      "the mean is 27.643350197451\n",
      "the variance is 112.84013970524529\n"
     ]
    }
   ],
   "source": [
    "def exc4c():\n",
    "    depth = 55\n",
    "    lv = 3.0\n",
    "    dv = 0.5\n",
    "    vmaxv = 1.5\n",
    "    av = 1.0\n",
    "    \n",
    "    def t_total(i):\n",
    "        x = dv * (i+1)\n",
    "\n",
    "        if x <= vmaxv**2/av:\n",
    "            t = 4 * math.sqrt(x/av) + 2*lv\n",
    "        else:\n",
    "            t = 2*(vmaxv/av + x/vmaxv) + 2*lv\n",
    "    \n",
    "        return t\n",
    "\n",
    "    mean = 1/depth*sum([t_total(i) for i in range(depth)])\n",
    "    variance = 1/depth*sum([(t_total(i) - mean)**2 for i in range(depth)])\n",
    "\n",
    "    print(f\"the mean is {mean}\")\n",
    "    print(f\"the variance is {variance}\")\n",
    "\n",
    "exc4c()"
   ]
  },
  {
   "cell_type": "markdown",
   "metadata": {},
   "source": [
    "d. Determine (analytically) the throughput and flow time that should result from your model with only the generator process, demand buffer, vehicle and the exit process."
   ]
  },
  {
   "cell_type": "markdown",
   "metadata": {},
   "source": [
    "Answer:\n",
    "\n",
    "$\n",
    "\\text{Throughput} = \\delta = r_a = \\frac{1}{70} = 0.0143 \\text{ [products/sec]}\n",
    "$\n",
    "\n",
    "$\n",
    "u = \\frac{r_a\\cdot t_e}{m} = \\frac{1/70\\cdot 27.643...}{1} = 0.394...\n",
    "$\n",
    "\n",
    "$\n",
    "\\gamma = \\frac{1}{2}\\cdot\\left(c_a^2+c_e^2\\right) = \\frac{1}{2}\\cdot\\left(1+\\frac{112.840...}{27.643...^2}\\right) = 0.573...\n",
    "$\n",
    "\n",
    "$\n",
    "\\phi_B = \\gamma\\cdot\\frac{u}{1-u}\\cdot t_e = 0.573...\\cdot\\frac{0.394...}{1-0.394...}\\cdot 27.643... = 10.352... \\text{ [sec]}\n",
    "$\n",
    "\n",
    "$\n",
    "\\text{Flowtime} = \\phi = t_e + \\phi_B = 27.643... + 10.352... = 37.9959 \\text{ [sec]}\n",
    "$"
   ]
  },
  {
   "cell_type": "code",
   "execution_count": 7,
   "id": "cc0cbc6b",
   "metadata": {},
   "outputs": [],
   "source": [
    "te = 27.643350197451\n",
    "variance = 112.84013970524529\n",
    "\n",
    "gamma = 1/2 * (1 + variance / te**2)\n",
    "u = te/70\n",
    "\n",
    "flowtime = te + gamma * u / (1-u) * te"
   ]
  },
  {
   "cell_type": "markdown",
   "metadata": {},
   "source": [
    "e. Complete the simulation code in the template below, incorporating the actual time a vehicle requires for picking up a tote and delivering it to the buffer. Confirm that your simulations produce the same throughput and flow time as in your calculations.\n",
    "\n",
    "Note: the previously defined function processes remain unchanged, only the Vehicle and model need to be redefined."
   ]
  },
  {
   "cell_type": "code",
   "execution_count": 8,
   "metadata": {},
   "outputs": [
    {
     "name": "stdout",
     "output_type": "stream",
     "text": [
      "tote =   1000;  Entrytime =  70559.3851;  Column = 20;  Mean throughput =0.014168  Mean flowtime = 37.0335\n",
      "simulation has ended\n"
     ]
    }
   ],
   "source": [
    "# =================================\n",
    "# Vehicle definition\n",
    "# =================================\n",
    "@process\n",
    "def Vehicle(env, c_in, c_out, lv, dv, vmaxv, av):\n",
    "    def t_total(i):\n",
    "        x = dv * (i+1)\n",
    "\n",
    "        if x <= vmaxv**2/av:\n",
    "            t = 4 * math.sqrt(x/av) + 2*lv\n",
    "        else:\n",
    "            t = 2*(vmaxv/av + x/vmaxv) + 2*lv\n",
    "    \n",
    "        return t\n",
    "\n",
    "    while True:\n",
    "        tote = yield env.execute(c_in.receive())\n",
    "        \n",
    "        tp = t_total(tote.column)\n",
    "        \n",
    "        yield env.timeout(tp)\n",
    "        yield env.execute(c_out.send(tote))\n",
    "\n",
    "# =================================\n",
    "# Main\n",
    "# =================================\n",
    "def model():\n",
    "    # Variables \n",
    "    arrive = 70.0             # inter arrival time of requests\n",
    "    depth  = 55               # the number of columns\n",
    "    lv = 3.0                  # time to load/unload the vehicle\n",
    "    dv = 0.5                  # unit width clearance\n",
    "    vmaxv = 1.5               # maximum velocity of the vehicle\n",
    "    av = 1.0                  # acceleration/deceleration of the vehicle\n",
    "    \n",
    "    number_of_orders = 1000    # the number of orders to process\n",
    "    \n",
    "    env = Environment()\n",
    "    a = Channel(env)\n",
    "    b = Channel(env)\n",
    "    c = Channel(env)\n",
    "    G = Generator(env, a, arrive, depth)\n",
    "    D = Demand_Buffer(env, a, b)\n",
    "    V = Vehicle(env, b, c, lv, dv, vmaxv, av)\n",
    "    E = Exit(env, c, number_of_orders)\n",
    "    env.run(until=E)\n",
    "    print (\"simulation has ended\")\n",
    "\n",
    "# =================================\n",
    "# Main\n",
    "# =================================\n",
    "model()"
   ]
  },
  {
   "cell_type": "markdown",
   "metadata": {},
   "source": [
    "f.  Run your simulation at least 10 times. What is the range of outcomes for the flow time? Determine (roughly, by trial and error) the number of orders required to get a good estimate for the flow time in just one simulation run (first three **non-zero** digits are correct)."
   ]
  },
  {
   "cell_type": "markdown",
   "metadata": {},
   "source": [
    "Answer:\n",
    "\n",
    "|       1 |       2 |       3 |       4 |       5 |       6 |       7 |       8 |       9 |      10 |\n",
    "| ------- | ------- | ------- | ------- | ------- | ------- | ------- | ------- | ------- | ------- |\n",
    "| 38.9737 | 36.5200 | 35.6419 | 37.7311 | 37.5600 | 36.4775 | 35.8370 | 37.2213 | 40.5685 | 37.9294 |\n",
    "\n",
    "The range between the results is max - min = 40.5685 - 36.5200 = 4.0485\n",
    "\n",
    "The number of orders required to get a good estimate for the flow time in just one simulation run is 500000 from here the first three digits match the analytical result."
   ]
  },
  {
   "cell_type": "markdown",
   "metadata": {},
   "source": [
    "## 6.5 Exercise 5: Lift as two stage machine (5 points)\n",
    "In the previous exercises we focussed on modeling a tier. In exercises 5-7 we focus on modeling the Buffer and Lift, starting with the Lift. We model the Lift as a machine, which repeatedly does the following: request a destination tier, move to the desired tier, receive a tote (first delay for $ll$, then communicate), move to the ground floor, deliver the tote (first delay for $ll$, then communicate). In this exercise we assume that moving to the desired tier takes 23.0 seconds, receiving the tote takes 2.0 seconds, moving to the ground floor again takes 23.0 seconds, and delivering the tote also takes 2.0 seconds. Note that, in this case, this implies that the tote should leave the Generator and enter the Lift 25.0 seconds after the Lift has received the destination tier. All of these times are assumed to be deterministic.\n",
    "\n",
    "a. Assume that after 1.0 second the first tote arrives at the generator. Subsequently a tote arrives respectively 10.0, 100.0, and 100.0 seconds after the previous tote has been sent to the Lift. Make a lot-time-diagram indicating how long a newly generated job spends in the Generator, and spends in the Lift. We have provided the function `draw_lot_time_diagram(locations, lots)`, which can be used to draw the lot-time-diagram. Below, lot0 has been given as an example. Use the simulation code below 6.5.b to confirm that your lot-time-diagram is correct. "
   ]
  },
  {
   "cell_type": "markdown",
   "id": "5b865523",
   "metadata": {},
   "source": [
    "Answer:"
   ]
  },
  {
   "cell_type": "code",
   "execution_count": 16,
   "metadata": {},
   "outputs": [
    {
     "data": {
      "application/vnd.jupyter.widget-view+json": {
       "model_id": "45227cb09eb4478d96c96242226dd31d",
       "version_major": 2,
       "version_minor": 0
      },
      "image/png": "[encoded data removed]",
      "text/html": [
       "\n",
       "            <div style=\"display: inline-block;\">\n",
       "                <div class=\"jupyter-widgets widget-label\" style=\"text-align: center;\">\n",
       "                    Figure\n",
       "                </div>\n",
       "                <img src='data:image/png;base64,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' width=640.0/>\n",
       "            </div>\n",
       "        "
      ],
      "text/plain": [
       "Canvas(toolbar=Toolbar(toolitems=[('Home', 'Reset original view', 'home', 'home'), ('Back', 'Back to previous …"
      ]
     },
     "metadata": {},
     "output_type": "display_data"
    }
   ],
   "source": [
    "# =================================\n",
    "# Draw the lot-time-diagram\n",
    "# =================================\n",
    "\n",
    "# Set the locations\n",
    "locations = ('G', 'L')\n",
    "\n",
    "# For each lot, give the entry and exit times at respectively the generator G and lift L.\n",
    "# The first lot is given as an example.\n",
    "lot0 = {'G': [   1,  26], 'L': [  26,  51]}\n",
    "lot1 = {'G': [  36,  76], 'L': [  76, 101]}\n",
    "lot2 = {'G': [ 176, 201], 'L': [ 201, 226]}\n",
    "lot3 = {'G': [ 301, 326], 'L': [ 326, 351]}\n",
    "\n",
    "# Add all lots together\n",
    "lots = [lot0, lot1, lot2, lot3];\n",
    "\n",
    "\n",
    "# Draw the lot-time diagram\n",
    "draw_lot_time_diagram(locations, lots)"
   ]
  },
  {
   "cell_type": "markdown",
   "metadata": {},
   "source": [
    "b. \tStudy the Lift in the simulation code below. Can you describe (in one sentence) what each of its channels, events, and entities represent?\n"
   ]
  },
  {
   "cell_type": "markdown",
   "metadata": {},
   "source": [
    "Answer: \n",
    "\n",
    "```channel1:``` Channel for communicating between the generator and the lift that a product has been generated\n",
    "\n",
    "```channel2:``` Channel for communicating between the generator and the lift that a product has been picked up by the lift \n",
    "\n",
    "```channel3:``` Channel for communicating between the lift and the exit that a product has been delivered by the lift\n",
    "\n",
    "```event1:``` A product has been generated for the lift to pick up, and the lift is requested\n",
    "\n",
    "```event2:``` The lift has arrived at the generator to pick up the product\n",
    "\n",
    "```event3:``` A product has been received by the lift\n",
    "\n",
    "```event4:``` Waiting for the lift to travel to the exit and deliver the product\n",
    "\n",
    "```event5:``` A prodcut has been received by the exit\n",
    "\n",
    "```entity1:``` The tier where the tote/product is which should be processed\n",
    "\n",
    "```entity2:``` The tote which is being processed"
   ]
  },
  {
   "cell_type": "code",
   "execution_count": 17,
   "metadata": {},
   "outputs": [
    {
     "name": "stdout",
     "output_type": "stream",
     "text": [
      "Generator: Informed Lift to go to tier 1 at time 1.0\n",
      "Generator: Tote has completely left the Generator and enteredthe Lift at time 26.0\n",
      "Generator: Informed Lift to go to tier 1 at time 51.0\n",
      "Exit: Tote has completely left the Lift and has been received by the Exit at time 51.0\n",
      "Generator: Tote has completely left the Generator and enteredthe Lift at time 76.0\n",
      "Exit: Tote has completely left the Lift and has been received by the Exit at time 101.0\n",
      "Generator: Informed Lift to go to tier 1 at time 176.0\n",
      "Generator: Tote has completely left the Generator and enteredthe Lift at time 201.0\n",
      "Exit: Tote has completely left the Lift and has been received by the Exit at time 226.0\n",
      "Generator: Informed Lift to go to tier 1 at time 301.0\n",
      "Generator: Tote has completely left the Generator and enteredthe Lift at time 326.0\n",
      "Exit: Tote has completely left the Lift and has been received by the Exit at time 351.0\n",
      "simulation has ended\n"
     ]
    }
   ],
   "source": [
    "# =================================\n",
    "# Tote definition\n",
    "# =================================\n",
    "@dataclass\n",
    "class Tote:\n",
    "    entrytime: float = 0\n",
    "    tier: int = 0\n",
    "\n",
    "# =================================\n",
    "# Generator\n",
    "# =================================\n",
    "@process\n",
    "def Generator(env, c1, c2):\n",
    "    delays=[1.0, 10.0, 100.0, 100.0]\n",
    "    while len(delays)>0:\n",
    "        yield env.timeout(delays[0])\n",
    "        delays = delays[1:]\n",
    "        tier = 1\n",
    "        yield env.execute(c1.send(tier))\n",
    "        print(f\"Generator: Informed Lift to go to tier {tier} at time {env.now:3.1f}\");\n",
    "        x = Tote(entrytime = env.now, tier = tier)\n",
    "        yield env.execute(c2.send(x))\n",
    "        print(f\"Generator: Tote has completely left the Generator and entered \"\n",
    "              f\"the Lift at time {env.now:3.1f}\")\n",
    "    yield env.timeout(100.0)\n",
    "\n",
    "\n",
    "# =================================\n",
    "# Lift\n",
    "# =================================\n",
    "@process\n",
    "def Lift(env, channel1, channel2, channel3, ll):\n",
    "    while True:\n",
    "        \n",
    "        event1 = channel1.receive()\n",
    "        entity1 = yield env.execute(event1)\n",
    "        \n",
    "        event2 = env.timeout(23.0+ll)\n",
    "        yield event2\n",
    "        \n",
    "        event3 = channel2.receive()\n",
    "        entity2 = yield env.execute(event3)\n",
    "        \n",
    "        event4 = env.timeout(23.0+ll)\n",
    "        yield event4\n",
    "        \n",
    "        event5 = channel3.send(entity2)\n",
    "        yield env.execute(event5)\n",
    "    \n",
    "# =================================\n",
    "# Exit \n",
    "# =================================\n",
    "@process\n",
    "def Exit(env, c_in):\n",
    "    while True:\n",
    "        x = yield env.execute(c_in.receive())\n",
    "        print(f\"Exit: Tote has completely left the Lift and has been received \"\n",
    "              f\"by the Exit at time {env.now:3.1f}\");\n",
    "\n",
    "# =================================\n",
    "# Model\n",
    "# =================================\n",
    "def model():\n",
    "    # Variables\n",
    "    ll = 2.0  # time to load/unload the lift\n",
    "    \n",
    "    env = Environment()\n",
    "    a = Channel(env)\n",
    "    b = Channel(env)\n",
    "    c = Channel(env)\n",
    "    G = Generator(env, a, b)\n",
    "    L = Lift(env, a, b, c, ll)\n",
    "    E = Exit(env, c)\n",
    "    env.run()\n",
    "    print (\"simulation has ended\")\n",
    "\n",
    "# =================================\n",
    "# Main\n",
    "# =================================\n",
    "model()"
   ]
  },
  {
   "cell_type": "markdown",
   "metadata": {},
   "source": [
    "## 6.6 Exercise 6: Buffer with multiple tiers (10 points)\n",
    "Every tier has a buffer location of finite capacity $bc$. In this exercise, these parallel finite buffer locations are modelled as one Buffer model."
   ]
  },
  {
   "cell_type": "markdown",
   "metadata": {},
   "source": [
    "a. Study the simulation code below. Can you describe (concisely) why the events of the buffer are modelled the way they are:\n",
    "\n",
    "    events1: ...\n",
    "    event2: ...\n",
    "    event3: ...\n",
    "\n",
    "and can you explain what happens when an event occurs:\n",
    "\n",
    "    events1: ...\n",
    "    event2: ...\n",
    "    event3: ..."
   ]
  },
  {
   "cell_type": "markdown",
   "metadata": {},
   "source": [
    "Answer:\n",
    "\n",
    "Why a they modelled as such:\n",
    "\n",
    "```events1:``` This is a list with an event for every tier, because there are multiple tiers which all have their own buffers.\n",
    "\n",
    "```event2:``` This is a single event because the lift can only pick up one product at a time. This event is used to communicate between the buffer and the lift that a product is ready to be picked up and thus requesting the lift to travel to the buffer location.\n",
    "\n",
    "```event3:``` This is a single event because the lift can only pick up one product at a time. This event is used to communicate between the buffer and the lift that a product has been picked up and thus the buffer request the lift to pick up the next product.\n",
    "\n",
    "What happens:\n",
    "\n",
    "```events1:``` A list with an event for every tier, when the event occurs for a specific tier a product is received from the generator into the buffer of that tier\n",
    "\n",
    "```event2:``` The lift is requested to pick up the next product from a buffer\n",
    "\n",
    "```event3:``` A product is send from the buffer to the lift\n",
    "\n"
   ]
  },
  {
   "cell_type": "code",
   "execution_count": 11,
   "metadata": {},
   "outputs": [
    {
     "name": "stdout",
     "output_type": "stream",
     "text": [
      "Generator 0: Sending tote to Buffer completed at time 0.0\n",
      "Generator 1: Sending tote to Buffer completed at time 1.0\n",
      "Generator 0: Sending tote to Buffer completed at time 25.0\n",
      "Exit: Tote has completely left the Lift and has been received by the Exit at time 50.0\n",
      "Generator 1: Sending tote to Buffer completed at time 75.0\n",
      "Exit: Tote has completely left the Lift and has been received by the Exit at time 100.0\n",
      "Generator 0: Sending tote to Buffer completed at time 125.0\n",
      "Exit: Tote has completely left the Lift and has been received by the Exit at time 150.0\n",
      "Generator 1: Sending tote to Buffer completed at time 175.0\n",
      "Exit: Tote has completely left the Lift and has been received by the Exit at time 200.0\n",
      "Generator 0: Sending tote to Buffer completed at time 225.0\n",
      "Exit: Tote has completely left the Lift and has been received by the Exit at time 250.0\n",
      "Generator 1: Sending tote to Buffer completed at time 275.0\n",
      "Exit: Tote has completely left the Lift and has been received by the Exit at time 300.0\n",
      "Exit: Tote has completely left the Lift and has been received by the Exit at time 350.0\n",
      "Exit: Tote has completely left the Lift and has been received by the Exit at time 400.0\n",
      "simulation has ended\n"
     ]
    }
   ],
   "source": [
    "# =================================\n",
    "# Generator\n",
    "# =================================\n",
    "@process\n",
    "def Generator(env, c_out, tier):\n",
    "    delays=[1.0*tier, 10.0, 100.0, 100.0]\n",
    "    while len(delays)>0:\n",
    "        yield env.timeout(delays[0])\n",
    "        delays = delays[1:]\n",
    "        x = Tote(entrytime = env.now, tier = tier)\n",
    "        yield env.execute(c_out.send(x))\n",
    "        print(f\"Generator {tier:d}: Sending tote to Buffer completed at \"\n",
    "              f\"time {env.now:3.1f}\")\n",
    "    yield env.timeout(100.0)\n",
    "    \n",
    "# =================================\n",
    "# Buffer\n",
    "# =================================\n",
    "@process\n",
    "def Buffer(env, channels1, channel2, channel3, bc, Levels):\n",
    "    xs = []\n",
    "    n = [0] * Levels\n",
    "    lift_called = False\n",
    "    while True:\n",
    "        # Define events\n",
    "        events1 = [channels1[tier].receive() if n[tier] < bc else None for tier in range(Levels)]\n",
    "        if not lift_called:\n",
    "            event3 = None\n",
    "            if len(xs) > 0:\n",
    "                x_sending = xs[0]\n",
    "                event2 = channel2.send(x_sending.tier)\n",
    "            else:\n",
    "                event2 = None\n",
    "        else:\n",
    "            event2 = None\n",
    "            event3 = channel3.send(x_sending)\n",
    "        \n",
    "        # Execute one of the events\n",
    "        events = events1  + [event2] + [event3]\n",
    "        yield env.select(*events)    \n",
    "        \n",
    "        # Check which event is executed\n",
    "        for tier in range(Levels):\n",
    "            if selected(events1[tier]):\n",
    "                x_received = events1[tier].entity\n",
    "                xs = xs + [x_received]\n",
    "                n[tier] = n[tier] + 1\n",
    "            \n",
    "        if selected(event2):\n",
    "            lift_called = True\n",
    "           \n",
    "        if selected(event3):\n",
    "            xs = xs[1:]\n",
    "            n[x_sending.tier] = n[x_sending.tier] - 1\n",
    "            lift_called = False\n",
    "            \n",
    "            \n",
    "# =================================\n",
    "# Model\n",
    "# =================================\n",
    "def model():\n",
    "    # Variables\n",
    "    ll = 2.0  # time to load/unload the lift\n",
    "    bc = 1    # buffer capacity\n",
    "    Levels = 2 # the number of tiers\n",
    "    \n",
    "    env = Environment()\n",
    "    a = [Channel(env) for tier in range(Levels)]\n",
    "    b = Channel(env)\n",
    "    c = Channel(env)\n",
    "    d = Channel(env)\n",
    "    Gs = [Generator(env, a[tier], tier) for tier in range(Levels)] \n",
    "    B = Buffer(env, a, b, c, bc, Levels)\n",
    "    L = Lift(env, b, c, d, ll)\n",
    "    E = Exit(env, d)\n",
    "    env.run(until=10000000)\n",
    "    print (\"simulation has ended\")\n",
    "\n",
    "# =================================\n",
    "# Main\n",
    "# =================================\n",
    "model()"
   ]
  },
  {
   "cell_type": "markdown",
   "metadata": {},
   "source": [
    "b. Consider two tiers ($Levels = 2$), and assume that for tier $i \\in \\{0, Levels - 1\\}$ the first tote arrives after $i$ seconds (for two tiers: after 0.0 for tier 0 and after 1.0 for tier 1). Subsequently a tote arrives respectively 10.0, 100.0, and 100.0 seconds after the completion of sending its predecessor to the buffer. Make a lot-time-diagram indicating how long a newly generated job spends in which Generator (G0 or G1), in the Buffer, and spends in the Lift. \n",
    "\n",
    "Answer: "
   ]
  },
  {
   "cell_type": "code",
   "execution_count": 13,
   "metadata": {},
   "outputs": [
    {
     "data": {
      "application/vnd.jupyter.widget-view+json": {
       "model_id": "d1ec265c3cc94a178b8b2cf5866d9336",
       "version_major": 2,
       "version_minor": 0
      },
      "image/png": "[encoded data removed]",
      "text/html": [
       "\n",
       "            <div style=\"display: inline-block;\">\n",
       "                <div class=\"jupyter-widgets widget-label\" style=\"text-align: center;\">\n",
       "                    Figure\n",
       "                </div>\n",
       "                <img src='data:image/png;base64,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' width=640.0/>\n",
       "            </div>\n",
       "        "
      ],
      "text/plain": [
       "Canvas(toolbar=Toolbar(toolitems=[('Home', 'Reset original view', 'home', 'home'), ('Back', 'Back to previous …"
      ]
     },
     "metadata": {},
     "output_type": "display_data"
    }
   ],
   "source": [
    "# =================================\n",
    "# Draw the lot-time-diagram\n",
    "# =================================\n",
    "\n",
    "# Set the locations\n",
    "locations = ('G0', 'G1', 'B', 'L')\n",
    "\n",
    "# For each lot, give the entry and exit times at generators G0 and G1, the buffer B, and lift L.\n",
    "lot0 = { 'G0':[   0,   0 ], 'B':[   0,  25 ], 'L':[  25,  50 ] };\n",
    "lot1 = { 'G1':[   1,   1 ], 'B':[   1,  75 ], 'L':[  75, 100 ] };\n",
    "lot2 = { 'G0':[  10,  25 ], 'B':[  25, 125 ], 'L':[ 125, 150 ] };\n",
    "lot3 = { 'G1':[  11,  75 ], 'B':[  75, 175 ], 'L':[ 175, 200 ] };\n",
    "lot4 = { 'G0':[ 110, 125 ], 'B':[ 125, 225 ], 'L':[ 225, 250 ] };\n",
    "lot5 = { 'G1':[ 111, 175 ], 'B':[ 175, 275 ], 'L':[ 275, 300 ] };\n",
    "lot6 = { 'G0':[ 210, 225 ], 'B':[ 225, 325 ], 'L':[ 325, 350 ] };\n",
    "lot7 = { 'G1':[ 211, 275 ], 'B':[ 275, 375 ], 'L':[ 375, 400 ] };\n",
    "\n",
    "# Add all lots together\n",
    "lots = [lot0, lot1, lot2, lot3, lot4, lot5, lot6, lot7];\n",
    "\n",
    "# Draw the lot-time diagram\n",
    "draw_lot_time_diagram(locations, lots)"
   ]
  },
  {
   "cell_type": "markdown",
   "metadata": {},
   "source": [
    "c. Suppose that we want the system to be able to handle priority orders, can you modify the Buffer model to make the lift pick up totes with higher priority first? The generator generates totes with a `tote.priority` property, for which priority 1 is high priority, and priority 2 is low priority. Only the Buffer model needs to be modified, the Tote, Generator and Exit models have already been modified. Give the model of the buffer, and the output log when you run it to show that the buffer is modelled correctly.\n",
    "\n",
    "**Note: in the exercise 6.7 onwards, the Buffer without priorities will be used.**"
   ]
  },
  {
   "cell_type": "code",
   "execution_count": null,
   "metadata": {},
   "outputs": [],
   "source": [
    "# =================================\n",
    "# Tote definition\n",
    "# =================================\n",
    "@dataclass\n",
    "class Tote:\n",
    "    entrytime: float = 0\n",
    "    tier: int = 0\n",
    "    priority: int = 0\n",
    "        \n",
    "# =================================\n",
    "# Generator\n",
    "# =================================\n",
    "@process\n",
    "def Generator(env, c_out, tier):\n",
    "    delays=[1.0*tier, 1.0, 1.0, 1.0]\n",
    "    priorities=[2, tier+1, tier+1, 1]\n",
    "    while len(delays)>0:\n",
    "        yield env.timeout(delays[0])\n",
    "        delays = delays[1:]\n",
    "        priority = priorities[0]\n",
    "        priorities = priorities[1:]\n",
    "        x = Tote(entrytime = env.now, tier = tier, priority = priority)\n",
    "        yield env.execute(c_out.send(x))\n",
    "        print(f\"Generator {tier:d}: Sending tote with priotity {priority} to Buffer completed at \"\n",
    "              f\"time {env.now:3.1f}\")\n",
    "    yield env.timeout(100.0)\n",
    "    \n",
    "# =================================\n",
    "# Buffer\n",
    "# =================================\n",
    "@process\n",
    "def Buffer(env, channels1, channel2, channel3, bc, Levels):\n",
    "    xs = # ... \n",
    "    n = [0] * Levels\n",
    "    lift_called = False\n",
    "    while True:\n",
    "        # Define events\n",
    "        events1 = [channels1[tier].receive() if n[tier] < bc else None for tier in range(Levels)]\n",
    "        if not lift_called:\n",
    "            event3 = None\n",
    "            # ...\n",
    "            # ...\n",
    "            # ...\n",
    "            # ...\n",
    "            # ...\n",
    "        else:\n",
    "            event2 = None\n",
    "            event3 = channel3.send(x_sending)\n",
    "        \n",
    "        # Execute one of the events\n",
    "        events = events1  + [event2] + [event3]\n",
    "        yield env.select(*events)    \n",
    "        \n",
    "        # Check which event is executed\n",
    "        for tier in range(Levels):\n",
    "            if selected(events1[tier]):\n",
    "                x_received = events1[tier].entity\n",
    "                # ...\n",
    "                # ...\n",
    "                n[tier] = n[tier] + 1\n",
    "            \n",
    "        if selected(event2):\n",
    "            lift_called = True\n",
    "           \n",
    "        if selected(event3):\n",
    "            # ...\n",
    "            # ...\n",
    "            n[x_sending.tier] = n[x_sending.tier] - 1\n",
    "            lift_called = False\n",
    "\n",
    "# =================================\n",
    "# Exit \n",
    "# =================================\n",
    "@process\n",
    "def Exit(env, c_in):\n",
    "    while True:\n",
    "        x = yield env.execute(c_in.receive())\n",
    "        print(f\"Exit: Tote with priority {x.priority} has completely left the Lift and has been received \"\n",
    "              f\"by the Exit at time {env.now:3.1f}\");            \n",
    "            \n",
    "# =================================\n",
    "# Model\n",
    "# =================================\n",
    "def model():\n",
    "    # Variables\n",
    "    ll = 2.0  # time to load/unload the lift\n",
    "    bc = 1    # buffer capacity\n",
    "    Levels = 2 # the number of tiers\n",
    "    \n",
    "    env = Environment()\n",
    "    a = [Channel(env) for tier in range(Levels)]\n",
    "    b = Channel(env)\n",
    "    c = Channel(env)\n",
    "    d = Channel(env)\n",
    "    Gs = [Generator(env, a[tier], tier) for tier in range(Levels)] \n",
    "    B = Buffer(env, a, b, c, bc, Levels)\n",
    "    L = Lift(env, b, c, d, ll)\n",
    "    E = Exit(env, d)\n",
    "    env.run(until=10000000)\n",
    "    print (\"simulation has ended\")\n",
    "\n",
    "# =================================\n",
    "# Main\n",
    "# =================================\n",
    "model()"
   ]
  },
  {
   "cell_type": "markdown",
   "metadata": {},
   "source": [
    "## 6.7 Exercise 7: Lift accurately modelled (5 points)\n",
    "\n",
    "Assume that the Lift starts from the ground floor. If it has to go to tier $i \\in \\{0, Levels - 1\\}$, it needs to travel a\n",
    "distance $dl \\cdot (i + 1)$, pick up the tote, travel back, and deliver the tote at the ground floor. For traveling the required distance, the vehicle first goes with a constant acceleration $al$ *m/s$^2$* until it reaches its maximum velocity $vmaxl$, then it moves with this velocity and decelerates with a constant deceleration $al$ to approach its destination tier. If the tier is located too close to the ground floor, it is possible that the Lift will not reach its maximum speed. Loading and unloading a tote both take $ll$ seconds.\n",
    "\n",
    "**Note: from here onwards, the Buffer without priorities will be used.**"
   ]
  },
  {
   "cell_type": "markdown",
   "metadata": {},
   "source": [
    "a. The time the lift is moving can be calculated similarly to how it was done for the vehicle in Exercise 4. Note that it takes the Lift half the time to move to pick the tote up, and then half the time to move back to drop the tote off. Using this information, determine (analytically) the time $t_{total}(i)$ it takes the Lift to pick up and drop off the item in terms of $ i $, $ dl $, $ al $, $ ll $, and $ vmaxl $."
   ]
  },
  {
   "cell_type": "markdown",
   "metadata": {},
   "source": [
    "\n",
    "Answer: ...\n",
    "\n",
    "$\n",
    "t_{total}(i) =\n",
    "    \\begin{cases}\n",
    "      ... \\ , & \\text{for} \\ ... \\leq \\ ... \\ , \\\\\n",
    "      ... \\ , & \\text{for} \\ ... >    \\ ... \\ .\n",
    "    \\end{cases}\n",
    "$\n"
   ]
  },
  {
   "cell_type": "markdown",
   "metadata": {},
   "source": [
    "b. Consider two tiers ($Levels = 2$), and assume that for tier $i \\in \\{0, Levels - 1\\}$ the first tote arrives after $i$ seconds (for two tiers: after 0.0 for tier 0 and after 1.0 for tier 1). Subsequently a tote arrives respectively 10.0, 100.0, and 100.0 seconds after the completion of sending its predecessor to the buffer. Make a lot-time-diagram indicating how long a newly generated job spends in which Generator, in the Buffer, and spends in the Lift."
   ]
  },
  {
   "cell_type": "code",
   "execution_count": null,
   "metadata": {},
   "outputs": [],
   "source": [
    "# =================================\n",
    "# Draw the lot-time-diagram\n",
    "# =================================\n",
    "\n",
    "# Set the locations\n",
    "locations = ('G0', 'G1', 'B', 'L')\n",
    "\n",
    "# For each lot, give the entry and exit times at generators G0 and G1, the buffer B, and lift L.\n",
    "lot0 = { ... };\n",
    "lot1 = { ... };\n",
    "lot2 = { ... };\n",
    "lot3 = { ... };\n",
    "lot4 = { ... };\n",
    "lot5 = { ... };\n",
    "lot6 = { ... };\n",
    "lot7 = { ... };\n",
    "\n",
    "# Add all lots together\n",
    "lots = [lot0, lot1, lot2, lot3, lot4, lot5, lot6, lot7];\n",
    "\n",
    "# Draw the lot-time diagram\n",
    "draw_lot_time_diagram(locations, lots)"
   ]
  },
  {
   "cell_type": "markdown",
   "metadata": {},
   "source": [
    "c. Complete the Lift in the simulation code in the template below, and confirm that your simulations produce the correct results, i.e., in correspondence with your lot-time-diagram."
   ]
  },
  {
   "cell_type": "code",
   "execution_count": null,
   "metadata": {},
   "outputs": [],
   "source": [
    "# =================================\n",
    "# Tote definition\n",
    "# =================================\n",
    "@dataclass\n",
    "class Tote:\n",
    "    entrytime: float = 0\n",
    "    tier: int = 0\n",
    "\n",
    "# =================================\n",
    "# Generator\n",
    "# =================================\n",
    "@process\n",
    "def Generator(env, c_out, tier):\n",
    "    delays=[1.0*tier, 10.0, 100.0, 100.0]\n",
    "    while len(delays)>0:\n",
    "        yield env.timeout(delays[0])\n",
    "        delays = delays[1:]\n",
    "        x = Tote(entrytime = env.now, tier = tier)\n",
    "        yield env.execute(c_out.send(x))\n",
    "        print(f\"Generator {tier:d}: Sending tote to Buffer completed at \"\n",
    "              f\"time {env.now:3.1f}\")\n",
    "    yield env.timeout(100.0)\n",
    "\n",
    "# =================================\n",
    "# Lift\n",
    "# =================================\n",
    "@process\n",
    "def Lift(env, channel1, channel2, channel3, ll, dl, vmaxl, al):\n",
    "    while True:\n",
    "        \n",
    "        event1 = channel1.receive()\n",
    "        entity1 = yield env.execute(event1)\n",
    "        \n",
    "        t_total = ...\n",
    "        \n",
    "        event2 = env.timeout(t_total/2)\n",
    "        yield event2\n",
    "        \n",
    "        event3 = channel2.receive()\n",
    "        entity2 = yield env.execute(event3)\n",
    "        \n",
    "        event4 = env.timeout(t_total/2)\n",
    "        yield event4\n",
    "        \n",
    "        event5 = channel3.send(entity2)\n",
    "        yield env.execute(event5)\n",
    "\n",
    "# =================================\n",
    "# Buffer\n",
    "# =================================\n",
    "@process\n",
    "def Buffer(env, channels1, channel2, channel3, bc, Levels):\n",
    "    xs = []\n",
    "    n = [0] * Levels\n",
    "    lift_called = False\n",
    "    while True:\n",
    "        # Define events\n",
    "        events1 = [channels1[tier].receive() if n[tier] < bc else None for tier in range(Levels)]\n",
    "        if not lift_called:\n",
    "            event3 = None\n",
    "            if len(xs) > 0:\n",
    "                x_sending = xs[0]\n",
    "                event2 = channel2.send(x_sending.tier)\n",
    "            else:\n",
    "                event2 = None\n",
    "        else:\n",
    "            event2 = None\n",
    "            event3 = channel3.send(x_sending)\n",
    "        \n",
    "        # Execute one of the events\n",
    "        events = events1  + [event2] + [event3]\n",
    "        yield env.select(*events)    \n",
    "        \n",
    "        # Check which event is executed\n",
    "        for tier in range(Levels):\n",
    "            if selected(events1[tier]):\n",
    "                x_received = events1[tier].entity\n",
    "                xs = xs + [x_received]\n",
    "                n[tier] = n[tier] + 1\n",
    "            \n",
    "        if selected(event2):\n",
    "            lift_called = True\n",
    "           \n",
    "        if selected(event3):\n",
    "            xs = xs[1:]\n",
    "            n[x_sending.tier] = n[x_sending.tier] - 1\n",
    "            lift_called = False\n",
    "\n",
    "@process\n",
    "def Exit(env, c_in):\n",
    "    while True:\n",
    "        x = yield env.execute(c_in.receive())\n",
    "        print(f\"Exit: Tote has completely left the Lift and has been received \"\n",
    "                 f\"by the Exit at time {env.now:3.1f}\")\n",
    "\n",
    "# =================================\n",
    "# Model\n",
    "# =================================\n",
    "def model():\n",
    "    # Variables\n",
    "    ll = 2.0        # time to load/unload the lift\n",
    "    bc = 1          # buffer capacity\n",
    "    Levels = 2      # the number of tiers\n",
    "    dl = 0.8        # unit height clearance\n",
    "    vmaxl = 5.0     # maximum velocity of lift\n",
    "    al = 7.0        # acceleration/deceleration of lift\n",
    "    \n",
    "    env = Environment()\n",
    "    a = [Channel(env) for tier in range(Levels)] # a channel for each tier, each sending totes\n",
    "    b = Channel(env)  # for sending totes\n",
    "    c = Channel(env)  # for calling the lift\n",
    "    d = Channel(env)  # for sending totes\n",
    "    Gs = [Generator(env, a[tier], tier) for tier in range(Levels)] \n",
    "    B = Buffer(env, a, b, c, bc, Levels)\n",
    "    L = Lift(env, b, c, d, ll, dl, vmaxl, al)\n",
    "    E = Exit(env, d)\n",
    "    env.run()\n",
    "    print (\"simulation has ended\")\n",
    "\n",
    "    \n",
    "# =================================\n",
    "# Main\n",
    "# =================================\n",
    "model()"
   ]
  },
  {
   "cell_type": "markdown",
   "metadata": {},
   "source": [
    "## 6.8 Exercise 8: Entire system (10 points)\n",
    "In the previous exercises we developed and tested each process individually. Now it is time to combine all processes into one model."
   ]
  },
  {
   "cell_type": "markdown",
   "metadata": {},
   "source": [
    "a. Determine the (total) arrival rate of orders for a system with $Levels$ tiers, where for each tier orders arrive with a mean inter arrival time of $arrive$."
   ]
  },
  {
   "cell_type": "markdown",
   "metadata": {},
   "source": [
    "Answer: ...\n",
    "\n"
   ]
  },
  {
   "cell_type": "markdown",
   "metadata": {},
   "source": [
    "b. Complete the simulation code in the template below by substituting the code for the processes as you derived in Exercises 1, 2, 4, 6, and 7. Note that the type tote has been extended in comparison with Exercise 1, so extra code is required in the Generator process to include the tier.\n",
    "\n",
    "Verify that the throughput in your simulations matches with the start rate you determined. Verify that totes reach the exit from each tier. Also verify that totes are generated from each column. Give the determined throughput and min and max values for column and tier.\n",
    "\n",
    "If you were not able to complete the Vehicle and Lift models, you can use the simplified models from respectively Exercises 3 and 5, with a total processing time $t_{vehicle, total} = 10 + \\frac{depth}{3}$ for the vehicle, and a total processing time $t_{lift, total} = 5 + \\frac{Level}{5}$. You can do the same for the following exercises."
   ]
  },
  {
   "cell_type": "markdown",
   "metadata": {},
   "source": [
    "Answer: ...\n",
    "\n"
   ]
  },
  {
   "cell_type": "code",
   "execution_count": null,
   "metadata": {},
   "outputs": [],
   "source": [
    "# =================================\n",
    "# Tote\n",
    "# =================================\n",
    "@dataclass\n",
    "class Tote:\n",
    "    entrytime: float = 0.0\n",
    "    column: int = 0\n",
    "    tier: int  = 0\n",
    "        \n",
    "        \n",
    "# =================================\n",
    "# Generator from Exercise 1 (modified to include tier) \n",
    "# =================================\n",
    "@process\n",
    "def Generator(env, c_out, arrive, depth, tier):\n",
    "    #.....\n",
    "    #.....\n",
    "    while True:\n",
    "        x = Tote(entrytime = env.now, column = ..., tier = tier)\n",
    "        yield env.execute(c_out.send(x))\n",
    "        delay = #.....\n",
    "        yield env.timeout(delay)\n",
    "\n",
    "        \n",
    "# =================================\n",
    "# Demand Buffer from Exercise 2\n",
    "# =================================\n",
    "@process\n",
    "def Demand_Buffer(env, c_in, c_out):\n",
    "    xs = [] # list of totes\n",
    "    #.....\n",
    "\n",
    "    \n",
    "# =================================\n",
    "# Vehicle from Exercise 4\n",
    "# =================================\n",
    "@process\n",
    "def Vehicle(env, c_in, c_out, lv, dv, vmaxv, av):\n",
    "    #.....\n",
    "\n",
    "    \n",
    "# =================================\n",
    "# Lift from Exercise 7\n",
    "# =================================\n",
    "@process\n",
    "def Lift(env, channel1, channel2, channel3, ll, dl, vmaxl, al):\n",
    "    #.....\n",
    "\n",
    "    \n",
    "# =================================\n",
    "# Buffer from Exercise 6a\n",
    "# =================================\n",
    "@process\n",
    "def Buffer(env, channels1, channel2, channel3, bc, Levels):\n",
    "    xs = []\n",
    "    n = [0] * Levels\n",
    "    while True:\n",
    "        events1 = [channels1[tier].receive() if n[tier] < bc else None for tier in range(Levels)]\n",
    "        event2 = channel2.send(xs[0].tier) if len(xs) > 0 else None\n",
    "        event3 = channel3.send(xs[0]) if len(xs) > 0 else None\n",
    "        events = events1 + [event2] + [event3]\n",
    "\n",
    "        yield env.select(*events)\n",
    "        \n",
    "        for tier in range(Levels):\n",
    "            if selected(events1[tier]):\n",
    "                x = events1[tier].entity\n",
    "                xs = xs + [x]\n",
    "                n[tier] = n[tier] + 1\n",
    "        \n",
    "        if selected(event2):\n",
    "            pass\n",
    "            \n",
    "        if selected(event3):\n",
    "            tier = xs[0].tier \n",
    "            xs = xs[1:]\n",
    "            n[tier] = n[tier] - 1\n",
    "      \n",
    "    \n",
    "# =================================\n",
    "# Exit\n",
    "# =================================\n",
    "@process\n",
    "def Exit(env, c_in, number_of_orders):\n",
    "    mphi = 0.0\n",
    "    for i in range(1, number_of_orders + 1):\n",
    "        x = yield env.execute(c_in.receive())\n",
    "        mphi = (i - 1) / i * mphi + (env.now - x.entrytime) / i\n",
    "        mthi = i/env.now\n",
    "    return mphi, mthi \n",
    "\n",
    "\n",
    "        \n",
    "# =================================\n",
    "# GDV Submodel (Generator + DemandBuffer  + Vehicle)\n",
    "# =================================\n",
    "def GDV(env, c_out, arrive, depth, tier, lv, dv, vmaxv, av):\n",
    "    a = Channel(env)\n",
    "    b = Channel(env)\n",
    "    G = Generator(env, a, arrive, depth, tier)\n",
    "    D = Demand_Buffer(env, a, b)\n",
    "    V = Vehicle(env, b, c_out, lv, dv, vmaxv, av)\n",
    "\n",
    "    \n",
    "# =================================\n",
    "# Model\n",
    "# =================================\n",
    "def model(Levels, depth, arrive, bc, number_of_orders):\n",
    "    # Variables\n",
    "    lv = 3.0                   # time to load/unload the vehicle\n",
    "    dv = 0.5                   # unit width clearance\n",
    "    vmaxv = 1.5                # maximum velocity of the vehicle\n",
    "    av = 1.0                   # acceleration/deceleration of the vehicle\n",
    "    ll = 2.0                   # time to load/unload the lift\n",
    "    dl = 0.8                   # unit height clearance\n",
    "    vmaxl = 5.0                # maximum velocity of lift\n",
    "    al = 7.0                   # acceleration/deceleration of lift\n",
    "    \n",
    "    env = Environment()\n",
    "    c = [Channel(env) for tier in range(Levels)] \n",
    "    d = Channel(env)  \n",
    "    e = Channel(env)  \n",
    "    f = Channel(env)  \n",
    "    GDVs = [ GDV(env, c[tier], arrive, depth, tier, lv, dv, vmaxv, av)  for tier in range(Levels) ] \n",
    "    B = Buffer(env, c, d, e, bc, Levels)\n",
    "    L = Lift(env, d, e, f, ll, dl, vmaxl, al)\n",
    "    E = Exit(env, f, number_of_orders)\n",
    "    env.run(until=E)\n",
    "    mph, mth = E.value\n",
    "    return mph, mth\n",
    "\n",
    "\n",
    "# =================================\n",
    "# Experiment\n",
    "# =================================\n",
    "def experiment():\n",
    "    Levels = 9                # the number of tiers\n",
    "    depth  = 55               # the number of columns\n",
    "    arrive = 70.0             # inter arrival time of requests\n",
    "    number_of_orders = 10000  # the number of orders to process \n",
    "    bc = 1                    # buffer capacity\n",
    "    \n",
    "    print(f\"--- Experiment {e}: For Levels={Levels}, depth={depth}, arrive={arrive}, bc={bc}, number_of_orders={number_of_orders} --- \")\n",
    "    mph, mth = model(Levels, depth, arrive, bc, number_of_orders)\n",
    "    print(f\"--- Experiment {e}: Mean throughput = {mth:8.6f}; Mean flowtime = {mph:6.4f} ---\")\n",
    "    \n",
    "# =================================\n",
    "# Main\n",
    "# =================================\n",
    "experiment()"
   ]
  },
  {
   "cell_type": "markdown",
   "metadata": {},
   "source": [
    "c. Run your simulation 30 times, and record for each run the resulting average throughput and average flow time.\n",
    "Determine the mean and the standard deviation of both the average throughput and the average flow time for these 30 simulations. Finally, determine a 95% confidence interval for both the average throughput and the average flow time. Give the results as your answer."
   ]
  },
  {
   "cell_type": "markdown",
   "metadata": {},
   "source": [
    "Answer: ...\n",
    "\n"
   ]
  },
  {
   "cell_type": "code",
   "execution_count": null,
   "metadata": {},
   "outputs": [],
   "source": [
    "def experiment():\n",
    "     ...\n",
    "        \n",
    "\n",
    "experiment()"
   ]
  },
  {
   "cell_type": "markdown",
   "metadata": {},
   "source": [
    "## 6.9 Exercise 9: Effect of buffer capacity (10 points)\n",
    "Via computer simulation analyze the impact of the buffer capacity on the throughput and flow time (choose values of $bc$ as 1,2,3,200). For each setting, run your simulations 30 times and determine both mean and standard deviation of the resulting average throughput and average flow time for these 30 simulations, as well as 95% confidence intervals.\n",
    "\n",
    "Please give your results, and describe your findings."
   ]
  },
  {
   "cell_type": "markdown",
   "metadata": {},
   "source": [
    "Answer: ...\n",
    "\n"
   ]
  },
  {
   "cell_type": "markdown",
   "metadata": {},
   "source": [
    "## 6.10 Exercise 10: Looking for the best layout (30 points)\n",
    "Via computer simulation consider 6 different scenarios (see the table below) that correspond to different layouts of the\n",
    "storage facility with a total capacity of 500 totes with different number of tiers and columns.\n",
    "\n",
    "| Scenario | 1 | 2 | 3 | 4| 5 | 6 |\n",
    "| - | - | - | - | - | - | - |\n",
    "| Levels |  2 | 5 | 10 | 20 | 25 | 50 |\n",
    "| Depth | 250 | 100 | 50 | 25 | 20 | 10 |\n",
    "\n",
    "In order to obtain an answer to the questions below: for each scenario, run your simulations 30 times and determine both mean and standard deviation of the resulting average throughput and average flow time for these 30 simulations, as well as 95% confidence intervals."
   ]
  },
  {
   "cell_type": "markdown",
   "metadata": {},
   "source": [
    "a. Just changing the levels and depth, is not enough to determine the maximum achievable throughput of a design. Which parameter of the model should we change if we want to determine the maximum throughput?\n",
    "\n",
    " For each scenario, determine by means of simulation the maximal throughput.\n",
    "\n",
    "What did you change in your model? Give your results including confidence intervals. What do you notice about the flowtime? Can you explain whats happening?\n"
   ]
  },
  {
   "cell_type": "markdown",
   "metadata": {},
   "source": [
    "Answer: ...\n",
    "\n"
   ]
  },
  {
   "cell_type": "markdown",
   "metadata": {},
   "source": [
    "b. Assume a required throughput of 6 totes per minute. Which of the given scenarios are feasible?\n",
    "\n",
    " Again, a change needs to be made to your model if we want to determine if the scenario can handle the required throughput. Modify your model, and compare the resulting flow time for each feasible scenario.\n",
    "\n",
    "What did you change in your model? Give the results including confidence intervals."
   ]
  },
  {
   "cell_type": "markdown",
   "metadata": {},
   "source": [
    "Answer: ...\n",
    "\n"
   ]
  },
  {
   "cell_type": "markdown",
   "metadata": {},
   "source": [
    "c. Based on your outcomes, select a layout that seems the best for you. The report on this step should contain an argument to select the best layout, and should consider if the layout is statistically significantly better than the other layouts. Can you think of other performance indicators that you could use to select the best layout besides the throughput and flow time?\n",
    "\n",
    "\n"
   ]
  },
  {
   "cell_type": "markdown",
   "metadata": {},
   "source": [
    "Answer: ...\n",
    "\n"
   ]
  },
  {
   "cell_type": "markdown",
   "metadata": {},
   "source": [
    "## References\n",
    "[1] G. Marchet, M. Melanci, S. Perotti and E. Tappia, \"Analytical model to estimate performance of autonomous vehicle storage and retrieval systems for product totes\", International Journal of Production Research, vol. 50(24), 7134-7148, 2012."
   ]
  }
 ],
 "metadata": {
  "kernelspec": {
   "display_name": "Python (pychEnv)",
   "language": "python",
   "name": "pychenv"
  },
  "language_info": {
   "codemirror_mode": {
    "name": "ipython",
    "version": 3
   },
   "file_extension": ".py",
   "mimetype": "text/x-python",
   "name": "python",
   "nbconvert_exporter": "python",
   "pygments_lexer": "ipython3",
   "version": "3.11.6"
  }
 },
 "nbformat": 4,
 "nbformat_minor": 5
}
